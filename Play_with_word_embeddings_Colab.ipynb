{
  "nbformat": 4,
  "nbformat_minor": 0,
  "metadata": {
    "kernelspec": {
      "display_name": "Python 3",
      "language": "python",
      "name": "python3"
    },
    "language_info": {
      "codemirror_mode": {
        "name": "ipython",
        "version": 3
      },
      "file_extension": ".py",
      "mimetype": "text/x-python",
      "name": "python",
      "nbconvert_exporter": "python",
      "pygments_lexer": "ipython3",
      "version": "3.7.2"
    },
    "colab": {
      "name": "Play with word embeddings Colab.ipynb",
      "version": "0.3.2",
      "provenance": [],
      "collapsed_sections": [
        "AtE9OW9Z62MY",
        "c0UIqKXc62M6"
      ],
      "toc_visible": true,
      "include_colab_link": true
    }
  },
  "cells": [
    {
      "cell_type": "markdown",
      "metadata": {
        "id": "view-in-github",
        "colab_type": "text"
      },
      "source": [
        "<a href=\"https://colab.research.google.com/github/mallibus/DSS-NLP-challenge/blob/master/Play_with_word_embeddings_Colab.ipynb\" target=\"_parent\"><img src=\"https://colab.research.google.com/assets/colab-badge.svg\" alt=\"Open In Colab\"/></a>"
      ]
    },
    {
      "cell_type": "markdown",
      "metadata": {
        "id": "-y_gYBoNTjKc",
        "colab_type": "text"
      },
      "source": [
        "#Play with Word embeddings\n",
        "<img src=\"http://www.datascienceseed.com/wp-content/uploads/2019/08/embeddings.jpg\" ><br>\n"
      ]
    },
    {
      "cell_type": "code",
      "metadata": {
        "id": "Kl0LeStBPeX8",
        "colab_type": "code",
        "colab": {}
      },
      "source": [
        "import os\n",
        "import numpy as np\n",
        "import pandas as pd"
      ],
      "execution_count": 0,
      "outputs": []
    },
    {
      "cell_type": "markdown",
      "metadata": {
        "id": "Xc_cVvkP62L1",
        "colab_type": "text"
      },
      "source": [
        "#### Parsing the GloVe word-embeddings file\n",
        "You can find the Glove word-embeddings file here http://nlp.stanford.edu/data/glove.6B.zip or here https://drive.google.com/drive/folders/1wvyeiRwYAdypLfrOfIaiwBMPPTzQwKp_ you can find the .txt file already extracted.<br>\n",
        "Let’s parse the unzipped file (a .txt file) to build an index that maps words (as strings) to their vector representation (as number vectors)."
      ]
    },
    {
      "cell_type": "code",
      "metadata": {
        "id": "hmqrp9k362L2",
        "colab_type": "code",
        "outputId": "b4f7509c-f1a8-4b17-e9b0-86eed4dd5b3c",
        "colab": {
          "base_uri": "https://localhost:8080/",
          "height": 33
        }
      },
      "source": [
        "# This is where the glove embedding file is in my drive\n",
        "glove_dir = '/content/drive/My Drive/AIML/Trainings/2019-07-22 Deep Learning UNIGE/LABs/Lab-2/glove.6B'\n",
        "\n",
        "embeddings_index = {}\n",
        "\n",
        "f = open(os.path.join(glove_dir, 'glove.6B.100d.txt'), encoding=\"utf8\") # for windows encoding \"utf8\" works; for linux/ios check\n",
        "\n",
        "# Parse the .txt file to build an index that maps words (as strings) to their vector representation (as number vectors).\n",
        "for line in f:\n",
        "    values = line.split()\n",
        "    word = values[0]\n",
        "    coefs = np.asarray(values[1:], dtype='float32')\n",
        "    embeddings_index[word] = coefs\n",
        "    \n",
        "f.close()\n",
        "print('Found %s word vectors.' % len(embeddings_index))"
      ],
      "execution_count": 4,
      "outputs": [
        {
          "output_type": "stream",
          "text": [
            "Found 400000 word vectors.\n"
          ],
          "name": "stdout"
        }
      ]
    },
    {
      "cell_type": "markdown",
      "metadata": {
        "id": "T85DHEl0PryM",
        "colab_type": "text"
      },
      "source": [
        "## Vector utility functions"
      ]
    },
    {
      "cell_type": "code",
      "metadata": {
        "id": "PWzNxyabUJ7z",
        "colab_type": "code",
        "colab": {}
      },
      "source": [
        "def vector_len(v) -> float:\n",
        "    return np.sqrt(np.dot(v, v))\n",
        "\n",
        "def cosine_similarity(v1, v2) -> float:\n",
        "    \"\"\"\n",
        "    Returns the cosine of the angle between the two vectors.\n",
        "    Results range from -1 (very different) to 1 (very similar).\n",
        "    \"\"\"\n",
        "    return np.dot(v1, v2) / (vector_len(v1) * vector_len(v2))"
      ],
      "execution_count": 0,
      "outputs": []
    },
    {
      "cell_type": "code",
      "metadata": {
        "id": "IQnKE6OFUVhg",
        "colab_type": "code",
        "outputId": "a3907aec-d285-4894-8833-60f79ad220a7",
        "colab": {
          "base_uri": "https://localhost:8080/",
          "height": 33
        }
      },
      "source": [
        "cosine_similarity(embeddings_index['king']-embeddings_index['man']+embeddings_index['woman'],embeddings_index['queen'])"
      ],
      "execution_count": 6,
      "outputs": [
        {
          "output_type": "execute_result",
          "data": {
            "text/plain": [
              "0.7834413"
            ]
          },
          "metadata": {
            "tags": []
          },
          "execution_count": 6
        }
      ]
    },
    {
      "cell_type": "code",
      "metadata": {
        "id": "j4GtJ7RjWZ5R",
        "colab_type": "code",
        "colab": {}
      },
      "source": [
        "def embed_similarity(w1,w2,w3):\n",
        "  \"\"\"generate similarities like w1=king - w2=man + w3=woman \"\"\"\n",
        "  q = embeddings_index[w1]-embeddings_index[w2]+embeddings_index[w3]\n",
        "  dist_list = [cosine_similarity(embeddings_index[w],q) for w in embeddings_index.keys()]\n",
        "  # Trick of removing input words\n",
        "  return pd.Series(data=dist_list,index=embeddings_index.keys()).sort_values(ascending=False).drop([w1,w2,w3])"
      ],
      "execution_count": 0,
      "outputs": []
    },
    {
      "cell_type": "code",
      "metadata": {
        "id": "TRIHEq3qaDi7",
        "colab_type": "code",
        "outputId": "4ebb1c3f-2e73-42d8-8ba9-5709549e2f03",
        "colab": {
          "base_uri": "https://localhost:8080/",
          "height": 117
        }
      },
      "source": [
        "embed_similarity('rome','italy','france').head()"
      ],
      "execution_count": 8,
      "outputs": [
        {
          "output_type": "execute_result",
          "data": {
            "text/plain": [
              "paris         0.844468\n",
              "prohertrib    0.658137\n",
              "french        0.654002\n",
              "strasbourg    0.630593\n",
              "brussels      0.619239\n",
              "dtype: float64"
            ]
          },
          "metadata": {
            "tags": []
          },
          "execution_count": 8
        }
      ]
    },
    {
      "cell_type": "code",
      "metadata": {
        "id": "tTcQfGp7bdJ6",
        "colab_type": "code",
        "outputId": "90d1fc50-c0ba-4578-ea82-018ede851830",
        "colab": {
          "base_uri": "https://localhost:8080/",
          "height": 117
        }
      },
      "source": [
        "embed_similarity('king','man','woman').head()"
      ],
      "execution_count": 9,
      "outputs": [
        {
          "output_type": "execute_result",
          "data": {
            "text/plain": [
              "queen       0.783441\n",
              "monarch     0.693380\n",
              "throne      0.683311\n",
              "daughter    0.680908\n",
              "prince      0.671314\n",
              "dtype: float64"
            ]
          },
          "metadata": {
            "tags": []
          },
          "execution_count": 9
        }
      ]
    },
    {
      "cell_type": "code",
      "metadata": {
        "id": "mACT6cLldPzY",
        "colab_type": "code",
        "outputId": "81c3f0d8-e836-455e-b6ca-80a5a8a9dbf8",
        "colab": {
          "base_uri": "https://localhost:8080/",
          "height": 117
        }
      },
      "source": [
        "embed_similarity('doctor','masculine','feminine').head()"
      ],
      "execution_count": 10,
      "outputs": [
        {
          "output_type": "execute_result",
          "data": {
            "text/plain": [
              "nurse       0.708128\n",
              "medical     0.699084\n",
              "patient     0.692603\n",
              "hospital    0.677783\n",
              "medicine    0.675922\n",
              "dtype: float64"
            ]
          },
          "metadata": {
            "tags": []
          },
          "execution_count": 10
        }
      ]
    },
    {
      "cell_type": "code",
      "metadata": {
        "id": "W5rKdQ-fdfiq",
        "colab_type": "code",
        "outputId": "34aa5ecf-621a-4ffe-c77f-c0c4342546c1",
        "colab": {
          "base_uri": "https://localhost:8080/",
          "height": 117
        }
      },
      "source": [
        "embed_similarity('bitch','feminine','masculine').head()"
      ],
      "execution_count": 11,
      "outputs": [
        {
          "output_type": "execute_result",
          "data": {
            "text/plain": [
              "bastard    0.612845\n",
              "dude       0.598435\n",
              "whore      0.568276\n",
              "cunt       0.552512\n",
              "fucking    0.543644\n",
              "dtype: float64"
            ]
          },
          "metadata": {
            "tags": []
          },
          "execution_count": 11
        }
      ]
    },
    {
      "cell_type": "code",
      "metadata": {
        "id": "aZFjXVRwOv2_",
        "colab_type": "code",
        "outputId": "01b36131-02e6-47f7-a3a3-956f3409b534",
        "colab": {
          "base_uri": "https://localhost:8080/",
          "height": 117
        }
      },
      "source": [
        "embed_similarity('bank','money','food').head()"
      ],
      "execution_count": 12,
      "outputs": [
        {
          "output_type": "execute_result",
          "data": {
            "text/plain": [
              "supermarket    0.594245\n",
              "market         0.556250\n",
              "markets        0.556143\n",
              "foods          0.545908\n",
              "retail         0.540577\n",
              "dtype: float64"
            ]
          },
          "metadata": {
            "tags": []
          },
          "execution_count": 12
        }
      ]
    },
    {
      "cell_type": "code",
      "metadata": {
        "id": "hshHHsYnO08c",
        "colab_type": "code",
        "colab": {
          "base_uri": "https://localhost:8080/",
          "height": 117
        },
        "outputId": "b714e7af-4e1a-4997-9038-7d4519a6dd5d"
      },
      "source": [
        "embed_similarity('pizza','italy','usa').head()"
      ],
      "execution_count": 14,
      "outputs": [
        {
          "output_type": "execute_result",
          "data": {
            "text/plain": [
              "kfc         0.560588\n",
              "donuts      0.548909\n",
              "doughnut    0.524129\n",
              "7-eleven    0.515943\n",
              "mcdonald    0.514797\n",
              "dtype: float64"
            ]
          },
          "metadata": {
            "tags": []
          },
          "execution_count": 14
        }
      ]
    },
    {
      "cell_type": "code",
      "metadata": {
        "id": "uyvsx56tQ3lW",
        "colab_type": "code",
        "colab": {
          "base_uri": "https://localhost:8080/",
          "height": 117
        },
        "outputId": "827abde9-0820-4281-a1ff-d954cc99d68c"
      },
      "source": [
        "embed_similarity('trump','usa','italy').head()"
      ],
      "execution_count": 20,
      "outputs": [
        {
          "output_type": "execute_result",
          "data": {
            "text/plain": [
              "berlusconi    0.637846\n",
              "silvio        0.563385\n",
              "dini          0.550138\n",
              "scalfaro      0.537195\n",
              "prodi         0.517768\n",
              "dtype: float64"
            ]
          },
          "metadata": {
            "tags": []
          },
          "execution_count": 20
        }
      ]
    }
  ]
}