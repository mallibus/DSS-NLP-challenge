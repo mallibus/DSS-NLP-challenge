{
 "cells": [
  {
   "cell_type": "code",
   "execution_count": 1,
   "metadata": {},
   "outputs": [],
   "source": [
    "import wikipediaapi"
   ]
  },
  {
   "cell_type": "code",
   "execution_count": 2,
   "metadata": {},
   "outputs": [],
   "source": [
    "wiki_wiki = wikipediaapi.Wikipedia(\n",
    "        language='en',\n",
    "        extract_format=wikipediaapi.ExtractFormat.WIKI\n",
    ")\n"
   ]
  },
  {
   "cell_type": "code",
   "execution_count": 153,
   "metadata": {},
   "outputs": [],
   "source": [
    "def print_links(page):\n",
    "    links = page.links\n",
    "    for title in sorted(links.keys()):\n",
    "        print(\"%s: %s\" % (title, links[title]))\n",
    "\n",
    "#print_links(p_wiki)"
   ]
  },
  {
   "cell_type": "code",
   "execution_count": 152,
   "metadata": {},
   "outputs": [],
   "source": [
    "def print_categories(page):\n",
    "    categories = page.categories\n",
    "    for title in sorted(categories.keys()):\n",
    "        print(\"%s: %s\" % (title, categories[title]))\n",
    "            \n",
    "#print(\"Categories\")\n",
    "#print_categories(p_wiki)"
   ]
  },
  {
   "cell_type": "markdown",
   "metadata": {},
   "source": [
    "\n",
    "1. Economy\n",
    "2. Regulation\n",
    "3. Environment\n",
    "4. Health related issue\n",
    "5. Industry\n",
    "6. Cultures and customs\n"
   ]
  },
  {
   "cell_type": "code",
   "execution_count": 3,
   "metadata": {},
   "outputs": [
    {
     "data": {
      "text/plain": [
       "True"
      ]
     },
     "execution_count": 3,
     "metadata": {},
     "output_type": "execute_result"
    }
   ],
   "source": [
    "p_wiki = wiki_wiki.page('travels')\n",
    "p_wiki.exists()"
   ]
  },
  {
   "cell_type": "code",
   "execution_count": 4,
   "metadata": {},
   "outputs": [
    {
     "name": "stdout",
     "output_type": "stream",
     "text": [
      "Travel is the movement of people between distant geographical locations. Travel can be done by foot, bicycle, automobile, train, boat, bus, airplane, ship or other means, with or without luggage, and can be one way or round trip. Travel can also include relatively short stays between successive movements.\n"
     ]
    }
   ],
   "source": [
    "print(p_wiki.summary)"
   ]
  },
  {
   "cell_type": "code",
   "execution_count": 178,
   "metadata": {},
   "outputs": [
    {
     "data": {
      "text/plain": [
       "{'Category:Articles with Curlie links': Category:Articles with Curlie links (id: ??, ns: 14),\n",
       " 'Category:Tourism': Category:Tourism (id: ??, ns: 14),\n",
       " 'Category:Tourist activities': Category:Tourist activities (id: ??, ns: 14),\n",
       " 'Category:Transport culture': Category:Transport culture (id: ??, ns: 14),\n",
       " 'Category:Travel': Category:Travel (id: ??, ns: 14),\n",
       " 'Category:Webarchive template wayback links': Category:Webarchive template wayback links (id: ??, ns: 14),\n",
       " 'Category:Wikipedia articles with GND identifiers': Category:Wikipedia articles with GND identifiers (id: ??, ns: 14),\n",
       " 'Category:Wikipedia articles with HDS identifiers': Category:Wikipedia articles with HDS identifiers (id: ??, ns: 14),\n",
       " 'Category:Wikipedia articles with LCCN identifiers': Category:Wikipedia articles with LCCN identifiers (id: ??, ns: 14),\n",
       " 'Category:Wikipedia articles with NARA identifiers': Category:Wikipedia articles with NARA identifiers (id: ??, ns: 14),\n",
       " 'Category:Wikipedia articles with NDL identifiers': Category:Wikipedia articles with NDL identifiers (id: ??, ns: 14),\n",
       " 'Category:Wikipedia indefinitely semi-protected pages': Category:Wikipedia indefinitely semi-protected pages (id: ??, ns: 14)}"
      ]
     },
     "execution_count": 178,
     "metadata": {},
     "output_type": "execute_result"
    }
   ],
   "source": [
    "p_wiki.categories"
   ]
  },
  {
   "cell_type": "code",
   "execution_count": 179,
   "metadata": {},
   "outputs": [],
   "source": [
    "def add_categorymembers(categorymembers, level=0, max_level=1,members=[]):\n",
    "    for c in categorymembers.values():\n",
    "        #print(\"%s: %s (ns: %d)\" % (\"*\" * (level + 1), c.title, c.ns))\n",
    "        if c.ns == wikipediaapi.Namespace.CATEGORY and level < max_level:\n",
    "            #print(\"down cat - %s: %s (ns: %d)\" % (\"*\" * (level + 1), c.title, c.ns))\n",
    "            members = add_categorymembers(c.categorymembers, level=level + 1, max_level=max_level,members=members)\n",
    "            #print(\"Down:\",len(members))\n",
    "        else:\n",
    "            #print(\"append - %s: %s (ns: %d)\" % (\"*\" * (level + 1), c.title, c.ns))\n",
    "            #if len(c.text)>0:\n",
    "            members.append(c.title)\n",
    "            #else:\n",
    "            #    print(\"ZERO - %s: %s (ns: %d)\" % (\"*\" * (level + 1), c.title, c.ns))\n",
    "            \n",
    "            #print(\"A:\",len(members))\n",
    "    return members\n",
    "\n",
    "def list_categorymembers(categories, level=0, max_level=1):\n",
    "    l = []\n",
    "    for cat_name in categories:\n",
    "        cat = wiki_wiki.page(cat_name)\n",
    "        l_cat = (add_categorymembers(cat.categorymembers, level=0, max_level=1,members=[]))\n",
    "        print(f'{cat_name} : {len(l_cat)} elements')\n",
    "        l.extend(l_cat)\n",
    "    return l\n",
    "                \n",
    "categories = [\"Category:Economy\",'Category:Stock market','Category:Trade','Category:Monetary economics']\n",
    "categories = ['Category:Regulation','Category:Public policy','Category:Economics of regulation']\n",
    "categories = ['Category:Environmental science','Category:Ecology','Category:Environmentalism']\n",
    "categories = ['Category:Health','Category:Physical fitness','Category:Medicine']\n",
    "categories = ['Category:Industry','Category:Manufacturing','Category:Energy','Category:Technology']\n",
    "categories = ['Category:Culture','Category:Social concepts','Category:Tourism','Category:Tourist activities']"
   ]
  },
  {
   "cell_type": "code",
   "execution_count": 180,
   "metadata": {},
   "outputs": [
    {
     "name": "stdout",
     "output_type": "stream",
     "text": [
      "Category:Culture : 2903 elements\n",
      "Category:Social concepts : 1776 elements\n",
      "Category:Tourism : 1294 elements\n",
      "Category:Tourist activities : 130 elements\n"
     ]
    }
   ],
   "source": [
    "l = list_categorymembers(categories)"
   ]
  },
  {
   "cell_type": "code",
   "execution_count": null,
   "metadata": {},
   "outputs": [],
   "source": []
  }
 ],
 "metadata": {
  "kernelspec": {
   "display_name": "Python 3",
   "language": "python",
   "name": "python3"
  },
  "language_info": {
   "codemirror_mode": {
    "name": "ipython",
    "version": 3
   },
   "file_extension": ".py",
   "mimetype": "text/x-python",
   "name": "python",
   "nbconvert_exporter": "python",
   "pygments_lexer": "ipython3",
   "version": "3.6.8"
  }
 },
 "nbformat": 4,
 "nbformat_minor": 2
}
