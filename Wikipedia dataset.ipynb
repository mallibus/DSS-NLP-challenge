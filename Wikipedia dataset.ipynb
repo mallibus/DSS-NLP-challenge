{
 "cells": [
  {
   "cell_type": "code",
   "execution_count": 1,
   "metadata": {},
   "outputs": [],
   "source": [
    "import wikipediaapi"
   ]
  },
  {
   "cell_type": "code",
   "execution_count": 2,
   "metadata": {},
   "outputs": [],
   "source": [
    "wiki_wiki = wikipediaapi.Wikipedia(\n",
    "        language='en',\n",
    "        extract_format=wikipediaapi.ExtractFormat.WIKI\n",
    ")\n"
   ]
  },
  {
   "cell_type": "markdown",
   "metadata": {},
   "source": [
    "## Challenge categories\n",
    "\n",
    "1. Economy\n",
    "2. Regulation\n",
    "3. Environment\n",
    "4. Health related issue\n",
    "5. Industry\n",
    "6. Cultures and customs\n"
   ]
  },
  {
   "cell_type": "code",
   "execution_count": 4,
   "metadata": {},
   "outputs": [
    {
     "data": {
      "text/plain": [
       "True"
      ]
     },
     "execution_count": 4,
     "metadata": {},
     "output_type": "execute_result"
    }
   ],
   "source": [
    "# Manual research for Wikipedia categories\n",
    "p_wiki = wiki_wiki.page('travels')\n",
    "p_wiki.exists()"
   ]
  },
  {
   "cell_type": "code",
   "execution_count": 5,
   "metadata": {},
   "outputs": [
    {
     "name": "stdout",
     "output_type": "stream",
     "text": [
      "Travel is the movement of people between distant geographical locations. Travel can be done by foot, bicycle, automobile, train, boat, bus, airplane, ship or other means, with or without luggage, and can be one way or round trip. Travel can also include relatively short stays between successive movements.\n"
     ]
    },
    {
     "data": {
      "text/plain": [
       "{'Category:Articles with Curlie links': Category:Articles with Curlie links (id: ??, ns: 14),\n",
       " 'Category:Tourism': Category:Tourism (id: ??, ns: 14),\n",
       " 'Category:Tourist activities': Category:Tourist activities (id: ??, ns: 14),\n",
       " 'Category:Transport culture': Category:Transport culture (id: ??, ns: 14),\n",
       " 'Category:Travel': Category:Travel (id: ??, ns: 14),\n",
       " 'Category:Webarchive template wayback links': Category:Webarchive template wayback links (id: ??, ns: 14),\n",
       " 'Category:Wikipedia articles with GND identifiers': Category:Wikipedia articles with GND identifiers (id: ??, ns: 14),\n",
       " 'Category:Wikipedia articles with HDS identifiers': Category:Wikipedia articles with HDS identifiers (id: ??, ns: 14),\n",
       " 'Category:Wikipedia articles with LCCN identifiers': Category:Wikipedia articles with LCCN identifiers (id: ??, ns: 14),\n",
       " 'Category:Wikipedia articles with NARA identifiers': Category:Wikipedia articles with NARA identifiers (id: ??, ns: 14),\n",
       " 'Category:Wikipedia articles with NDL identifiers': Category:Wikipedia articles with NDL identifiers (id: ??, ns: 14),\n",
       " 'Category:Wikipedia indefinitely semi-protected pages': Category:Wikipedia indefinitely semi-protected pages (id: ??, ns: 14)}"
      ]
     },
     "execution_count": 5,
     "metadata": {},
     "output_type": "execute_result"
    }
   ],
   "source": [
    "print(p_wiki.summary)\n",
    "p_wiki.categories"
   ]
  },
  {
   "cell_type": "code",
   "execution_count": 107,
   "metadata": {},
   "outputs": [],
   "source": [
    "categories = ['Economy','Regulation','Environment','Health','Industry','Cultures']\n",
    "wiki_scan = [[\"Category:Economy\",'Category:Stock market','Category:Trade','Category:Monetary economics'],\n",
    "             ['Category:Regulation','Category:Public policy','Category:Economics of regulation'],\n",
    "             ['Category:Environmental science','Category:Ecology','Category:Environmentalism'],\n",
    "             ['Category:Health','Category:Physical fitness','Category:Medicine'],\n",
    "             ['Category:Industry','Category:Manufacturing','Category:Energy','Category:Technology'],\n",
    "             ['Category:Culture','Category:Social concepts','Category:Tourism','Category:Tourist activities']]"
   ]
  },
  {
   "cell_type": "code",
   "execution_count": 108,
   "metadata": {},
   "outputs": [],
   "source": [
    "def add_categorymembers(categorymembers, level=0, max_level=1,members=[]):\n",
    "    for c in categorymembers.values():\n",
    "        #print(\"%s: %s (ns: %d)\" % (\"*\" * (level + 1), c.title, c.ns))\n",
    "        if c.ns == wikipediaapi.Namespace.CATEGORY and level < max_level:\n",
    "            #print(\"down cat - %s: %s (ns: %d)\" % (\"*\" * (level + 1), c.title, c.ns))\n",
    "            members = add_categorymembers(c.categorymembers, level=level + 1, max_level=max_level,members=members)\n",
    "            #print(\"Down:\",len(members))\n",
    "        else:\n",
    "            #print(\"append - %s: %s (ns: %d)\" % (\"*\" * (level + 1), c.title, c.ns))\n",
    "            #if len(c.text)>0:\n",
    "            members.append(c.title)\n",
    "            #else:\n",
    "            #    print(\"ZERO - %s: %s (ns: %d)\" % (\"*\" * (level + 1), c.title, c.ns))\n",
    "            \n",
    "            #print(\"A:\",len(members))\n",
    "    return members\n",
    "\n",
    "def list_categorymembers(categories, level=0, max_level=1):\n",
    "    l = []\n",
    "    for cat_name in categories:\n",
    "        cat = wiki_wiki.page(cat_name)\n",
    "        l_cat = (add_categorymembers(cat.categorymembers, level=0, max_level=1,members=[]))\n",
    "        print(f'{cat_name} : {len(l_cat)} elements')\n",
    "        l.extend(l_cat)\n",
    "    return l\n",
    "                "
   ]
  },
  {
   "cell_type": "code",
   "execution_count": 109,
   "metadata": {},
   "outputs": [
    {
     "name": "stdout",
     "output_type": "stream",
     "text": [
      "Economy ['Category:Economy', 'Category:Stock market', 'Category:Trade', 'Category:Monetary economics']\n",
      "Category:Economy : 703 elements\n",
      "Category:Stock market : 884 elements\n",
      "Category:Trade : 804 elements\n",
      "Category:Monetary economics : 575 elements\n",
      "Pages to scan : 2966\n",
      "Regulation ['Category:Regulation', 'Category:Public policy', 'Category:Economics of regulation']\n",
      "Category:Regulation : 456 elements\n",
      "Category:Public policy : 1076 elements\n",
      "Category:Economics of regulation : 284 elements\n",
      "Pages to scan : 1816\n",
      "Environment ['Category:Environmental science', 'Category:Ecology', 'Category:Environmentalism']\n",
      "Category:Environmental science : 1377 elements\n",
      "Category:Ecology : 1822 elements\n",
      "Category:Environmentalism : 603 elements\n",
      "Pages to scan : 3802\n",
      "Health ['Category:Health', 'Category:Physical fitness', 'Category:Medicine']\n",
      "Category:Health : 2870 elements\n",
      "Category:Physical fitness : 9 elements\n",
      "Category:Medicine : 1492 elements\n",
      "Pages to scan : 4371\n",
      "Industry ['Category:Industry', 'Category:Manufacturing', 'Category:Energy', 'Category:Technology']\n",
      "Category:Industry : 1378 elements\n",
      "Category:Manufacturing : 868 elements\n",
      "Category:Energy : 1779 elements\n",
      "Category:Technology : 2578 elements\n",
      "Pages to scan : 6603\n",
      "Cultures ['Category:Culture', 'Category:Social concepts', 'Category:Tourism', 'Category:Tourist activities']\n",
      "Category:Culture : 2839 elements\n",
      "Category:Social concepts : 1779 elements\n",
      "Category:Tourism : 1295 elements\n",
      "Category:Tourist activities : 130 elements\n",
      "Pages to scan : 6043\n"
     ]
    }
   ],
   "source": [
    "wiki_pages = dict()\n",
    "for c,l in zip(categories,wiki_scan):\n",
    "    print(c,l)\n",
    "    wiki_pages[c] = list_categorymembers(l)\n",
    "    print(f'Pages to scan : {len(wiki_pages[c])}')"
   ]
  },
  {
   "cell_type": "code",
   "execution_count": 110,
   "metadata": {},
   "outputs": [
    {
     "data": {
      "text/plain": [
       "25601"
      ]
     },
     "execution_count": 110,
     "metadata": {},
     "output_type": "execute_result"
    }
   ],
   "source": [
    "sum([len(wiki_pages[c]) for c in wiki_pages])\n",
    "    "
   ]
  },
  {
   "cell_type": "code",
   "execution_count": 111,
   "metadata": {},
   "outputs": [],
   "source": []
  },
  {
   "cell_type": "code",
   "execution_count": 23,
   "metadata": {},
   "outputs": [],
   "source": []
  },
  {
   "cell_type": "code",
   "execution_count": 112,
   "metadata": {},
   "outputs": [
    {
     "data": {
      "text/plain": [
       "'2.0.0-beta1'"
      ]
     },
     "execution_count": 112,
     "metadata": {},
     "output_type": "execute_result"
    }
   ],
   "source": [
    "import tensorflow as tf\n",
    "from tensorflow.keras.preprocessing.text import Tokenizer\n",
    "tf.__version__"
   ]
  },
  {
   "cell_type": "code",
   "execution_count": 115,
   "metadata": {},
   "outputs": [],
   "source": [
    "from progress import progress"
   ]
  },
  {
   "cell_type": "code",
   "execution_count": 155,
   "metadata": {},
   "outputs": [],
   "source": [
    "max_words = 20000\n",
    "max_i     = 2000         # number of files scanned per category"
   ]
  },
  {
   "cell_type": "code",
   "execution_count": 156,
   "metadata": {},
   "outputs": [
    {
     "name": "stdout",
     "output_type": "stream",
     "text": [
      "Scanning 2000 articles out of 2966 on Economy\n",
      "[============================================================] 100.0% ...2000\n",
      "Fitting 2001 texts on Economy\n",
      "Scanning 2000 articles out of 1816 on Regulation\n",
      "[============================================================] 99.9% ...1815\n",
      "Fitting 1816 texts on Regulation\n",
      "Scanning 2000 articles out of 3802 on Environment\n",
      "[============================================================] 100.0% ...2000\n",
      "Fitting 2001 texts on Environment\n",
      "Scanning 2000 articles out of 4371 on Health\n",
      "[============================================================] 100.0% ...2000\n",
      "Fitting 2001 texts on Health\n",
      "Scanning 2000 articles out of 6603 on Industry\n",
      "[============================================================] 100.0% ...2000\n",
      "Fitting 2001 texts on Industry\n",
      "Scanning 2000 articles out of 6043 on Cultures\n",
      "[============================================================] 100.0% ...2000\n",
      "Fitting 2001 texts on Cultures\n"
     ]
    }
   ],
   "source": [
    "t  = Tokenizer(num_words=max_words,oov_token='xxxunk')\n",
    "\n",
    "for c in wiki_pages.keys():\n",
    "    texts = []\n",
    "    print(f'Scanning {max_i} articles out of {len(wiki_pages[c])} on {c}')\n",
    "    for i,p in enumerate(wiki_pages[c]):\n",
    "        progress(i, min(max_i,len(wiki_pages[c])), status=f'{i}')\n",
    "        p_wiki = wiki_wiki.page(p)\n",
    "        texts.append(p_wiki.text)\n",
    "        if i>=max_i:\n",
    "            break\n",
    "    print(f'\\nFitting {len(texts)} texts on {c}')\n",
    "    t.fit_on_texts(texts)\n",
    "    X_train.extend(t.texts_to_sequences(texts))\n",
    "    y_train.extend([categories.index(c)]*len(X))\n"
   ]
  },
  {
   "cell_type": "code",
   "execution_count": 157,
   "metadata": {},
   "outputs": [],
   "source": [
    "dataset = { 'max_i'     : max_i,\n",
    "            'max_words' : max_words,\n",
    "            'word_index': t.word_index,\n",
    "            'X'         : X_train,\n",
    "            'y'         : y_train }"
   ]
  },
  {
   "cell_type": "code",
   "execution_count": 158,
   "metadata": {},
   "outputs": [],
   "source": [
    "from pathlib import Path\n",
    "path = Path('dataset/wiki')"
   ]
  },
  {
   "cell_type": "code",
   "execution_count": 159,
   "metadata": {},
   "outputs": [
    {
     "data": {
      "text/plain": [
       "'dss_wiki_02000_20K.json'"
      ]
     },
     "execution_count": 159,
     "metadata": {},
     "output_type": "execute_result"
    }
   ],
   "source": [
    "filename = f'dss_wiki_{max_i:05}_{max_words//1000}K.json'\n",
    "filename"
   ]
  },
  {
   "cell_type": "code",
   "execution_count": 160,
   "metadata": {},
   "outputs": [],
   "source": [
    "import json\n",
    "with open(path/filename, 'w', encoding='utf-8') as f:\n",
    "    json.dump(dataset, f, ensure_ascii=False, indent=4)"
   ]
  },
  {
   "cell_type": "code",
   "execution_count": null,
   "metadata": {},
   "outputs": [],
   "source": []
  }
 ],
 "metadata": {
  "kernelspec": {
   "display_name": "Python 3",
   "language": "python",
   "name": "python3"
  },
  "language_info": {
   "codemirror_mode": {
    "name": "ipython",
    "version": 3
   },
   "file_extension": ".py",
   "mimetype": "text/x-python",
   "name": "python",
   "nbconvert_exporter": "python",
   "pygments_lexer": "ipython3",
   "version": "3.6.8"
  }
 },
 "nbformat": 4,
 "nbformat_minor": 2
}
