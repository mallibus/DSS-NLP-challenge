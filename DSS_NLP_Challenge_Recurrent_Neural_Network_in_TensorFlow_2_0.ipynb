{
  "nbformat": 4,
  "nbformat_minor": 0,
  "metadata": {
    "colab": {
      "name": "DSS NLP Challenge - Recurrent Neural Network in TensorFlow 2.0.ipynb",
      "version": "0.3.2",
      "provenance": [],
      "collapsed_sections": [],
      "include_colab_link": true
    },
    "kernelspec": {
      "name": "python3",
      "display_name": "Python 3"
    },
    "accelerator": "GPU"
  },
  "cells": [
    {
      "cell_type": "markdown",
      "metadata": {
        "id": "view-in-github",
        "colab_type": "text"
      },
      "source": [
        "<a href=\"https://colab.research.google.com/github/mallibus/DSS-NLP-challenge/blob/master/DSS_NLP_Challenge_Recurrent_Neural_Network_in_TensorFlow_2_0.ipynb\" target=\"_parent\"><img src=\"https://colab.research.google.com/assets/colab-badge.svg\" alt=\"Open In Colab\"/></a>"
      ]
    },
    {
      "cell_type": "markdown",
      "metadata": {
        "id": "Z82c-Fcay0a3",
        "colab_type": "text"
      },
      "source": [
        "## Step 1: Installing the dependencies and setting up a GPU environment"
      ]
    },
    {
      "cell_type": "code",
      "metadata": {
        "id": "BMndQSr4O_nd",
        "colab_type": "code",
        "outputId": "4e6036f4-4d47-4a5d-8815-efda0b37dda3",
        "colab": {
          "base_uri": "https://localhost:8080/",
          "height": 487
        }
      },
      "source": [
        "!pip install tensorflow-gpu==2.0.0.alpha0"
      ],
      "execution_count": 1,
      "outputs": [
        {
          "output_type": "stream",
          "text": [
            "Collecting tensorflow-gpu==2.0.0.alpha0\n",
            "\u001b[?25l  Downloading https://files.pythonhosted.org/packages/1a/66/32cffad095253219d53f6b6c2a436637bbe45ac4e7be0244557210dc3918/tensorflow_gpu-2.0.0a0-cp36-cp36m-manylinux1_x86_64.whl (332.1MB)\n",
            "\u001b[K     |████████████████████████████████| 332.1MB 45kB/s \n",
            "\u001b[?25hRequirement already satisfied: astor>=0.6.0 in /usr/local/lib/python3.6/dist-packages (from tensorflow-gpu==2.0.0.alpha0) (0.8.0)\n",
            "Requirement already satisfied: numpy<2.0,>=1.14.5 in /usr/local/lib/python3.6/dist-packages (from tensorflow-gpu==2.0.0.alpha0) (1.16.4)\n",
            "Requirement already satisfied: protobuf>=3.6.1 in /usr/local/lib/python3.6/dist-packages (from tensorflow-gpu==2.0.0.alpha0) (3.7.1)\n",
            "Requirement already satisfied: google-pasta>=0.1.2 in /usr/local/lib/python3.6/dist-packages (from tensorflow-gpu==2.0.0.alpha0) (0.1.7)\n",
            "Requirement already satisfied: grpcio>=1.8.6 in /usr/local/lib/python3.6/dist-packages (from tensorflow-gpu==2.0.0.alpha0) (1.15.0)\n",
            "Requirement already satisfied: absl-py>=0.7.0 in /usr/local/lib/python3.6/dist-packages (from tensorflow-gpu==2.0.0.alpha0) (0.7.1)\n",
            "Collecting tb-nightly<1.14.0a20190302,>=1.14.0a20190301 (from tensorflow-gpu==2.0.0.alpha0)\n",
            "\u001b[?25l  Downloading https://files.pythonhosted.org/packages/a9/51/aa1d756644bf4624c03844115e4ac4058eff77acd786b26315f051a4b195/tb_nightly-1.14.0a20190301-py3-none-any.whl (3.0MB)\n",
            "\u001b[K     |████████████████████████████████| 3.0MB 37.8MB/s \n",
            "\u001b[?25hRequirement already satisfied: keras-applications>=1.0.6 in /usr/local/lib/python3.6/dist-packages (from tensorflow-gpu==2.0.0.alpha0) (1.0.8)\n",
            "Requirement already satisfied: six>=1.10.0 in /usr/local/lib/python3.6/dist-packages (from tensorflow-gpu==2.0.0.alpha0) (1.12.0)\n",
            "Requirement already satisfied: wheel>=0.26 in /usr/local/lib/python3.6/dist-packages (from tensorflow-gpu==2.0.0.alpha0) (0.33.4)\n",
            "Requirement already satisfied: gast>=0.2.0 in /usr/local/lib/python3.6/dist-packages (from tensorflow-gpu==2.0.0.alpha0) (0.2.2)\n",
            "Requirement already satisfied: termcolor>=1.1.0 in /usr/local/lib/python3.6/dist-packages (from tensorflow-gpu==2.0.0.alpha0) (1.1.0)\n",
            "Requirement already satisfied: keras-preprocessing>=1.0.5 in /usr/local/lib/python3.6/dist-packages (from tensorflow-gpu==2.0.0.alpha0) (1.1.0)\n",
            "Collecting tf-estimator-nightly<1.14.0.dev2019030116,>=1.14.0.dev2019030115 (from tensorflow-gpu==2.0.0.alpha0)\n",
            "\u001b[?25l  Downloading https://files.pythonhosted.org/packages/13/82/f16063b4eed210dc2ab057930ac1da4fbe1e91b7b051a6c8370b401e6ae7/tf_estimator_nightly-1.14.0.dev2019030115-py2.py3-none-any.whl (411kB)\n",
            "\u001b[K     |████████████████████████████████| 419kB 40.7MB/s \n",
            "\u001b[?25hRequirement already satisfied: setuptools in /usr/local/lib/python3.6/dist-packages (from protobuf>=3.6.1->tensorflow-gpu==2.0.0.alpha0) (41.0.1)\n",
            "Requirement already satisfied: markdown>=2.6.8 in /usr/local/lib/python3.6/dist-packages (from tb-nightly<1.14.0a20190302,>=1.14.0a20190301->tensorflow-gpu==2.0.0.alpha0) (3.1.1)\n",
            "Requirement already satisfied: werkzeug>=0.11.15 in /usr/local/lib/python3.6/dist-packages (from tb-nightly<1.14.0a20190302,>=1.14.0a20190301->tensorflow-gpu==2.0.0.alpha0) (0.15.5)\n",
            "Requirement already satisfied: h5py in /usr/local/lib/python3.6/dist-packages (from keras-applications>=1.0.6->tensorflow-gpu==2.0.0.alpha0) (2.8.0)\n",
            "Installing collected packages: tb-nightly, tf-estimator-nightly, tensorflow-gpu\n",
            "Successfully installed tb-nightly-1.14.0a20190301 tensorflow-gpu-2.0.0a0 tf-estimator-nightly-1.14.0.dev2019030115\n"
          ],
          "name": "stdout"
        }
      ]
    },
    {
      "cell_type": "markdown",
      "metadata": {
        "id": "JL3SBH6PzDwV",
        "colab_type": "text"
      },
      "source": [
        "## Step 2: Importing the libraries"
      ]
    },
    {
      "cell_type": "code",
      "metadata": {
        "id": "ynShOu8nNtFt",
        "colab_type": "code",
        "colab": {}
      },
      "source": [
        "import tensorflow as tf\n",
        "from tensorflow.keras.datasets import imdb"
      ],
      "execution_count": 0,
      "outputs": []
    },
    {
      "cell_type": "code",
      "metadata": {
        "id": "Kw7-sPdOzf5l",
        "colab_type": "code",
        "outputId": "ae960fea-35c4-4741-f0ba-2bf7f8351e4e",
        "colab": {
          "base_uri": "https://localhost:8080/",
          "height": 33
        }
      },
      "source": [
        "tf.__version__"
      ],
      "execution_count": 196,
      "outputs": [
        {
          "output_type": "execute_result",
          "data": {
            "text/plain": [
              "'2.0.0-alpha0'"
            ]
          },
          "metadata": {
            "tags": []
          },
          "execution_count": 196
        }
      ]
    },
    {
      "cell_type": "code",
      "metadata": {
        "id": "Us9Yzi1LWH8L",
        "colab_type": "code",
        "colab": {
          "base_uri": "https://localhost:8080/",
          "height": 120
        },
        "outputId": "fd7203c9-89dc-4c83-a238-8cb7b26e43b5"
      },
      "source": [
        "from google.colab import drive\n",
        "drive.mount('/content/drive')"
      ],
      "execution_count": 239,
      "outputs": [
        {
          "output_type": "stream",
          "text": [
            "Go to this URL in a browser: https://accounts.google.com/o/oauth2/auth?client_id=947318989803-6bn6qk8qdgf4n4g3pfee6491hc0brc4i.apps.googleusercontent.com&redirect_uri=urn%3Aietf%3Awg%3Aoauth%3A2.0%3Aoob&scope=email%20https%3A%2F%2Fwww.googleapis.com%2Fauth%2Fdocs.test%20https%3A%2F%2Fwww.googleapis.com%2Fauth%2Fdrive%20https%3A%2F%2Fwww.googleapis.com%2Fauth%2Fdrive.photos.readonly%20https%3A%2F%2Fwww.googleapis.com%2Fauth%2Fpeopleapi.readonly&response_type=code\n",
            "\n",
            "Enter your authorization code:\n",
            "··········\n",
            "Mounted at /content/drive\n"
          ],
          "name": "stdout"
        }
      ]
    },
    {
      "cell_type": "code",
      "metadata": {
        "id": "WNBBIdtgaNTL",
        "colab_type": "code",
        "colab": {}
      },
      "source": [
        "dataset_path = \"/content/drive/My Drive/AIML/Projects/DSS-NLP-challenge/dataset/wiki/\"\n",
        "dataset_file = \"dss_wiki_02000_20K1.json\""
      ],
      "execution_count": 0,
      "outputs": []
    },
    {
      "cell_type": "code",
      "metadata": {
        "id": "S8goIsbMaeg5",
        "colab_type": "code",
        "colab": {}
      },
      "source": [
        "\n",
        "import json"
      ],
      "execution_count": 0,
      "outputs": []
    },
    {
      "cell_type": "markdown",
      "metadata": {
        "id": "A9gzN78rbJfE",
        "colab_type": "text"
      },
      "source": [
        "import urllib.request\n",
        "\n",
        "url_wiki = 'https://drive.google.com/file/d/1HZxMVthzG-tboMXO0qsPkeH2Cuq1YCbi/view?usp=sharing' # 2000\n",
        "\n",
        "url_wiki = 'https://drive.google.com/uc?export=download&id=1iteaiSPd1OLJdKZitcv76LzrD_mAC8S8'# 5\n",
        "\n",
        "url_wiki = 'https://drive.google.com/uc?export=download&id=15hhpN2EszdRx7-PN43yGFsoFPuZzwFO1'   # 200\n",
        "\n",
        "f = urllib.request.urlopen(url_wiki)\n",
        "\n"
      ]
    },
    {
      "cell_type": "code",
      "metadata": {
        "id": "bm74-3SSaULa",
        "colab_type": "code",
        "colab": {
          "base_uri": "https://localhost:8080/",
          "height": 50
        },
        "outputId": "6e9c49fa-392b-415c-f34b-b107a8e4cae6"
      },
      "source": [
        "with open(dataset_path+dataset_file, 'r') as f:\n",
        "  dss = json.load(f)\n",
        "\n",
        "print(f\"Dataset of {len(dss['X'])} texts of {len(set(dss['y']))} classes - vocabulary of {len(dss['word_index'])} words\")\n",
        "print(dss['categories'])"
      ],
      "execution_count": 245,
      "outputs": [
        {
          "output_type": "stream",
          "text": [
            "Dataset of 8977 texts of 6 classes - vocabulary of 212852 words\n",
            "['Economy', 'Regulation', 'Environment', 'Health', 'Industry', 'Cultures']\n"
          ],
          "name": "stdout"
        }
      ]
    },
    {
      "cell_type": "code",
      "metadata": {
        "id": "Zbp4GDAMaUup",
        "colab_type": "code",
        "colab": {
          "base_uri": "https://localhost:8080/",
          "height": 33
        },
        "outputId": "547b4c2f-7729-44f6-8b2a-70caf89bf085"
      },
      "source": [
        "dss.keys()"
      ],
      "execution_count": 246,
      "outputs": [
        {
          "output_type": "execute_result",
          "data": {
            "text/plain": [
              "dict_keys(['max_i', 'max_words', 'word_index', 'categories', 'X', 'y'])"
            ]
          },
          "metadata": {
            "tags": []
          },
          "execution_count": 246
        }
      ]
    },
    {
      "cell_type": "markdown",
      "metadata": {
        "id": "JEjlM2EazOf0",
        "colab_type": "text"
      },
      "source": [
        "## Step 3: Data Preprocessing"
      ]
    },
    {
      "cell_type": "markdown",
      "metadata": {
        "id": "wB0tNtXJzTfA",
        "colab_type": "text"
      },
      "source": [
        "### Setting up the dataset parameters"
      ]
    },
    {
      "cell_type": "code",
      "metadata": {
        "id": "Jw6_KU24SrYK",
        "colab_type": "code",
        "colab": {}
      },
      "source": [
        "number_of_words = len(dss['word_index'])\n",
        "max_len = 500"
      ],
      "execution_count": 0,
      "outputs": []
    },
    {
      "cell_type": "code",
      "metadata": {
        "id": "-Eu8FA2Eg8lT",
        "colab_type": "code",
        "colab": {}
      },
      "source": [
        "import numpy as np"
      ],
      "execution_count": 0,
      "outputs": []
    },
    {
      "cell_type": "code",
      "metadata": {
        "id": "ts2YFGCqhC_B",
        "colab_type": "code",
        "colab": {}
      },
      "source": [
        "X_arr = np.array(dss['X'])\n",
        "y_arr = np.array(dss['y'])\n",
        "ylabels = dss['categories']\n"
      ],
      "execution_count": 0,
      "outputs": []
    },
    {
      "cell_type": "code",
      "metadata": {
        "id": "-ezjk4UthdWJ",
        "colab_type": "code",
        "colab": {
          "base_uri": "https://localhost:8080/",
          "height": 33
        },
        "outputId": "a2fc1537-be3c-4fc3-bfe8-ab4c30020e8c"
      },
      "source": [
        "split = 0.2\n",
        "\n",
        "dataset_size = len(y_arr)\n",
        "test_size    = int(dataset_size * split)\n",
        "train_size   = dataset_size - test_size\n",
        "test_indexes  = np.random.choice(range(dataset_size),test_size,replace=False)\n",
        "train_indexes =  np.array(list(set(range(dataset_size)) - set(test_indexes)))\n",
        "np.random.shuffle(train_indexes)\n",
        "dataset_size,len(train_indexes),len(test_indexes)            "
      ],
      "execution_count": 299,
      "outputs": [
        {
          "output_type": "execute_result",
          "data": {
            "text/plain": [
              "(8977, 7182, 1795)"
            ]
          },
          "metadata": {
            "tags": []
          },
          "execution_count": 299
        }
      ]
    },
    {
      "cell_type": "code",
      "metadata": {
        "id": "BL-mo_J6oLhE",
        "colab_type": "code",
        "colab": {}
      },
      "source": [
        "(X_train, y_train), (X_test, y_test) = (X_arr[train_indexes],y_arr[train_indexes]),(X_arr[test_indexes],y_arr[test_indexes])"
      ],
      "execution_count": 0,
      "outputs": []
    },
    {
      "cell_type": "markdown",
      "metadata": {
        "id": "ZI4hMdYkGtx-",
        "colab_type": "text"
      },
      "source": [
        "## Explore some reviews\n"
      ]
    },
    {
      "cell_type": "code",
      "metadata": {
        "id": "ocGKrXJU7Vic",
        "colab_type": "code",
        "colab": {}
      },
      "source": [
        "id_to_word = {dss['word_index'][key]:key for key in dss['word_index'].keys()}"
      ],
      "execution_count": 0,
      "outputs": []
    },
    {
      "cell_type": "code",
      "metadata": {
        "id": "Ojs9DxxgCWZt",
        "colab_type": "code",
        "outputId": "688760bf-1c44-4f91-c998-7f423e5a1ad1",
        "colab": {
          "base_uri": "https://localhost:8080/",
          "height": 1000
        }
      },
      "source": [
        "import textwrap\n",
        "size = 3\n",
        "sample = np.random.choice(range(len(X_train)),size,replace=False)\n",
        "for i in sample:\n",
        "    print(f'Text #{i}:{ylabels[y_train[i]]}')\n",
        "    s = ' '.join(id_to_word[id] for id in X_train[i])\n",
        "    print('\\n'.join(textwrap.wrap(s, width=120, replace_whitespace=False)))\n",
        "    print()\n",
        "\n"
      ],
      "execution_count": 302,
      "outputs": [
        {
          "output_type": "stream",
          "text": [
            "Text #4192:Economy\n",
            "jung xxxunk xxxunk chinese xxxunk pinyin xxxunk xxxunk xxxunk was a xxxunk collector dealer and scholar of traditional\n",
            "chinese art xxxunk has been publicly recognized by the world congress of chinese collectors as the leading american\n",
            "collector of chinese painting of his generation over his almost 50 year professional career based in the san francisco\n",
            "bay area he built and helped to build several important collections of chinese painting and was friends with significant\n",
            "figures in the chinese art world he authored a number of scholarly works on chinese painting and calligraphy and\n",
            "collections he assembled have been the subjects of research and exhibition projects by major museums art academies and\n",
            "publishing houses b xxxunk biography xxxunk was born in xxxunk china in 1929 to a prominent family that became aligned\n",
            "with china's nationalist party the xxxunk his father was named xxxunk xxxunk in his early years due to the chinese civil\n",
            "war he migrated to western china then returned to the north and finally in 1949 emigrated to taiwan republic of china to\n",
            "escape the chinese communist revolution in the 1950s he managed his family's collection of chinese paintings and studied\n",
            "chinese painting xxxunk under noted art authority li lin xxxunk senior curator at the national palace museum taipei he\n",
            "attended law school in taipei and became a lawyer then a judge in 1963 he traveled to the united states and settled in\n",
            "berkeley california soon thereafter he gave up the practice of law he became a professional art dealer in the mid 1960s\n",
            "establishing the art gallery fine east fine arts in san francisco in 1974 and xxxunk the remainder of his life to the\n",
            "preservation and promotion of traditional chinese art projects and collections although his family's collection of\n",
            "chinese paintings included earlier works xxxunk while living in taipei in the 1950s began to re focus the collection on\n",
            "more recent artists in particular those from the modern period 1840 – 1966 such as qi xxxunk he ultimately built a\n",
            "balanced and xxxunk collection of modern chinese painting he also assembled a comprehensive collection of seventeenth\n",
            "century paintings a major collection of paintings by the twentieth century landscape master huang xxxunk and a\n",
            "collection of chinese seals that ranges from the xxxunk states period xxxunk – xxxunk bce through the twentieth century\n",
            "xxxunk has been recognized as a guiding force behind several important private collections such as the richard fabian\n",
            "collection and the michael xxxunk collection many works from xxxunk collection are either parts of the permanent\n",
            "collection or promised gifts to museums including the metropolitan museum of art new york city the asian art museum of\n",
            "san francisco and the cleveland museum of art xxxunk collections or collections he has built have been prominently\n",
            "featured in numerous research publication and exhibition projects including publications chen xxxunk craig xxxunk jung\n",
            "xxxunk xxxunk modern ink the art of xxxunk honolulu university of xxxunk press 2015 isbn 978 xxxunk xxxunk xxxunk craig\n",
            "xxxunk jung xxxunk xxxunk modern ink the art of qi xxxunk honolulu university of xxxunk press 2014 isbn 978 0 xxxunk\n",
            "xxxunk 1 kenneth wayne ed xxxunk xxxunk and qi xxxunk beijing 1930 milan 5 continents editions 2013 isbn 978 xxxunk\n",
            "xxxunk xxxunk xxxunk li lu xxxunk xxxunk xxxunk xxxunk xxxunk cai xxxunk xxxunk xxxunk selected xxxunk of modern chinese\n",
            "painting the xxxunk family xxxunk collection 4 volumes shanghai shanghai fine arts publishing house 2010 isbn 978 xxxunk\n",
            "stephen little jonathan xxxunk chu xxxunk li xxxunk xxxunk richard fabian new songs on ancient xxxunk 19th – 20th\n",
            "century chinese paintings and calligraphy from the richard fabian collection honolulu honolulu academy of arts 2007 isbn\n",
            "978 xxxunk julia frances andrews michael knight xxxunk yao asian art museum of san francisco between the thunder and the\n",
            "rain chinese paintings from the opium war through the cultural revolution 1840 1979 san francisco echo rock ventures in\n",
            "association with the asian art museum of san francisco – xxxunk moon lee center for asian art and culture 2000 isbn 978\n",
            "xxxunk li chu xxxunk chu xxxunk li xxxunk xxxunk li xxxunk xxxunk xxxunk xxxunk hui xxxunk xxxunk xxxunk xxxunk xxxunk\n",
            "xxxunk 1840 – 1911 taipei xxxunk xxxunk xxxunk pan 1998 jung xxxunk xxxunk the paintings of xxxunk and qi xxxunk seattle\n",
            "and london university of washington press 1993 isbn 978 xxxunk shen c y fu jan stuart challenging the past the paintings\n",
            "of chang xxxunk xxxunk seattle and london university of washington press 1991 isbn 978 xxxunk jung xxxunk xxxunk chinese\n",
            "paintings of the middle qing dynasty san francisco san francisco graphic society 1987 isbn 978 xxxunk xxxunk suzuki ed\n",
            "comprehensive illustrated catalogue of chinese paintings 5 volumes tokyo university of tokyo press 1982 isbn 978 xxxunk\n",
            "jung xxxunk xxxunk joe huang james h xxxunk the four jens far east fine arts inc 1977 exhibitions and loans alternative\n",
            "dreams 17th century chinese paintings from the xxxunk family collection los angeles county museum of art xxxunk august 7\n",
            "– december 4 2016 xxxunk name xxxunk 2016 alternative dreams 17th century chinese paintings from the xxxunk family\n",
            "collection los angeles county museum of art xxxunk 2016 ref the xxxunk anniversary exhibition of huang xxxunk national\n",
            "art museum of china april 4 – may 10 2015 short term loan of album of 172 xxxunk after old masters and album of 20\n",
            "corresponding xxxunk detailed and abbreviated the xxxunk family collection of seventeenth century chinese painting long\n",
            "term loan to los angeles county museum of art xxxunk 2013 – ongoing the richard fabian collection long term loan to\n",
            "museum of fine arts houston 2013 – 2015 the carved brush calligraphy painting and seal carving by qi xxxunk asian art\n",
            "museum of san francisco october 29 2013 – july 13 2014 xxxunk xxxunk and qi xxxunk beijing 1930 university of michigan\n",
            "museum of art may 18 – september 1 2013 xxxunk museum september 25 2013 – january 26 2014 selected xxxunk of modern\n",
            "chinese painting from the xxxunk collection central academy of fine arts xxxunk beijing 2010 new songs on ancient xxxunk\n",
            "19th – 20th century chinese paintings and calligraphy from the richard fabian collection honolulu academy of arts august\n",
            "30 – november 11 2007 between the thunder and the rain chinese paintings from the opium war through the cultural\n",
            "revolution 1840 1979 asian art museum of san francisco october 25 2000 – january 14 2001 challenging the past the\n",
            "paintings of chang xxxunk xxxunk smithsonian institution xxxunk gallery november 24 1991 – april 5 1992 friendships and\n",
            "recognition xxxunk was a younger contemporary and friend of the collector c c wang who collected classical paintings and\n",
            "thus was competitive with xxxunk only around collecting paintings of the seventeenth century where their interests\n",
            "xxxunk xxxunk also built lasting friendships with fellow art xxxunk who lived in or travelled to the san francisco bay\n",
            "area including the artist zhang xxxunk professors of chinese art history michael sullivan and chu xxxunk li pinyin li\n",
            "xxxunk and their students xxxunk xxxunk cai xxxunk xxxunk xxxunk and james xxxunk scholar fred xxxunk yu wang and the\n",
            "collectors richard fabian michael xxxunk and michael xxxunk as china re opened in the 1980s and 1990s xxxunk traveled\n",
            "there frequently building friendships with the shanghai museum curators xxxunk xxxunk and xxxunk wei artists li xxxunk\n",
            "zhu xxxunk huang xxxunk xxxunk xxxunk dealer collectors robert zhang pinyin zhang xxxunk and others in 2008 xxxunk was\n",
            "selected to represent all american collectors and give a keynote address at the first annual world congress of chinese\n",
            "collectors in shanghai he was recognized by the organizers for collecting art not for investment but rather to elevate\n",
            "the spirit and nurture refinement after his passing in 2011 mr xxxunk heirs established the xxxunk foundation in\n",
            "reference to xxxunk studio name a charitable family foundation dedicated to supporting research and educational\n",
            "programming in the field of traditional chinese art and culture notes references\n",
            "\n",
            "Text #3043:Environment\n",
            "in macroecology and community ecology an occupancy frequency distribution xxxunk is the distribution of the numbers of\n",
            "species occupying different numbers of areas it was first reported in 1918 by the danish botanist xxxunk c xxxunk in his\n",
            "study on plant communities the xxxunk is also known as the species range size distribution in literature xxxunk a\n",
            "typical form of xxxunk is a xxxunk distribution indicating the species in a community is either rare or common known as\n",
            "xxxunk law of distribution of frequencies that is with each species assigned to one of five 20 wide occupancy classes\n",
            "xxxunk law predicts xxxunk distributions within homogenous plant formations with modes in the first 0 20 and last 81 100\n",
            "classes although xxxunk law has long been discounted as an index of plant community homogeneity the method of using\n",
            "occupancy classes to construct xxxunk is still commonly used for both plant and animal assemblages henry xxxunk\n",
            "commented on this law in a 1929 ecology article in conclusion we may say that xxxunk law is merely an expression of the\n",
            "fact that in any association there are more species with few individuals than with many that the law is most apparent\n",
            "when xxxunk are chosen of the most xxxunk size to show frequency and that it is obscured or lost if the xxxunk are\n",
            "either too large or too small evidently there are different shapes of xxxunk found in literature xxxunk reported that\n",
            "approximately 46 of observations have a right skewed xxxunk shape 27 xxxunk and 27 uniform a recent study xxxunk about\n",
            "24 xxxunk xxxunk in among xxxunk real communities factors as pointed out by xxxunk the variety shapes of xxxunk can be\n",
            "explained to a large degree by the size of the sampling interval for instance xxxunk and xxxunk 2002 show that the\n",
            "number of satellite rare species declines with the increase of sampling grains but the number of core common species\n",
            "increases showing a tendency from a xxxunk xxxunk towards a right skewed xxxunk distribution this is because species\n",
            "range measured as occupancy is strongly affected by the spatial scale and its aggregation structure known often as the\n",
            "scaling pattern of occupancy such scale dependence of occupancy has a profound effect on other xxxunk patterns such as\n",
            "the occupancy abundance relationship other factors that have been proposed to be able to affect the shape of xxxunk\n",
            "include the degree of habitat heterogeneity species specificity landscape productivity position in the geographic range\n",
            "species dispersal ability and the xxxunk dynamics mechanisms three basic models have been proposed to explain the xxxunk\n",
            "found in occupancy frequency distributions sampling results random sampling of individuals from either xxxunk or log\n",
            "series rank abundance distributions where random choice of an individual from a given species was proportional to its\n",
            "frequency may produce xxxunk occupancy distributions this model is not particularly sensitive or informative as to the\n",
            "mechanisms generating xxxunk in occupancy frequency distributions because the mechanisms generating the xxxunk species\n",
            "abundance distribution are still under heavy debate core satellite hypothesis xxxunk may be generated by colonization\n",
            "extinction metapopulation dynamics associated with a strong rescue effect this model is appropriate to explain the range\n",
            "structure of a community that is influenced by metapopulation processes such as dispersal and local extinction however\n",
            "it is not robust because the shape of the occupancy frequency distribution generated by this model is highly sensitive\n",
            "to species immigration and extinction parameters the metapopulation model does also not explain scale dependence in the\n",
            "occupancy frequency distribution occupancy probability transition the third model that describes xxxunk in the occupancy\n",
            "frequency distribution is based on the scaling pattern of occupancy under a self similar assumption of species\n",
            "distributions called the occupancy probability transition opt model the opt model is based on xxxunk et al 's xxxunk\n",
            "scheme although not on their probability rule and the xxxunk probability of occupancy at different scales the opt model\n",
            "has been shown to support two empirical observations that xxxunk is prevalent in interspecific occupancy frequency\n",
            "distributions that the number of satellite species in the distribution increases towards finer scales the opt model\n",
            "demonstrates that the sample grain of a study sampling adequacy and the distribution of species saturation coefficients\n",
            "a measure of the fractal xxxunk of a species distribution in a community are together largely able to explain the\n",
            "patterns commonly found in empirical occupancy distributions hui and xxxunk 2007 further show that the self similarity\n",
            "in species distributions breaks down according to a power relationship with spatial scales and we therefore adopt a\n",
            "power scaling assumption for modeling species occupancy distributions the xxxunk in occupancy frequency distributions\n",
            "that is common in species communities is confirmed to a result for certain mathematical and statistical properties of\n",
            "the probability distribution of occupancy the results thus demonstrate that the use of the xxxunk method in combination\n",
            "with a power scaling assumption is more appropriate for modeling species distributions than the use of a self similarity\n",
            "assumption particularly at fine scales this model further xxxunk the xxxunk xxxunk debate xxxunk et al demonstrated that\n",
            "the power law form of the xxxunk relationship may be derived from a xxxunk self similar landscape and a community level\n",
            "probability rule however xxxunk showed that this self similarity model generates biologically unrealistic predictions\n",
            "hui and xxxunk 2008 resolve the xxxunk debate by demonstrating that the problems identified by xxxunk result from an\n",
            "assumption that the probability of occurrence of a species at one scale is independent of its probability of occurrence\n",
            "at the next and further illustrate the importance of considering patterns of species co occurrence and the way in which\n",
            "species occupancy patterns change with scale when modeling species distributions see also rank abundance curve\n",
            "references\n",
            "\n",
            "Text #4938:Health\n",
            "this is a list of countries by of health expenditure covered by government as published by the oecd in 2016 public\n",
            "health expenditure consists of recurrent and capital spending from government central and local budgets external xxxunk\n",
            "and grants including donations from international agencies and xxxunk organizations and social or compulsory health\n",
            "insurance funds total health expenditure is the sum of public and private health expenditure it covers the provision of\n",
            "health services preventive and curative family planning activities nutrition activities and emergency aid designated for\n",
            "health but does not include provision of water and sanitation 2016 oecd member rankings see also list of countries by\n",
            "hospital beds list of countries by life expectancy list of countries by total health expenditure per capita references\n",
            "\n"
          ],
          "name": "stdout"
        }
      ]
    },
    {
      "cell_type": "markdown",
      "metadata": {
        "id": "MZKDNoTKzi5w",
        "colab_type": "text"
      },
      "source": [
        "### Padding all sequences to be the same length "
      ]
    },
    {
      "cell_type": "code",
      "metadata": {
        "id": "LHcMNzv7Pd1s",
        "colab_type": "code",
        "colab": {}
      },
      "source": [
        "# Changing variable name to preserve orginal dataset\n",
        "X_train_p = tf.keras.preprocessing.sequence.pad_sequences(X_train, maxlen=max_len)"
      ],
      "execution_count": 0,
      "outputs": []
    },
    {
      "cell_type": "code",
      "metadata": {
        "id": "Fcxd--ESP3Rh",
        "colab_type": "code",
        "colab": {}
      },
      "source": [
        "# Changing variable name to preserve orginal dataset\n",
        "X_test_p = tf.keras.preprocessing.sequence.pad_sequences(X_test, maxlen=max_len)"
      ],
      "execution_count": 0,
      "outputs": []
    },
    {
      "cell_type": "markdown",
      "metadata": {
        "id": "VG6LBKGnz7jT",
        "colab_type": "text"
      },
      "source": [
        "## Step 4: Building a Recurrent Neural Network"
      ]
    },
    {
      "cell_type": "markdown",
      "metadata": {
        "id": "TUVnz-9K0DcW",
        "colab_type": "text"
      },
      "source": [
        "### Defining the model"
      ]
    },
    {
      "cell_type": "code",
      "metadata": {
        "id": "N2GHzwk6OMrV",
        "colab_type": "code",
        "colab": {}
      },
      "source": [
        "model = tf.keras.Sequential()"
      ],
      "execution_count": 0,
      "outputs": []
    },
    {
      "cell_type": "markdown",
      "metadata": {
        "id": "lnXJZYR-0HXE",
        "colab_type": "text"
      },
      "source": [
        "### Adding the embedding layer"
      ]
    },
    {
      "cell_type": "code",
      "metadata": {
        "id": "UWqC0DXbO9FU",
        "colab_type": "code",
        "colab": {}
      },
      "source": [
        "model.add(tf.keras.layers.Embedding(input_dim=number_of_words, output_dim=128, input_shape=(X_train_p.shape[1],)))"
      ],
      "execution_count": 0,
      "outputs": []
    },
    {
      "cell_type": "code",
      "metadata": {
        "id": "GWT_rMlaS8Kr",
        "colab_type": "code",
        "outputId": "aa1b62c9-6d1a-4843-eea8-b52515540866",
        "colab": {
          "base_uri": "https://localhost:8080/",
          "height": 184
        }
      },
      "source": [
        "model.summary()"
      ],
      "execution_count": 307,
      "outputs": [
        {
          "output_type": "stream",
          "text": [
            "Model: \"sequential_8\"\n",
            "_________________________________________________________________\n",
            "Layer (type)                 Output Shape              Param #   \n",
            "=================================================================\n",
            "embedding_9 (Embedding)      (None, 500, 128)          27245056  \n",
            "=================================================================\n",
            "Total params: 27,245,056\n",
            "Trainable params: 27,245,056\n",
            "Non-trainable params: 0\n",
            "_________________________________________________________________\n"
          ],
          "name": "stdout"
        }
      ]
    },
    {
      "cell_type": "markdown",
      "metadata": {
        "id": "CM-lpTZX1mEG",
        "colab_type": "text"
      },
      "source": [
        "### Adding the LSTM layer\n",
        "\n",
        "- units: 128\n",
        "- activation: tanh"
      ]
    },
    {
      "cell_type": "code",
      "metadata": {
        "id": "5W7IXqhjQpAl",
        "colab_type": "code",
        "outputId": "3f3a058b-d561-4a71-f3ec-c0abd59e4eb7",
        "colab": {
          "base_uri": "https://localhost:8080/",
          "height": 53
        }
      },
      "source": [
        "model.add(tf.keras.layers.LSTM(units=128, activation='tanh'))"
      ],
      "execution_count": 308,
      "outputs": [
        {
          "output_type": "stream",
          "text": [
            "W0720 17:41:13.333664 139751820433280 tf_logging.py:161] <tensorflow.python.keras.layers.recurrent.UnifiedLSTM object at 0x7f19a44b6860>: Note that this layer is not optimized for performance. Please use tf.keras.layers.CuDNNLSTM for better performance on GPU.\n"
          ],
          "name": "stderr"
        }
      ]
    },
    {
      "cell_type": "markdown",
      "metadata": {
        "id": "9T9M5Ult10XM",
        "colab_type": "text"
      },
      "source": [
        "### Adding the output layer\n",
        "\n",
        "- units: 1\n",
        "- activation: sigmoid"
      ]
    },
    {
      "cell_type": "code",
      "metadata": {
        "id": "xe1nHzq7Q91-",
        "colab_type": "code",
        "colab": {}
      },
      "source": [
        "model.add(tf.keras.layers.Dense(units=len(ylabels), activation='softmax'))"
      ],
      "execution_count": 0,
      "outputs": []
    },
    {
      "cell_type": "markdown",
      "metadata": {
        "id": "VWcqM4Yr2ALS",
        "colab_type": "text"
      },
      "source": [
        "### Compiling the model"
      ]
    },
    {
      "cell_type": "code",
      "metadata": {
        "id": "-z9ACOXcRUUN",
        "colab_type": "code",
        "colab": {}
      },
      "source": [
        "model.compile(optimizer='adam', loss='sparse_categorical_crossentropy', metrics=['sparse_categorical_accuracy'])"
      ],
      "execution_count": 0,
      "outputs": []
    },
    {
      "cell_type": "code",
      "metadata": {
        "id": "PiolKKO6RjVF",
        "colab_type": "code",
        "outputId": "388b3f1b-b213-4083-a1db-9c019a8b573c",
        "colab": {
          "base_uri": "https://localhost:8080/",
          "height": 250
        }
      },
      "source": [
        "model.summary()"
      ],
      "execution_count": 311,
      "outputs": [
        {
          "output_type": "stream",
          "text": [
            "Model: \"sequential_8\"\n",
            "_________________________________________________________________\n",
            "Layer (type)                 Output Shape              Param #   \n",
            "=================================================================\n",
            "embedding_9 (Embedding)      (None, 500, 128)          27245056  \n",
            "_________________________________________________________________\n",
            "unified_lstm_9 (UnifiedLSTM) (None, 128)               131584    \n",
            "_________________________________________________________________\n",
            "dense_9 (Dense)              (None, 6)                 774       \n",
            "=================================================================\n",
            "Total params: 27,377,414\n",
            "Trainable params: 27,377,414\n",
            "Non-trainable params: 0\n",
            "_________________________________________________________________\n"
          ],
          "name": "stdout"
        }
      ]
    },
    {
      "cell_type": "markdown",
      "metadata": {
        "id": "2bPUvbfe2GJI",
        "colab_type": "text"
      },
      "source": [
        "### Training the model"
      ]
    },
    {
      "cell_type": "code",
      "metadata": {
        "id": "9FqUTA1CRpQ8",
        "colab_type": "code",
        "outputId": "0385eaa8-4bf3-47b3-9c19-4c9219617d1d",
        "colab": {
          "base_uri": "https://localhost:8080/",
          "height": 200
        }
      },
      "source": [
        "model.fit(X_train_p, y_train, epochs=5, batch_size=128)"
      ],
      "execution_count": 312,
      "outputs": [
        {
          "output_type": "stream",
          "text": [
            "Epoch 1/5\n",
            "7182/7182 [==============================] - 7s 984us/sample - loss: 1.7103 - sparse_categorical_accuracy: 0.2843\n",
            "Epoch 2/5\n",
            "7182/7182 [==============================] - 7s 941us/sample - loss: 1.2759 - sparse_categorical_accuracy: 0.5103\n",
            "Epoch 3/5\n",
            "7182/7182 [==============================] - 7s 946us/sample - loss: 0.8762 - sparse_categorical_accuracy: 0.7196\n",
            "Epoch 4/5\n",
            "7182/7182 [==============================] - 7s 943us/sample - loss: 0.4669 - sparse_categorical_accuracy: 0.8592\n",
            "Epoch 5/5\n",
            "7182/7182 [==============================] - 7s 941us/sample - loss: 0.2717 - sparse_categorical_accuracy: 0.9198\n"
          ],
          "name": "stdout"
        },
        {
          "output_type": "execute_result",
          "data": {
            "text/plain": [
              "<tensorflow.python.keras.callbacks.History at 0x7f19a44b6da0>"
            ]
          },
          "metadata": {
            "tags": []
          },
          "execution_count": 312
        }
      ]
    },
    {
      "cell_type": "markdown",
      "metadata": {
        "id": "-wMo2wYpbCgb",
        "colab_type": "text"
      },
      "source": [
        "### Evaluating the model"
      ]
    },
    {
      "cell_type": "code",
      "metadata": {
        "id": "a8kD_6q-RySO",
        "colab_type": "code",
        "outputId": "7eeaa814-c8d5-4d21-fcf2-645ea347b005",
        "colab": {
          "base_uri": "https://localhost:8080/",
          "height": 33
        }
      },
      "source": [
        "test_loss, test_acurracy = model.evaluate(X_test_p, y_test)"
      ],
      "execution_count": 313,
      "outputs": [
        {
          "output_type": "stream",
          "text": [
            "1795/1795 [==============================] - 2s 860us/sample - loss: 0.8615 - sparse_categorical_accuracy: 0.7337\n"
          ],
          "name": "stdout"
        }
      ]
    },
    {
      "cell_type": "code",
      "metadata": {
        "id": "C0XnUtS-cEeI",
        "colab_type": "code",
        "outputId": "1789ffd2-0f7b-446a-eef9-7f2a1cbb817c",
        "colab": {
          "base_uri": "https://localhost:8080/",
          "height": 33
        }
      },
      "source": [
        "print(\"Test accuracy: {}\".format(test_acurracy))"
      ],
      "execution_count": 314,
      "outputs": [
        {
          "output_type": "stream",
          "text": [
            "Test accuracy: 0.7337047457695007\n"
          ],
          "name": "stdout"
        }
      ]
    },
    {
      "cell_type": "code",
      "metadata": {
        "id": "byyBa3ohZ5Ui",
        "colab_type": "code",
        "colab": {}
      },
      "source": [
        "#model = tf.keras.Sequential()\n",
        "#model.add(tf.keras.layers.Embedding(input_dim=number_of_words, output_dim=128, input_shape=(X_train_p.shape[1],)))\n",
        "#model.add(tf.keras.layers.LSTM(units=128, activation='tanh'))\n",
        "#model.add(tf.keras.layers.GlobalAveragePooling1D())\n",
        "#model.add(tf.keras.layers.Dense(units=128, activation='relu'))\n",
        "#model.add(tf.keras.layers.BatchNormalization())\n",
        "#model.add(tf.keras.layers.Dropout(0.2))\n",
        "#model.add(tf.keras.layers.Dense(units=128, activation='relu'))\n",
        "#model.add(tf.keras.layers.BatchNormalization())\n",
        "#model.add(tf.keras.layers.Dropout(0.2))\n",
        "#model.add(tf.keras.layers.Dense(units=1, activation='sigmoid'))\n",
        "#model.compile(optimizer='rmsprop', loss='binary_crossentropy', metrics=['accuracy'])\n",
        "#model.fit(X_train_p, y_train, epochs=3, batch_size=128)\n",
        "#test_loss, test_acurracy = model.evaluate(X_test_p, y_test)\n",
        "#print(\"Test accuracy: {}\".format(test_acurracy))"
      ],
      "execution_count": 0,
      "outputs": []
    },
    {
      "cell_type": "code",
      "metadata": {
        "id": "bCvgbLnfZ51x",
        "colab_type": "code",
        "outputId": "47ea7de3-fdac-4edb-ab15-1737286dbb56",
        "colab": {
          "base_uri": "https://localhost:8080/",
          "height": 1000
        }
      },
      "source": [
        "\n",
        "size = 3\n",
        "sample = np.random.choice(range(len(X_test)),size)\n",
        "predictions = model.predict_classes(X_test_p[sample])\n",
        "for idx,i in enumerate(sample):\n",
        "    print(f'Review #{i} - P:{ylabels[predictions[idx]]},A:{ylabels[y_test[sample[idx]]]}')\n",
        "    s = ' '.join(id_to_word[id] for id in X_test[i])\n",
        "    print('\\n'.join(textwrap.wrap(s, width=120, replace_whitespace=False)))\n",
        "    print()\n"
      ],
      "execution_count": 315,
      "outputs": [
        {
          "output_type": "stream",
          "text": [
            "Review #333 - P:Regulation,A:Regulation\n",
            "regulatory law refers to law promulgated by an executive branch agency under a delegation from a legislature discussed\n",
            "at regulation law and primary and secondary legislation regulatory law contrasts to statutory law promulgated by the\n",
            "legislative branch and common law or case law promulgated by the judicial branch the law that governs conduct of\n",
            "administrative agencies both xxxunk of regulations and xxxunk of applications or disputes and judicial review of agency\n",
            "decisions is called administrative law administrative law is promulgated by the legislature and refined by judicial\n",
            "common law for governing agencies the administrative agencies are to create procedures applications licences appeals and\n",
            "one other important thing called decision making administrative procedure act is responsible for all the federal agency\n",
            "policies some states have started following the policies through law or by regulation references\n",
            "\n",
            "Review #288 - P:Economy,A:Economy\n",
            "dividend stripping is the practice of buying shares a short period before a dividend is declared called cum dividend and\n",
            "then selling them when they go ex dividend when the previous owner is entitled to the dividend on the day the company\n",
            "trades ex dividend theoretically the share price drops by the amount of the dividend however the experience is that\n",
            "quality companies tend to recover the value of the dividend within a matter of weeks at which time they trade normally\n",
            "this may be done either by an ordinary investor as an investment strategy or by a company's owners or associates as a\n",
            "tax avoidance strategy investors for an investor dividend stripping provides dividend income and a capital loss when the\n",
            "shares fall in value in normal circumstances on going ex dividend this may be profitable if income is greater than the\n",
            "loss or if the tax treatment of the two gives an advantage different tax circumstances of different investors is a\n",
            "factor a tax advantage available to everyone would be expected to show up in the ex dividend price fall but an advantage\n",
            "available only to a limited set of investors might not in any case the amount of profit on such a transaction is usually\n",
            "small meaning that it may not be worthwhile after brokerage fees the risk of holding shares overnight the market spread\n",
            "or possible xxxunk if the market lacks liquidity tax avoidance dividend stripping or cum ex trading can be used as a tax\n",
            "avoidance strategy enabling a company to be distributed company profits to its owners as a capital sum instead of as a\n",
            "dividend which offers tax benefits if the effective tax rate on capital gains is lower than for dividends for example\n",
            "consider a company called xxxunk wishing to distribute x with the help of a xxxunk called xxxunk 1 xxxunk buys xxxunk\n",
            "shares from their present owners for x y 2 xxxunk now owned by xxxunk declares a dividend of x which is paid to xxxunk 3\n",
            "xxxunk sells its shares back to the owners for y the net effect for the owners is an x capital gain the net effect for\n",
            "xxxunk is nothing the dividend it receives is income and its loss on the share trading is a deduction xxxunk might need\n",
            "to be in the business of share trading to get such a deduction i e treating shares as merchandise instead of capital\n",
            "assets many variations are possible xxxunk might buy different class b shares in xxxunk for just the x amount not the\n",
            "whole of xxxunk such class b shares could have their rights changed by xxxunk rendering them worthless instead of xxxunk\n",
            "selling them back xxxunk might lend money to xxxunk for the transaction instead of the latter needing bridging finance\n",
            "the tax treatment for each party in an exercise like this will vary from country to country the operation may well be\n",
            "caught at some point by tax laws and or provide no benefit australia in australia ordinary external investors are free\n",
            "to buy shares cum dividend and sell them ex dividend and treat the dividend income and capital loss the same as for any\n",
            "other investment but schemes involving a deliberate arrangement by a company's owners to avoid tax are addressed by anti\n",
            "avoidance provisions of part xxxunk the income tax assessment act 1936 investors dividend stripping by investors has the\n",
            "general advantages or disadvantages described above but in addition in australia there are franking credits attached to\n",
            "dividends under the dividend imputation system those credits can only be used by eligible investors see the dividend\n",
            "imputation article so there's a tension between different investors for the amount shares should fall when going ex\n",
            "dividend a rationally priced drop for one group is a bonus or trading opportunity for the other but the difference is\n",
            "not large in a franked dividend each 0 70 cash has 0 30 of franking attached at the 30 company tax rate for 2005 to\n",
            "eligible investors it's worth 1 00 to others it's worth only 0 70 of before tax income in both cases a typical half\n",
            "yearly dividend in 2005 of 2 of the share price would mean an extra 0 85 in franking credits an amount which might\n",
            "easily be xxxunk by brokerage and the general risks noted above tax avoidance the kind of dividend stripping tax\n",
            "avoidance schemes described above presently fall under anti avoidance provisions of the income tax assessment act part\n",
            "xxxunk amendments introduced in 1981 part xxxunk is a set of general anti avoidance measures addressing schemes with a\n",
            "dominant purpose of creating a tax benefit section xxxunk specifically covers dividend stripping that section exists to\n",
            "avoid any difficulty that might arise from identifying exactly where a tax benefit arises in dividend stripping dividend\n",
            "stripping will generally result in money to owners being taxed as dividends irrespective of xxxunk steps section xxxunk\n",
            "also applies to related schemes which draw off profits from a company xxxunk its owners not just to the formal payment\n",
            "of a dividend for example the xxxunk receiving a non recoverable loan instead of a dividend from the target company the\n",
            "xxxunk selling a worthless asset to the company owners without a separate xxxunk selling a part interest in an asset to\n",
            "the company but later changing the terms to reduce its value losses in the company for such related schemes may be\n",
            "recognised immediately in its accounts or only xxxunk progressively over future years the latter being various forward\n",
            "stripping schemes both are caught by section xxxunk sources income tax assessment act 1936 part xxxunk inserted 1981 1\n",
            "in particular section xxxunk 2 and the explanatory memorandum 3 4 australian taxation office taxation determination td\n",
            "95 37 1995 5 australian taxation office taxpayer alert ta 2004 3 2004 6 united states in the united states dividends may\n",
            "qualify for a lower rate however among other things the stock must be owned for more than 60 days out of a 121 day\n",
            "period around the ex dividend date see also xxxunk files references see also asset stripping\n",
            "\n",
            "Review #821 - P:Industry,A:Cultures\n",
            "project 1975 started in 2010 as a two year project based in the netherlands with the intent to explore the relationships\n",
            "between contemporary art and xxxunk with this project xxxunk museum bureau amsterdam xxxunk explored the role of art and\n",
            "visual culture in the context of colonial practices the project consisted of multiple exhibitions seminars reading\n",
            "groups articles and a blog 1975 in the title refers to the year that suriname gained independence the independent\n",
            "republic of xxxunk was founded in 1975 and the netherlands thus became to some extent postcolonial the project broadened\n",
            "xxxunk focus traditionally on artists based in amsterdam to include artists and people who were new to the city but\n",
            "wanted to contribute to the artistic and cultural environment consequently themes that had not previously been addressed\n",
            "in art institutions in amsterdam found a place to be discussed at xxxunk many questions were raised in this project\n",
            "artists and critics responded to questions such as do colonial xxxunk persist in art and in its institutions exhibitions\n",
            "exhibitions that took place in the context of project 1975 were see reason identity xxxunk the marx xxxunk xxxunk al\n",
            "xxxunk xxxunk xxxunk xxxunk art economy xxxunk vincent xxxunk a sign of autumn the xxxunk xxxunk xxxunk any other\n",
            "business – xxxunk van xxxunk xxxunk xxxunk stefan xxxunk xxxunk xxxunk the memories are present time trade travel and\n",
            "finally xxxunk a journey into an iconic fabric the project was finalized with a publication project 1975 contemporary\n",
            "art and the postcolonial unconscious which includes visual documentation of the project interviews between the curators\n",
            "and artists and essays the memories are present the memories are present and the video programme really exotic ran from\n",
            "16 june to 12 august 2012 and was curated by xxxunk xxxunk xxxunk the participating artists in the exhibition were\n",
            "xxxunk alaska xxxunk xxxunk xxxunk and christoph xxxunk the focus in this exhibition was on the museum as a bearer and\n",
            "xxxunk of knowledge and xxxunk institutional divisions central attention was paid to the ways in which different\n",
            "institutions collect xxxunk and display objects the exhibition challenged the binary xxxunk still prevalent in many\n",
            "institutions between xxxunk xxxunk and xxxunk xxxunk the video programme really exotic focused on the notion of the\n",
            "exotic experience presented were works that could convey or tell the viewer more about this type of experience the\n",
            "xxxunk was organised by xxxunk xxxunk and xxxunk xxxunk xxxunk in collaboration with xxxunk xxxunk xxxunk xxxunk time\n",
            "trade travel the exhibition time trade travel took place from 25 august to 21 october 2012 and was organized in\n",
            "collaboration with the xxxunk foundation xxxunk ghana participating artists were bernard xxxunk jackson dorothy xxxunk\n",
            "xxxunk serge xxxunk xxxunk xxxunk iris xxxunk xxxunk xxxunk xxxunk xxxunk xxxunk xxxunk xxxunk xxxunk xxxunk xxxunk it\n",
            "was the result of an active exchange of knowledge between artists and curators from xxxunk and xxxunk foundation xxxunk\n",
            "the curators from both institutions as well as the participating artists visited each other in their work and cultural\n",
            "environment the title of this exhibition refers to the complicated aspects of international trade and traffic with their\n",
            "capitalist forces and influence on life and art the participating artists in this exhibition set out to discover\n",
            "historical encounters between africans and europeans the subsequent trade and xxxunk relationships that evolved from\n",
            "these contacts and the extent to which these cultural and economic relationships are still of influence today the\n",
            "exhibition travelled on to the xxxunk foundation in xxxunk ghana the exhibition was curated by xxxunk xxxunk and xxxunk\n",
            "xxxunk xxxunk museum bureau amsterdam xxxunk xxxunk and xxxunk xxxunk xxxunk foundation time trade travel was made\n",
            "possible in part by contributions from the xxxunk fund the amsterdam fund for the arts xxxunk and xxxunk xxxunk fund\n",
            "xxxunk a journey into an iconic fabric the exhibition xxxunk a journey into an iconic fabric took place at xxxunk from\n",
            "30 november 2012 to 6 january 2013 the exhibition travelled on to raw material company xxxunk senegal where it was on\n",
            "view from 10 april – 1 june 2013 the curator for this exhibition was xxxunk xxxunk participating artists in this\n",
            "exhibition were xxxunk xxxunk xxxunk xxxunk xxxunk van xxxunk willem de xxxunk xxxunk xxxunk for this exhibition xxxunk\n",
            "commissioned five artists all working in the medium of textile in europe and africa to make new works on the subject of\n",
            "xxxunk or xxxunk xxxunk the xxxunk wax print fabrics that are most often regarded as typically african in the context of\n",
            "this exhibition a catalogue edited by xxxunk and an xxxunk newsletter were published notes references external links\n",
            "project 1975 blog official website xxxunk official website raw material company official website xxxunk xxxunk\n",
            "\n"
          ],
          "name": "stdout"
        }
      ]
    },
    {
      "cell_type": "code",
      "metadata": {
        "id": "vYUx-dDNeHly",
        "colab_type": "code",
        "colab": {}
      },
      "source": [
        ""
      ],
      "execution_count": 0,
      "outputs": []
    }
  ]
}