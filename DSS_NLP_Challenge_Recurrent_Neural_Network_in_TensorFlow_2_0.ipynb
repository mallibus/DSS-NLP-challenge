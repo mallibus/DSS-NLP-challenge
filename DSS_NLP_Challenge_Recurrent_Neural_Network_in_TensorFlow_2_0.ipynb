{
  "nbformat": 4,
  "nbformat_minor": 0,
  "metadata": {
    "colab": {
      "name": "DSS NLP Challenge - Recurrent Neural Network in TensorFlow 2.0.ipynb",
      "version": "0.3.2",
      "provenance": [],
      "collapsed_sections": [],
      "toc_visible": true,
      "include_colab_link": true
    },
    "kernelspec": {
      "name": "python3",
      "display_name": "Python 3"
    },
    "accelerator": "GPU"
  },
  "cells": [
    {
      "cell_type": "markdown",
      "metadata": {
        "id": "view-in-github",
        "colab_type": "text"
      },
      "source": [
        "<a href=\"https://colab.research.google.com/github/mallibus/DSS-NLP-challenge/blob/master/DSS_NLP_Challenge_Recurrent_Neural_Network_in_TensorFlow_2_0.ipynb\" target=\"_parent\"><img src=\"https://colab.research.google.com/assets/colab-badge.svg\" alt=\"Open In Colab\"/></a>"
      ]
    },
    {
      "cell_type": "markdown",
      "metadata": {
        "id": "fefLW6DjdczD",
        "colab_type": "text"
      },
      "source": [
        "![DSS7-NPL Challenge](http://www.datascienceseed.com/wp-content/uploads/2019/07/DSS-CHALLENGE-300x169.jpg)\n",
        "\n"
      ]
    },
    {
      "cell_type": "markdown",
      "metadata": {
        "id": "Z82c-Fcay0a3",
        "colab_type": "text"
      },
      "source": [
        "## Step 1: Installing the dependencies and setting up a GPU environment"
      ]
    },
    {
      "cell_type": "code",
      "metadata": {
        "id": "BMndQSr4O_nd",
        "colab_type": "code",
        "outputId": "43d5111a-df29-4226-c5ad-b8028b08fe48",
        "colab": {
          "base_uri": "https://localhost:8080/",
          "height": 487
        }
      },
      "source": [
        "!pip install tensorflow-gpu==2.0.0.alpha0"
      ],
      "execution_count": 2,
      "outputs": [
        {
          "output_type": "stream",
          "text": [
            "Collecting tensorflow-gpu==2.0.0.alpha0\n",
            "\u001b[?25l  Downloading https://files.pythonhosted.org/packages/1a/66/32cffad095253219d53f6b6c2a436637bbe45ac4e7be0244557210dc3918/tensorflow_gpu-2.0.0a0-cp36-cp36m-manylinux1_x86_64.whl (332.1MB)\n",
            "\u001b[K     |████████████████████████████████| 332.1MB 75kB/s \n",
            "\u001b[?25hRequirement already satisfied: wheel>=0.26 in /usr/local/lib/python3.6/dist-packages (from tensorflow-gpu==2.0.0.alpha0) (0.33.4)\n",
            "Requirement already satisfied: absl-py>=0.7.0 in /usr/local/lib/python3.6/dist-packages (from tensorflow-gpu==2.0.0.alpha0) (0.7.1)\n",
            "Requirement already satisfied: keras-preprocessing>=1.0.5 in /usr/local/lib/python3.6/dist-packages (from tensorflow-gpu==2.0.0.alpha0) (1.1.0)\n",
            "Requirement already satisfied: gast>=0.2.0 in /usr/local/lib/python3.6/dist-packages (from tensorflow-gpu==2.0.0.alpha0) (0.2.2)\n",
            "Requirement already satisfied: google-pasta>=0.1.2 in /usr/local/lib/python3.6/dist-packages (from tensorflow-gpu==2.0.0.alpha0) (0.1.7)\n",
            "Requirement already satisfied: keras-applications>=1.0.6 in /usr/local/lib/python3.6/dist-packages (from tensorflow-gpu==2.0.0.alpha0) (1.0.8)\n",
            "Collecting tf-estimator-nightly<1.14.0.dev2019030116,>=1.14.0.dev2019030115 (from tensorflow-gpu==2.0.0.alpha0)\n",
            "\u001b[?25l  Downloading https://files.pythonhosted.org/packages/13/82/f16063b4eed210dc2ab057930ac1da4fbe1e91b7b051a6c8370b401e6ae7/tf_estimator_nightly-1.14.0.dev2019030115-py2.py3-none-any.whl (411kB)\n",
            "\u001b[K     |████████████████████████████████| 419kB 45.3MB/s \n",
            "\u001b[?25hRequirement already satisfied: termcolor>=1.1.0 in /usr/local/lib/python3.6/dist-packages (from tensorflow-gpu==2.0.0.alpha0) (1.1.0)\n",
            "Requirement already satisfied: six>=1.10.0 in /usr/local/lib/python3.6/dist-packages (from tensorflow-gpu==2.0.0.alpha0) (1.12.0)\n",
            "Collecting tb-nightly<1.14.0a20190302,>=1.14.0a20190301 (from tensorflow-gpu==2.0.0.alpha0)\n",
            "\u001b[?25l  Downloading https://files.pythonhosted.org/packages/a9/51/aa1d756644bf4624c03844115e4ac4058eff77acd786b26315f051a4b195/tb_nightly-1.14.0a20190301-py3-none-any.whl (3.0MB)\n",
            "\u001b[K     |████████████████████████████████| 3.0MB 25.1MB/s \n",
            "\u001b[?25hRequirement already satisfied: protobuf>=3.6.1 in /usr/local/lib/python3.6/dist-packages (from tensorflow-gpu==2.0.0.alpha0) (3.7.1)\n",
            "Requirement already satisfied: grpcio>=1.8.6 in /usr/local/lib/python3.6/dist-packages (from tensorflow-gpu==2.0.0.alpha0) (1.15.0)\n",
            "Requirement already satisfied: numpy<2.0,>=1.14.5 in /usr/local/lib/python3.6/dist-packages (from tensorflow-gpu==2.0.0.alpha0) (1.16.4)\n",
            "Requirement already satisfied: astor>=0.6.0 in /usr/local/lib/python3.6/dist-packages (from tensorflow-gpu==2.0.0.alpha0) (0.8.0)\n",
            "Requirement already satisfied: h5py in /usr/local/lib/python3.6/dist-packages (from keras-applications>=1.0.6->tensorflow-gpu==2.0.0.alpha0) (2.8.0)\n",
            "Requirement already satisfied: markdown>=2.6.8 in /usr/local/lib/python3.6/dist-packages (from tb-nightly<1.14.0a20190302,>=1.14.0a20190301->tensorflow-gpu==2.0.0.alpha0) (3.1.1)\n",
            "Requirement already satisfied: werkzeug>=0.11.15 in /usr/local/lib/python3.6/dist-packages (from tb-nightly<1.14.0a20190302,>=1.14.0a20190301->tensorflow-gpu==2.0.0.alpha0) (0.15.5)\n",
            "Requirement already satisfied: setuptools in /usr/local/lib/python3.6/dist-packages (from protobuf>=3.6.1->tensorflow-gpu==2.0.0.alpha0) (41.0.1)\n",
            "Installing collected packages: tf-estimator-nightly, tb-nightly, tensorflow-gpu\n",
            "Successfully installed tb-nightly-1.14.0a20190301 tensorflow-gpu-2.0.0a0 tf-estimator-nightly-1.14.0.dev2019030115\n"
          ],
          "name": "stdout"
        }
      ]
    },
    {
      "cell_type": "markdown",
      "metadata": {
        "id": "JL3SBH6PzDwV",
        "colab_type": "text"
      },
      "source": [
        "## Step 2: Importing the libraries"
      ]
    },
    {
      "cell_type": "code",
      "metadata": {
        "id": "ynShOu8nNtFt",
        "colab_type": "code",
        "colab": {}
      },
      "source": [
        "import tensorflow as tf\n",
        "from tensorflow.keras.datasets import imdb"
      ],
      "execution_count": 0,
      "outputs": []
    },
    {
      "cell_type": "code",
      "metadata": {
        "id": "Kw7-sPdOzf5l",
        "colab_type": "code",
        "outputId": "c7d0c492-6b25-4cb7-f8b6-588d0bc867cc",
        "colab": {
          "base_uri": "https://localhost:8080/",
          "height": 33
        }
      },
      "source": [
        "tf.__version__"
      ],
      "execution_count": 4,
      "outputs": [
        {
          "output_type": "execute_result",
          "data": {
            "text/plain": [
              "'2.0.0-alpha0'"
            ]
          },
          "metadata": {
            "tags": []
          },
          "execution_count": 4
        }
      ]
    },
    {
      "cell_type": "code",
      "metadata": {
        "id": "Ewl4NpIWaZG5",
        "colab_type": "code",
        "colab": {}
      },
      "source": [
        "# Function for plotting learning history\n",
        "\n",
        "from matplotlib import pyplot as plt\n",
        "%matplotlib inline\n",
        "\n",
        "def plot_history(history):\n",
        "    loss_list = [s for s in history.history.keys() if 'loss' in s and 'val' not in s]\n",
        "    val_loss_list = [s for s in history.history.keys() if 'loss' in s and 'val' in s]\n",
        "    acc_list = [s for s in history.history.keys() if 'acc' in s and 'val' not in s]\n",
        "    val_acc_list = [s for s in history.history.keys() if 'acc' in s and 'val' in s]\n",
        "    \n",
        "    if len(loss_list) == 0:\n",
        "        print('Loss is missing in history')\n",
        "        return \n",
        "    \n",
        "    ## As loss always exists\n",
        "    epochs = range(1,len(history.history[loss_list[0]]) + 1)\n",
        "    \n",
        "    ## Loss\n",
        "    plt.figure(1)\n",
        "    for l in loss_list:\n",
        "        plt.plot(epochs, history.history[l], 'b', label='Training loss (' + str(str(format(history.history[l][-1],'.5f'))+')'))\n",
        "    for l in val_loss_list:\n",
        "        plt.plot(epochs, history.history[l], 'g', label='Validation loss (' + str(str(format(history.history[l][-1],'.5f'))+')'))\n",
        "    \n",
        "    plt.title('Loss')\n",
        "    plt.xlabel('Epochs')\n",
        "    plt.ylabel('Loss')\n",
        "    plt.legend()\n",
        "    \n",
        "    ## Accuracy\n",
        "    plt.figure(2)\n",
        "    for l in acc_list:\n",
        "        plt.plot(epochs, history.history[l], 'b', label='Training accuracy (' + str(format(history.history[l][-1],'.5f'))+')')\n",
        "    for l in val_acc_list:    \n",
        "        plt.plot(epochs, history.history[l], 'g', label='Validation accuracy (' + str(format(history.history[l][-1],'.5f'))+')')\n",
        "\n",
        "    plt.title('Accuracy')\n",
        "    plt.xlabel('Epochs')\n",
        "    plt.ylabel('Accuracy')\n",
        "    plt.legend()\n",
        "    plt.show()"
      ],
      "execution_count": 0,
      "outputs": []
    },
    {
      "cell_type": "markdown",
      "metadata": {
        "id": "rlKfeWBDflnw",
        "colab_type": "text"
      },
      "source": [
        "## Connection with my local Google Drive"
      ]
    },
    {
      "cell_type": "markdown",
      "metadata": {
        "id": "NJ0Lf8B0ajaw",
        "colab_type": "text"
      },
      "source": [
        "I tried to use the sharable link to make this more general, but I got errors with big dataset, so ... for now this is how it is"
      ]
    },
    {
      "cell_type": "code",
      "metadata": {
        "id": "Us9Yzi1LWH8L",
        "colab_type": "code",
        "outputId": "a13e0f4f-8adf-445c-d787-b32cb8a394ef",
        "colab": {
          "base_uri": "https://localhost:8080/",
          "height": 33
        }
      },
      "source": [
        "from google.colab import drive\n",
        "drive.mount('/content/drive')"
      ],
      "execution_count": 6,
      "outputs": [
        {
          "output_type": "stream",
          "text": [
            "Drive already mounted at /content/drive; to attempt to forcibly remount, call drive.mount(\"/content/drive\", force_remount=True).\n"
          ],
          "name": "stdout"
        }
      ]
    },
    {
      "cell_type": "code",
      "metadata": {
        "id": "WNBBIdtgaNTL",
        "colab_type": "code",
        "colab": {}
      },
      "source": [
        "#Dataset Path will be used for models saving as well\n",
        "\n",
        "dataset_path = \"/content/drive/My Drive/AIML/Projects/DSS-NLP-challenge/dataset/wiki/\"\n",
        "dataset_name = \"dss_wiki_02000_20K1\"\n",
        "dataset_file = dataset_name+\".json\""
      ],
      "execution_count": 0,
      "outputs": []
    },
    {
      "cell_type": "markdown",
      "metadata": {
        "id": "A9gzN78rbJfE",
        "colab_type": "text"
      },
      "source": [
        "import urllib.request\n",
        "\n",
        "url_wiki = 'https://drive.google.com/file/d/1HZxMVthzG-tboMXO0qsPkeH2Cuq1YCbi/view?usp=sharing' # 2000\n",
        "\n",
        "url_wiki = 'https://drive.google.com/uc?export=download&id=1iteaiSPd1OLJdKZitcv76LzrD_mAC8S8'# 5\n",
        "\n",
        "url_wiki = 'https://drive.google.com/uc?export=download&id=15hhpN2EszdRx7-PN43yGFsoFPuZzwFO1'   # 200\n",
        "\n",
        "f = urllib.request.urlopen(url_wiki)\n",
        "\n"
      ]
    },
    {
      "cell_type": "markdown",
      "metadata": {
        "id": "JEjlM2EazOf0",
        "colab_type": "text"
      },
      "source": [
        "## Step 3: Data Preprocessing"
      ]
    },
    {
      "cell_type": "markdown",
      "metadata": {
        "id": "QPWdZF08f6SI",
        "colab_type": "text"
      },
      "source": [
        "### Load the data"
      ]
    },
    {
      "cell_type": "code",
      "metadata": {
        "id": "oNyxVL2AfwU4",
        "colab_type": "code",
        "colab": {
          "base_uri": "https://localhost:8080/",
          "height": 50
        },
        "outputId": "8e3613e7-6c8c-4007-e76b-35a15adc285d"
      },
      "source": [
        "import json\n",
        "\n",
        "with open(dataset_path+dataset_file, 'r') as f:\n",
        "  dss = json.load(f)\n",
        "\n",
        "print(f\"Dataset of {len(dss['X'])} texts of {len(set(dss['y']))} classes - vocabulary of {len(dss['word_index'])} words\")\n",
        "print(dss['categories'])"
      ],
      "execution_count": 8,
      "outputs": [
        {
          "output_type": "stream",
          "text": [
            "Dataset of 8977 texts of 6 classes - vocabulary of 212852 words\n",
            "['Economy', 'Regulation', 'Environment', 'Health', 'Industry', 'Cultures']\n"
          ],
          "name": "stdout"
        }
      ]
    },
    {
      "cell_type": "code",
      "metadata": {
        "id": "jQSFjgN0f2XB",
        "colab_type": "code",
        "colab": {
          "base_uri": "https://localhost:8080/",
          "height": 33
        },
        "outputId": "da088a1f-af99-4329-f08b-7304a5b368fd"
      },
      "source": [
        "dss.keys()"
      ],
      "execution_count": 9,
      "outputs": [
        {
          "output_type": "execute_result",
          "data": {
            "text/plain": [
              "dict_keys(['max_i', 'max_words', 'word_index', 'categories', 'X', 'y'])"
            ]
          },
          "metadata": {
            "tags": []
          },
          "execution_count": 9
        }
      ]
    },
    {
      "cell_type": "markdown",
      "metadata": {
        "id": "wB0tNtXJzTfA",
        "colab_type": "text"
      },
      "source": [
        "### Setting up the dataset parameters"
      ]
    },
    {
      "cell_type": "code",
      "metadata": {
        "id": "Jw6_KU24SrYK",
        "colab_type": "code",
        "colab": {}
      },
      "source": [
        "number_of_words = len(dss['word_index'])\n",
        "max_len = 500"
      ],
      "execution_count": 0,
      "outputs": []
    },
    {
      "cell_type": "code",
      "metadata": {
        "id": "-Eu8FA2Eg8lT",
        "colab_type": "code",
        "colab": {}
      },
      "source": [
        "import numpy as np"
      ],
      "execution_count": 0,
      "outputs": []
    },
    {
      "cell_type": "code",
      "metadata": {
        "id": "ts2YFGCqhC_B",
        "colab_type": "code",
        "colab": {}
      },
      "source": [
        "X_arr = np.array(dss['X'])\n",
        "y_arr = np.array(dss['y'])\n",
        "ylabels = dss['categories']\n"
      ],
      "execution_count": 0,
      "outputs": []
    },
    {
      "cell_type": "code",
      "metadata": {
        "id": "-ezjk4UthdWJ",
        "colab_type": "code",
        "outputId": "809323b6-e515-4ad6-d1ad-fbf3ed3836c9",
        "colab": {
          "base_uri": "https://localhost:8080/",
          "height": 33
        }
      },
      "source": [
        "split = 0.2\n",
        "\n",
        "dataset_size = len(y_arr)\n",
        "test_size    = int(dataset_size * split)\n",
        "train_size   = dataset_size - test_size\n",
        "test_indexes  = np.random.choice(range(dataset_size),test_size,replace=False)\n",
        "train_indexes =  np.array(list(set(range(dataset_size)) - set(test_indexes)))\n",
        "np.random.shuffle(train_indexes)\n",
        "dataset_size,len(train_indexes),len(test_indexes)            "
      ],
      "execution_count": 13,
      "outputs": [
        {
          "output_type": "execute_result",
          "data": {
            "text/plain": [
              "(8977, 7182, 1795)"
            ]
          },
          "metadata": {
            "tags": []
          },
          "execution_count": 13
        }
      ]
    },
    {
      "cell_type": "code",
      "metadata": {
        "id": "BL-mo_J6oLhE",
        "colab_type": "code",
        "colab": {}
      },
      "source": [
        "(X_train, y_train), (X_test, y_test) = (X_arr[train_indexes],y_arr[train_indexes]),(X_arr[test_indexes],y_arr[test_indexes])"
      ],
      "execution_count": 0,
      "outputs": []
    },
    {
      "cell_type": "markdown",
      "metadata": {
        "id": "ZI4hMdYkGtx-",
        "colab_type": "text"
      },
      "source": [
        "### Explore some articles\n"
      ]
    },
    {
      "cell_type": "code",
      "metadata": {
        "id": "ocGKrXJU7Vic",
        "colab_type": "code",
        "colab": {}
      },
      "source": [
        "id_to_word = {dss['word_index'][key]:key for key in dss['word_index'].keys()}"
      ],
      "execution_count": 0,
      "outputs": []
    },
    {
      "cell_type": "code",
      "metadata": {
        "id": "isKBztJbML4n",
        "colab_type": "code",
        "outputId": "8baa37da-731b-49a1-d2a6-cc8d090cb9f4",
        "colab": {
          "base_uri": "https://localhost:8080/",
          "height": 33
        }
      },
      "source": [
        "id_to_word[2]"
      ],
      "execution_count": 22,
      "outputs": [
        {
          "output_type": "execute_result",
          "data": {
            "text/plain": [
              "'the'"
            ]
          },
          "metadata": {
            "tags": []
          },
          "execution_count": 22
        }
      ]
    },
    {
      "cell_type": "code",
      "metadata": {
        "id": "Ojs9DxxgCWZt",
        "colab_type": "code",
        "outputId": "a59513f1-ffee-4d0a-8b27-eced862fc31b",
        "colab": {
          "base_uri": "https://localhost:8080/",
          "height": 1000
        }
      },
      "source": [
        "import textwrap\n",
        "size = 2\n",
        "sample = np.random.choice(range(len(X_train)),size,replace=False)\n",
        "for i in sample:\n",
        "    print(f'Text #{i}:{ylabels[y_train[i]]}, {len(X_train[i])} words')\n",
        "    s = ' '.join(id_to_word[id] for id in X_train[i])\n",
        "    print('\\n'.join(textwrap.wrap(s, width=100, replace_whitespace=False)))\n",
        "    print()\n",
        "\n"
      ],
      "execution_count": 23,
      "outputs": [
        {
          "output_type": "stream",
          "text": [
            "Text #1172:Environment, 924 words\n",
            "xxxunk greek for those who bear toxins is a proposed clade of scaled reptiles xxxunk that includes\n",
            "the xxxunk snakes xxxunk monitor lizards xxxunk monster and xxxunk lizards and xxxunk xxxunk xxxunk\n",
            "and xxxunk xxxunk contains about 4 600 species nearly 60 of extant xxxunk it encompasses all xxxunk\n",
            "xxxunk species as well as numerous related non xxxunk species there is little morphological evidence\n",
            "to support this grouping however it has been recovered by all molecular analyses as of 2012 xxxunk\n",
            "xxxunk combines the following groups from traditional classification xxxunk xxxunk snakes xxxunk\n",
            "xxxunk xxxunk xxxunk lizards xxxunk etc xxxunk xxxunk consisting of family xxxunk monitor lizards\n",
            "family xxxunk xxxunk lizards glass lizards etc family xxxunk xxxunk monster and mexican xxxunk\n",
            "lizard family xxxunk chinese crocodile lizard family xxxunk xxxunk scaled lizards detailed xxxunk in\n",
            "xxxunk et al 2015 fig 1 venom venom in xxxunk has historically been considered a rarity while it has\n",
            "been known in xxxunk since ancient times the actual percentage of snake species considered xxxunk\n",
            "was relatively small around 25 of the approximately 2 650 species of advanced snakes xxxunk only the\n",
            "front xxxunk species 650 were considered xxxunk by the anthropocentric definition following the\n",
            "classification of xxxunk in the 19th century their venom was thought to have developed independently\n",
            "in snakes the venom gland is in the upper xxxunk but in xxxunk it is found in the lower xxxunk the\n",
            "origin of venom in xxxunk was thus considered relatively recent in evolutionary terms and the result\n",
            "of convergent evolution among the seemingly xxxunk xxxunk snake families in 2003 a study was\n",
            "published that described venom in snake xxxunk previously thought to lack it further study claimed\n",
            "nearly all non xxxunk snakes produce venom to a certain extent suggesting a single and thus far more\n",
            "ancient origin for venom in xxxunk than had been considered until then as a practical matter fry\n",
            "cautioned some non xxxunk snakes have been previously thought to have only mild xxxunk xxxunk but\n",
            "these results suggest that they actually possess true xxxunk we even isolated from a rat snake\n",
            "xxxunk xxxunk formerly known as xxxunk xxxunk a snake common in pet stores a typical xxxunk style\n",
            "xxxunk one that is as potent as comparative toxins found in close relatives of the xxxunk these\n",
            "snakes typically have smaller quantities of venom and lack xxxunk but they can still deliver their\n",
            "venom via their numerous sharp teeth but not all of these snakes are dangerous it does mean however\n",
            "that we need to re evaluate the relative danger of non xxxunk snakes this prompted further research\n",
            "which led to the discovery of venom and venom genes in species from groups which were not previously\n",
            "known to produce it e g in xxxunk specifically xxxunk xxxunk from the family xxxunk and xxxunk from\n",
            "xxxunk xxxunk it is thought that this was the result of descent from a common venom producing xxxunk\n",
            "ancestor the hypothesis was described simply as the venom clade when first proposed to the\n",
            "scientific community the venom clade included xxxunk for phylogenetic reasons and adopted a\n",
            "previously suggested clade name xxxunk it was estimated that the common ancestral species that first\n",
            "developed venom in the venom clade lived on the order of 200 million years ago the xxxunk are\n",
            "thought to have evolved after genes normally active in various parts of the body xxxunk and the\n",
            "copies found new use in the xxxunk glands among snake families traditionally classified as xxxunk\n",
            "the capacity seems to have evolved to extremes more than once by parallel evolution xxxunk xxxunk\n",
            "snake lineages have either lost the ability to produce venom but may still have lingering venom\n",
            "xxxunk or actually do produce venom in small quantities e g xxxunk xxxunk likely sufficient to\n",
            "assist in small prey capture but not normally causing harm to humans if xxxunk the newly discovered\n",
            "diversity of xxxunk species producing xxxunk is a treasure xxxunk for those seeking to develop new\n",
            "pharmaceutical drugs many of these xxxunk lower blood pressure for example previously known xxxunk\n",
            "xxxunk have already provided the basis for medications such as xxxunk xxxunk xxxunk xxxunk and\n",
            "xxxunk the world's largest xxxunk lizard and the largest species of xxxunk land animal is the xxxunk\n",
            "dragon criticism other scientists such as washington state university biologist kenneth v xxxunk and\n",
            "toxicologists scott a xxxunk and xxxunk l smith have stated that the xxxunk of venom glands found in\n",
            "many of these animals has had the effect of xxxunk the variety of complex roles played by oral\n",
            "secretions in the biology of reptiles produced a very narrow view of oral secretions and resulted in\n",
            "xxxunk of xxxunk evolution according to these scientists xxxunk oral secretions contribute to many\n",
            "biological roles other than to quickly dispatch prey these researchers concluded that calling all in\n",
            "this clade xxxunk implies an overall potential danger that does not exist xxxunk in the assessment\n",
            "of medical risks and xxxunk the biological assessment of xxxunk biochemical systems more recently it\n",
            "has been suggested that many of the shared toxins that underlie the xxxunk hypothesis are in fact\n",
            "not toxins at all references external links xxxunk poisonous secret is revealed november 16 2005 the\n",
            "surprising origin of venom revealed november 17 2005 which came first the snake or the venom\n",
            "november 21 2005 genealogy of xxxunk reptiles xxxunk by new research november 22 2005 xxxunk\n",
            "homepage downloads the venom cure the power of poison nature podcast november 17 2005 segment on the\n",
            "venom clade begins approximately 22 minutes into the program\n",
            "\n",
            "Text #1276:Environment, 2445 words\n",
            "soil liquefaction occurs when a saturated or partially saturated soil substantially loses strength\n",
            "and xxxunk in response to an applied stress such as shaking during an earthquake or other sudden\n",
            "change in stress condition in which material that is ordinarily a solid behaves like a liquid in\n",
            "soil mechanics the term liquefied was first used by allen xxxunk in reference to the 1918 failure of\n",
            "the xxxunk dam in california he described the mechanism of flow liquefaction of the xxxunk dam as if\n",
            "the pressure of the water in the pores is great enough to carry all the load it will have the effect\n",
            "of holding the particles apart and of producing a condition that is practically equivalent to that\n",
            "of xxxunk the initial movement of some part of the material might result in accumulating pressure\n",
            "first on one point and then on another successively as the early points of concentration were\n",
            "liquefied the phenomenon is most often observed in saturated loose low density or xxxunk sandy soils\n",
            "this is because a loose sand has a tendency to xxxunk when a load is applied dense sands by contrast\n",
            "tend to expand in volume or xxxunk if the soil is saturated by water a condition that often exists\n",
            "when the soil is below the water table or sea level then water xxxunk the gaps between soil grains\n",
            "xxxunk xxxunk in response to soil xxxunk the pore water pressure increases and the water attempts to\n",
            "flow out from the soil to zones of low pressure usually upward towards the ground surface however if\n",
            "the loading is rapidly applied and large enough or is repeated many times e g earthquake shaking\n",
            "storm wave loading such that the water does not flow out before the next cycle of load is applied\n",
            "the water pressures may build to the extent that it exceeds the force contact stresses between the\n",
            "grains of soil that keep them in contact these contacts between grains are the means by which the\n",
            "weight from buildings and xxxunk soil layers is transferred from the ground surface to layers of\n",
            "soil or rock at greater depths this loss of soil structure causes it to lose its strength the\n",
            "ability to transfer shear stress and it may be observed to flow like a liquid hence xxxunk although\n",
            "the effects of liquefaction have been long understood engineers took more notice after the 1964\n",
            "xxxunk earthquake and 1964 alaska earthquake it was a major factor in the destruction in san xxxunk\n",
            "marina district during the 1989 xxxunk xxxunk earthquake and in port of xxxunk during the 1995 great\n",
            "xxxunk earthquake more recently liquefaction was largely responsible for extensive damage to\n",
            "residential properties in the eastern suburbs and satellite xxxunk of xxxunk new zealand during the\n",
            "2010 canterbury earthquake and more extensively again following the xxxunk earthquakes that followed\n",
            "in early and mid 2011 on 28 september 2018 an earthquake of 7 5 magnitude hit the central xxxunk\n",
            "province of indonesia resulting soil liquefaction buried the suburb of xxxunk and xxxunk village in\n",
            "3 meters deep mud the government of indonesia is considering designating the two neighborhoods of\n",
            "xxxunk and xxxunk that have been totally buried under mud as mass graves the building codes in many\n",
            "countries require engineers to consider the effects of soil liquefaction in the design of new\n",
            "buildings and infrastructure such as bridges xxxunk dams and retaining structures technical\n",
            "definitions soil liquefaction occurs when the effective stress shear strength of soil is reduced to\n",
            "essentially zero this may be initiated by either xxxunk loading i e a single sudden occurrence of a\n",
            "change in stress – examples include an increase in load on an xxxunk or sudden loss of toe support\n",
            "or cyclic loading i e repeated changes in stress condition – examples include wave loading or\n",
            "earthquake shaking in both cases a soil in a saturated loose state and one which may generate\n",
            "significant pore water pressure on a change in load are the most likely to xxxunk this is because\n",
            "loose soil has the tendency to xxxunk when xxxunk generating large excess xxxunk pressure as load is\n",
            "transferred from the soil skeleton to adjacent pore water during xxxunk loading as pore water\n",
            "pressure rises a progressive loss of strength of the soil occurs as effective stress is reduced\n",
            "liquefaction is more likely to occur in sandy or non plastic xxxunk soils but may in rare cases\n",
            "occur in xxxunk and clays see quick clay a xxxunk xxxunk may initiate if the strength of the soil is\n",
            "reduced below the stresses required to maintain the equilibrium of a slope or footing of a structure\n",
            "this can occur due to xxxunk loading or cyclic loading and can be sudden and catastrophic a\n",
            "historical example is the xxxunk disaster xxxunk referred to this type of phenomena as xxxunk xxxunk\n",
            "although a state of zero effective stress is not required for this to occur xxxunk xxxunk is the\n",
            "state of soil when large shear strains have accumulated in response to cyclic loading a typical\n",
            "reference strain for the approximate occurrence of zero effective stress is 5 double amplitude shear\n",
            "strain this is a soil test based definition usually performed via cyclic xxxunk cyclic direct simple\n",
            "shear or cyclic xxxunk shear type apparatus these tests are performed to determine a soil's\n",
            "resistance to liquefaction by observing the number of cycles of loading at a particular shear stress\n",
            "amplitude required to induce xxxunk failure here is defined by the aforementioned shear strain\n",
            "criteria the term xxxunk xxxunk refers to the mechanism of progressive reduction of effective stress\n",
            "due to cyclic loading this may occur in all soil types including dense soils however on reaching a\n",
            "state of zero effective stress such soils immediately xxxunk and regain strength thus shear strains\n",
            "are significantly less than a true state of soil liquefaction occurrence liquefaction is more likely\n",
            "to occur in loose to moderately saturated granular soils with poor drainage such as xxxunk sands or\n",
            "sands and xxxunk containing xxxunk sediments during wave loading usually cyclic xxxunk loading e g\n",
            "seismic loading loose sands tend to decrease in volume which produces an increase in their pore\n",
            "water pressures and consequently a decrease in shear strength i e reduction in effective stress\n",
            "deposits most susceptible to liquefaction are young holocene age deposited within the last 10 000\n",
            "years sands and xxxunk of similar grain size well sorted in beds at least metres thick and saturated\n",
            "with water such deposits are often found along stream beds beaches dunes and areas where xxxunk silt\n",
            "xxxunk and sand have accumulated examples of soil liquefaction include xxxunk quick clay turbidity\n",
            "currents and earthquake induced liquefaction depending on the initial void ratio the soil material\n",
            "can respond to loading either strain xxxunk or strain hardening strain xxxunk soils e g loose sands\n",
            "can be triggered to collapse either xxxunk or xxxunk if the static shear stress is greater than the\n",
            "ultimate or steady state shear strength of the soil in this case flow liquefaction occurs where the\n",
            "soil xxxunk at a low constant residual shear stress if the soil strain xxxunk e g moderately dense\n",
            "to dense sand flow liquefaction will generally not occur however cyclic xxxunk can occur due to\n",
            "cyclic xxxunk loading e g earthquake loading deformation during cyclic loading depends on the\n",
            "density of the soil the magnitude and duration of the cyclic loading and amount of shear stress\n",
            "reversal if stress reversal occurs the effective shear stress could reach zero allowing cyclic\n",
            "liquefaction to take place if stress reversal does not occur zero effective stress cannot occur and\n",
            "cyclic mobility takes place the resistance of the xxxunk soil to liquefaction will depend on the\n",
            "density of the soil xxxunk stresses soil structure fabric age and xxxunk the magnitude and duration\n",
            "of the cyclic loading and the extent to which shear stress reversal occurs earthquake liquefaction\n",
            "pressures generated during large earthquakes can force underground water and liquefied sand to the\n",
            "surface this can be observed at the surface as effects known alternatively as sand boils sand xxxunk\n",
            "or sand volcanoes such earthquake ground xxxunk can be categorized as primary deformation if located\n",
            "on or close to the xxxunk fault or distributed deformation if located at considerable distance from\n",
            "the xxxunk fault the other common observation is land instability – cracking and movement of the\n",
            "ground down slope or towards unsupported margins of rivers streams or the coast the failure of\n",
            "ground in this manner is called xxxunk xxxunk and may occur on very shallow slopes with angles only\n",
            "1 or 2 degrees from the horizontal one positive aspect of soil liquefaction is the tendency for the\n",
            "effects of earthquake shaking to be significantly xxxunk reduced for the remainder of the earthquake\n",
            "this is because liquids do not support a shear stress and so once the soil xxxunk due to shaking\n",
            "subsequent earthquake shaking transferred through ground by shear waves is not transferred to\n",
            "buildings at the ground surface studies of liquefaction features left by prehistoric earthquakes\n",
            "called xxxunk or xxxunk can reveal information about earthquakes that occurred before records were\n",
            "kept or accurate measurements could be taken soil liquefaction induced by earthquake shaking is a\n",
            "major contributor to urban seismic risk effects the effects of soil liquefaction on the built\n",
            "environment can be extremely damaging buildings whose foundations bear directly on sand which xxxunk\n",
            "will experience a sudden loss of support which will result in drastic and irregular settlement of\n",
            "the building causing structural damage including cracking of foundations and damage to the building\n",
            "structure or leaving the structure xxxunk even without structural damage where a thin crust of non\n",
            "liquefied soil exists between building foundation and liquefied soil a xxxunk xxxunk type foundation\n",
            "failure may occur irregular settlement may break underground utility lines the upward pressure\n",
            "applied by the movement of liquefied soil through the crust layer can crack weak foundation xxxunk\n",
            "and enter buildings through service ducts and may allow water to damage building contents and\n",
            "electrical services bridges and large buildings constructed on pile foundations may lose support\n",
            "from the adjacent soil and xxxunk or come to rest at a tilt sloping ground and ground next to rivers\n",
            "and lakes may slide on a liquefied soil layer termed xxxunk xxxunk opening large cracks or xxxunk in\n",
            "the ground and can cause significant damage to buildings bridges roads and services such as water\n",
            "natural gas sewerage power and telecommunications installed in the affected ground buried tanks and\n",
            "xxxunk may float in the liquefied soil due to buoyancy earth xxxunk such as flood xxxunk and earth\n",
            "dams may lose stability or collapse if the material comprising the xxxunk or its foundation xxxunk\n",
            "over geological time liquefaction of soil material due to earthquakes could provide a dense parent\n",
            "material in which the xxxunk may develop through xxxunk mitigation methods mitigation methods have\n",
            "been devised by earthquake engineers and include various soil compaction techniques such as xxxunk\n",
            "compaction compaction of the soil by depth xxxunk dynamic compaction and xxxunk stone columns these\n",
            "methods xxxunk soil and enable buildings to avoid soil liquefaction existing buildings can be\n",
            "mitigated by injecting xxxunk into the soil to stabilize the layer of soil that is subject to\n",
            "liquefaction xxxunk xxxunk forms when water xxxunk an area of loose sand and the sand is xxxunk when\n",
            "the water trapped in the batch of sand cannot escape it creates liquefied soil that can no longer\n",
            "resist force xxxunk can be formed by standing or upwards flowing underground water as from an\n",
            "underground spring or by earthquakes in the case of flowing underground water the force of the water\n",
            "flow opposes the force of gravity causing the granules of sand to be more buoyant in the case of\n",
            "earthquakes the shaking force can increase the pressure of shallow groundwater xxxunk sand and silt\n",
            "deposits in both cases the liquefied surface loses strength causing buildings or other objects on\n",
            "that surface to sink or fall over the saturated sediment may appear quite solid until a change in\n",
            "pressure or a shock initiates the liquefaction causing the sand to form a suspension with each grain\n",
            "surrounded by a thin film of water this xxxunk gives xxxunk and other liquefied sediments a xxxunk\n",
            "xxxunk texture objects in the liquefied sand sink to the level at which the weight of the object is\n",
            "equal to the weight of the displaced sand water mix and the object floats due to its buoyancy quick\n",
            "clay quick clay known as xxxunk clay in canada is a water saturated gel which in its solid form\n",
            "resembles highly sensitive clay this clay has a tendency to change from a relatively stiff condition\n",
            "to a liquid mass when it is disturbed this gradual change in appearance from solid to liquid is a\n",
            "process known as spontaneous liquefaction the clay retains a solid structure despite its high water\n",
            "content up to 80 by volume because surface tension holds water coated xxxunk of clay together when\n",
            "the structure is broken by a shock or sufficient shear it enters a fluid state quick clay is found\n",
            "only in northern countries such as russia canada alaska in the u s norway sweden and finland which\n",
            "were xxxunk during the pleistocene epoch quick clay has been the underlying cause of many deadly\n",
            "landslides in canada alone it has been associated with more than 250 mapped landslides some of these\n",
            "are ancient and may have been triggered by earthquakes turbidity currents submarine landslides are\n",
            "turbidity currents and consist of water saturated sediments flowing xxxunk an example occurred\n",
            "during the 1929 grand banks earthquake that struck the continental slope off the coast of\n",
            "newfoundland minutes later transatlantic telephone cables began breaking xxxunk farther and farther\n",
            "xxxunk away from the xxxunk twelve cables were xxxunk in a total of 28 places exact times and\n",
            "locations were recorded for each break investigators suggested that a 60 mile per hour 100 km h\n",
            "submarine landslide or turbidity current of water saturated sediments swept 400 miles 600 km down\n",
            "the continental slope from the xxxunk xxxunk xxxunk the cables as it passed see also xxxunk limits\n",
            "dry xxxunk xxxunk earthquake engineering mud volcano xxxunk network for earthquake engineering\n",
            "simulation soil liquefaction research xxxunk sand boil xxxunk xxxunk references further reading seed\n",
            "et al recent advances in soil liquefaction engineering a unified and consistent framework xxxunk\n",
            "annual xxxunk los angeles geotechnical spring seminar long beach california april 30 2003 earthquake\n",
            "engineering research center external links media related to soil liquefaction at wikimedia commons\n",
            "soil liquefaction liquefaction – pacific northwest seismic network video showing liquefaction\n",
            "process on youtube soil liquefaction on youtube recorded during the 2011 xxxunk earthquake\n",
            "\n"
          ],
          "name": "stdout"
        }
      ]
    },
    {
      "cell_type": "markdown",
      "metadata": {
        "id": "MZKDNoTKzi5w",
        "colab_type": "text"
      },
      "source": [
        "### Padding all sequences to be the same length "
      ]
    },
    {
      "cell_type": "code",
      "metadata": {
        "id": "LHcMNzv7Pd1s",
        "colab_type": "code",
        "colab": {}
      },
      "source": [
        "# Changing variable name to preserve orginal dataset\n",
        "#X_train_p = tf.keras.preprocessing.sequence.pad_sequences(X_train, maxlen=max_len,padding='post', truncating='post')\n",
        "X_train_p = tf.keras.preprocessing.sequence.pad_sequences(X_train, maxlen=max_len)\n",
        "X_test_p = tf.keras.preprocessing.sequence.pad_sequences(X_test, maxlen=max_len)\n"
      ],
      "execution_count": 0,
      "outputs": []
    },
    {
      "cell_type": "markdown",
      "metadata": {
        "id": "VG6LBKGnz7jT",
        "colab_type": "text"
      },
      "source": [
        "## Step 4: Building a Recurrent Neural Network"
      ]
    },
    {
      "cell_type": "markdown",
      "metadata": {
        "id": "TUVnz-9K0DcW",
        "colab_type": "text"
      },
      "source": [
        "### Defining the model"
      ]
    },
    {
      "cell_type": "code",
      "metadata": {
        "id": "N2GHzwk6OMrV",
        "colab_type": "code",
        "colab": {}
      },
      "source": [
        "model = tf.keras.Sequential()"
      ],
      "execution_count": 0,
      "outputs": []
    },
    {
      "cell_type": "markdown",
      "metadata": {
        "id": "lnXJZYR-0HXE",
        "colab_type": "text"
      },
      "source": [
        "### Adding the embedding layer"
      ]
    },
    {
      "cell_type": "code",
      "metadata": {
        "id": "UWqC0DXbO9FU",
        "colab_type": "code",
        "colab": {}
      },
      "source": [
        "model.add(tf.keras.layers.Embedding(input_dim=number_of_words, output_dim=128, input_shape=(X_train_p.shape[1],)))"
      ],
      "execution_count": 0,
      "outputs": []
    },
    {
      "cell_type": "code",
      "metadata": {
        "id": "GWT_rMlaS8Kr",
        "colab_type": "code",
        "outputId": "76fb91b3-122e-44ed-821c-44236d6237cf",
        "colab": {
          "base_uri": "https://localhost:8080/",
          "height": 184
        }
      },
      "source": [
        "model.summary()"
      ],
      "execution_count": 27,
      "outputs": [
        {
          "output_type": "stream",
          "text": [
            "Model: \"sequential\"\n",
            "_________________________________________________________________\n",
            "Layer (type)                 Output Shape              Param #   \n",
            "=================================================================\n",
            "embedding (Embedding)        (None, 500, 128)          27245056  \n",
            "=================================================================\n",
            "Total params: 27,245,056\n",
            "Trainable params: 27,245,056\n",
            "Non-trainable params: 0\n",
            "_________________________________________________________________\n"
          ],
          "name": "stdout"
        }
      ]
    },
    {
      "cell_type": "markdown",
      "metadata": {
        "id": "CM-lpTZX1mEG",
        "colab_type": "text"
      },
      "source": [
        "### Adding the LSTM layer\n",
        "\n",
        "- units: 128\n",
        "- activation: tanh"
      ]
    },
    {
      "cell_type": "code",
      "metadata": {
        "id": "5W7IXqhjQpAl",
        "colab_type": "code",
        "outputId": "d45f506f-9eb0-43c9-a43c-d6994aab9062",
        "colab": {
          "base_uri": "https://localhost:8080/",
          "height": 70
        }
      },
      "source": [
        "model.add(tf.keras.layers.LSTM(units=128, activation='tanh'))"
      ],
      "execution_count": 25,
      "outputs": [
        {
          "output_type": "stream",
          "text": [
            "WARNING: Logging before flag parsing goes to stderr.\n",
            "W0802 20:39:50.460058 140416340780928 tf_logging.py:161] <tensorflow.python.keras.layers.recurrent.UnifiedLSTM object at 0x7fb4ba354518>: Note that this layer is not optimized for performance. Please use tf.keras.layers.CuDNNLSTM for better performance on GPU.\n"
          ],
          "name": "stderr"
        }
      ]
    },
    {
      "cell_type": "markdown",
      "metadata": {
        "id": "9T9M5Ult10XM",
        "colab_type": "text"
      },
      "source": [
        "### Adding the output layer\n",
        "\n",
        "- units: 1\n",
        "- activation: sigmoid"
      ]
    },
    {
      "cell_type": "code",
      "metadata": {
        "id": "xe1nHzq7Q91-",
        "colab_type": "code",
        "colab": {}
      },
      "source": [
        "model.add(tf.keras.layers.Dense(units=len(ylabels), activation='softmax'))"
      ],
      "execution_count": 0,
      "outputs": []
    },
    {
      "cell_type": "markdown",
      "metadata": {
        "id": "VWcqM4Yr2ALS",
        "colab_type": "text"
      },
      "source": [
        "### Compiling the model"
      ]
    },
    {
      "cell_type": "code",
      "metadata": {
        "id": "-z9ACOXcRUUN",
        "colab_type": "code",
        "colab": {}
      },
      "source": [
        "model.compile(optimizer='adam', loss='sparse_categorical_crossentropy', metrics=['sparse_categorical_accuracy'])"
      ],
      "execution_count": 0,
      "outputs": []
    },
    {
      "cell_type": "code",
      "metadata": {
        "id": "PiolKKO6RjVF",
        "colab_type": "code",
        "outputId": "a5a3bb69-0618-4537-ce69-221ba2a8e613",
        "colab": {
          "base_uri": "https://localhost:8080/",
          "height": 317
        }
      },
      "source": [
        "model.summary()"
      ],
      "execution_count": 30,
      "outputs": [
        {
          "output_type": "stream",
          "text": [
            "Model: \"sequential_1\"\n",
            "_________________________________________________________________\n",
            "Layer (type)                 Output Shape              Param #   \n",
            "=================================================================\n",
            "embedding (Embedding)        (None, 500, 128)          27245056  \n",
            "_________________________________________________________________\n",
            "unified_lstm (UnifiedLSTM)   (None, 128)               131584    \n",
            "_________________________________________________________________\n",
            "dense (Dense)                (None, 6)                 774       \n",
            "_________________________________________________________________\n",
            "dense_1 (Dense)              (None, 6)                 42        \n",
            "_________________________________________________________________\n",
            "dense_2 (Dense)              (None, 6)                 42        \n",
            "=================================================================\n",
            "Total params: 27,377,498\n",
            "Trainable params: 27,377,498\n",
            "Non-trainable params: 0\n",
            "_________________________________________________________________\n"
          ],
          "name": "stdout"
        }
      ]
    },
    {
      "cell_type": "markdown",
      "metadata": {
        "id": "2bPUvbfe2GJI",
        "colab_type": "text"
      },
      "source": [
        "### Training the model"
      ]
    },
    {
      "cell_type": "code",
      "metadata": {
        "id": "9FqUTA1CRpQ8",
        "colab_type": "code",
        "outputId": "edb4ae57-4076-49e0-d25a-e7d913985256",
        "colab": {
          "base_uri": "https://localhost:8080/",
          "height": 237
        }
      },
      "source": [
        "model.fit(X_train_p, y_train, epochs=5, batch_size=16,validation_split=0.1)"
      ],
      "execution_count": 31,
      "outputs": [
        {
          "output_type": "stream",
          "text": [
            "Train on 6463 samples, validate on 719 samples\n",
            "Epoch 1/5\n",
            "6463/6463 [==============================] - 19s 3ms/sample - loss: 1.7801 - sparse_categorical_accuracy: 0.2174 - val_loss: 1.7778 - val_sparse_categorical_accuracy: 0.2211\n",
            "Epoch 2/5\n",
            "6463/6463 [==============================] - 15s 2ms/sample - loss: 1.7225 - sparse_categorical_accuracy: 0.3090 - val_loss: 1.6973 - val_sparse_categorical_accuracy: 0.2768\n",
            "Epoch 3/5\n",
            "6463/6463 [==============================] - 15s 2ms/sample - loss: 1.6112 - sparse_categorical_accuracy: 0.3469 - val_loss: 1.5914 - val_sparse_categorical_accuracy: 0.3310\n",
            "Epoch 4/5\n",
            "6463/6463 [==============================] - 15s 2ms/sample - loss: 1.5533 - sparse_categorical_accuracy: 0.3444 - val_loss: 1.5865 - val_sparse_categorical_accuracy: 0.3241\n",
            "Epoch 5/5\n",
            "6463/6463 [==============================] - 15s 2ms/sample - loss: 1.4145 - sparse_categorical_accuracy: 0.3740 - val_loss: 1.5044 - val_sparse_categorical_accuracy: 0.3282\n"
          ],
          "name": "stdout"
        },
        {
          "output_type": "execute_result",
          "data": {
            "text/plain": [
              "<tensorflow.python.keras.callbacks.History at 0x7fb4b0679160>"
            ]
          },
          "metadata": {
            "tags": []
          },
          "execution_count": 31
        }
      ]
    },
    {
      "cell_type": "markdown",
      "metadata": {
        "id": "-wMo2wYpbCgb",
        "colab_type": "text"
      },
      "source": [
        "### Evaluating the model"
      ]
    },
    {
      "cell_type": "code",
      "metadata": {
        "id": "a8kD_6q-RySO",
        "colab_type": "code",
        "outputId": "710b14a3-aef4-44cc-8a34-4bf9bcb50b75",
        "colab": {
          "base_uri": "https://localhost:8080/",
          "height": 50
        }
      },
      "source": [
        "test_loss, test_acurracy = model.evaluate(X_test_p, y_test)\n",
        "print(\"Test accuracy: {}\".format(test_acurracy))"
      ],
      "execution_count": 32,
      "outputs": [
        {
          "output_type": "stream",
          "text": [
            "1795/1795 [==============================] - 1s 399us/sample - loss: 1.5421 - sparse_categorical_accuracy: 0.3153\n",
            "Test accuracy: 0.31532034277915955\n"
          ],
          "name": "stdout"
        }
      ]
    },
    {
      "cell_type": "markdown",
      "metadata": {
        "id": "LH4stJ6BbaOR",
        "colab_type": "text"
      },
      "source": [
        "## Step 5: Evaluate other architrectures\n",
        "\n",
        "Inspiration for various architectures comes from [here](https://realpython.com/python-keras-text-classification/#convolutional-neural-networks-cnn)\n",
        "\n"
      ]
    },
    {
      "cell_type": "markdown",
      "metadata": {
        "id": "PDKVREq0bpuI",
        "colab_type": "text"
      },
      "source": [
        "###  LSTM Baseline"
      ]
    },
    {
      "cell_type": "code",
      "metadata": {
        "colab_type": "code",
        "id": "TPCqRcFqhN1i",
        "colab": {}
      },
      "source": [
        "model_name = \"_lstm\""
      ],
      "execution_count": 0,
      "outputs": []
    },
    {
      "cell_type": "code",
      "metadata": {
        "id": "byyBa3ohZ5Ui",
        "colab_type": "code",
        "outputId": "b8778d37-236d-44ef-fc76-9947b8478690",
        "colab": {
          "base_uri": "https://localhost:8080/",
          "height": 826
        }
      },
      "source": [
        "model = tf.keras.Sequential()\n",
        "model.add(tf.keras.layers.Embedding(input_dim=number_of_words, output_dim=128, input_shape=(X_train_p.shape[1],)))\n",
        "model.add(tf.keras.layers.LSTM(units=128, activation='tanh'))\n",
        "#model.add(tf.keras.layers.GlobalAveragePooling1D())\n",
        "#model.add(tf.keras.layers.Dense(units=128, activation='relu'))\n",
        "#model.add(tf.keras.layers.BatchNormalization())\n",
        "#model.add(tf.keras.layers.Dropout(0.2))\n",
        "#model.add(tf.keras.layers.Dense(units=128, activation='relu'))\n",
        "#model.add(tf.keras.layers.BatchNormalization())\n",
        "#model.add(tf.keras.layers.Dropout(0.2))\n",
        "#model.add(tf.keras.layers.Dense(units=1, activation='sigmoid'))\n",
        "model.add(tf.keras.layers.Dense(units=len(ylabels), activation='softmax'))\n",
        "model.compile(optimizer='adam', loss='sparse_categorical_crossentropy', metrics=['sparse_categorical_accuracy'])\n",
        "history = model.fit(X_train_p, y_train, epochs=5, batch_size=128,validation_split=0.1)\n",
        "plot_history(history)\n",
        "test_loss, test_acurracy = model.evaluate(X_test_p, y_test)\n",
        "print(\"Test accuracy: {}\".format(test_acurracy))"
      ],
      "execution_count": 35,
      "outputs": [
        {
          "output_type": "stream",
          "text": [
            "W0802 20:59:04.792362 140416340780928 tf_logging.py:161] <tensorflow.python.keras.layers.recurrent.UnifiedLSTM object at 0x7fb46441eef0>: Note that this layer is not optimized for performance. Please use tf.keras.layers.CuDNNLSTM for better performance on GPU.\n"
          ],
          "name": "stderr"
        },
        {
          "output_type": "stream",
          "text": [
            "Train on 6463 samples, validate on 719 samples\n",
            "Epoch 1/5\n",
            "6463/6463 [==============================] - 3s 484us/sample - loss: 1.7581 - sparse_categorical_accuracy: 0.2825 - val_loss: 1.7074 - val_sparse_categorical_accuracy: 0.3435\n",
            "Epoch 2/5\n",
            "6463/6463 [==============================] - 3s 420us/sample - loss: 1.4157 - sparse_categorical_accuracy: 0.5047 - val_loss: 1.0262 - val_sparse_categorical_accuracy: 0.6384\n",
            "Epoch 3/5\n",
            "6463/6463 [==============================] - 3s 422us/sample - loss: 0.7476 - sparse_categorical_accuracy: 0.7368 - val_loss: 0.8492 - val_sparse_categorical_accuracy: 0.7107\n",
            "Epoch 4/5\n",
            "6463/6463 [==============================] - 3s 421us/sample - loss: 0.4011 - sparse_categorical_accuracy: 0.8802 - val_loss: 0.8371 - val_sparse_categorical_accuracy: 0.7455\n",
            "Epoch 5/5\n",
            "6463/6463 [==============================] - 3s 424us/sample - loss: 0.2261 - sparse_categorical_accuracy: 0.9373 - val_loss: 0.8737 - val_sparse_categorical_accuracy: 0.7385\n"
          ],
          "name": "stdout"
        },
        {
          "output_type": "display_data",
          "data": {
            "image/png": "[encoded data removed]",
            "text/plain": [
              "<Figure size 432x288 with 1 Axes>"
            ]
          },
          "metadata": {
            "tags": []
          }
        },
        {
          "output_type": "display_data",
          "data": {
            "image/png": "[encoded data removed]",
            "text/plain": [
              "<Figure size 432x288 with 1 Axes>"
            ]
          },
          "metadata": {
            "tags": []
          }
        },
        {
          "output_type": "stream",
          "text": [
            "1795/1795 [==============================] - 1s 325us/sample - loss: 0.9256 - sparse_categorical_accuracy: 0.7086\n",
            "Test accuracy: 0.7086350917816162\n"
          ],
          "name": "stdout"
        }
      ]
    },
    {
      "cell_type": "markdown",
      "metadata": {
        "id": "3Km7Miqgbwx4",
        "colab_type": "text"
      },
      "source": [
        "### Global max pooling after Embedding layer"
      ]
    },
    {
      "cell_type": "code",
      "metadata": {
        "colab_type": "code",
        "id": "30iIYz5khI9U",
        "colab": {}
      },
      "source": [
        "model_name = \"_globmaxp\""
      ],
      "execution_count": 0,
      "outputs": []
    },
    {
      "cell_type": "code",
      "metadata": {
        "id": "theuV5LjTrFA",
        "colab_type": "code",
        "outputId": "88c946d1-dde6-48ce-cb7f-e42dfb3a30af",
        "colab": {
          "base_uri": "https://localhost:8080/",
          "height": 1000
        }
      },
      "source": [
        "model = tf.keras.Sequential()\n",
        "model.add(tf.keras.layers.Embedding(input_dim=number_of_words, output_dim=128, input_shape=(X_train_p.shape[1],)))\n",
        "#model.add(tf.keras.layers.Flatten())\n",
        "model.add(tf.keras.layers.GlobalMaxPooling1D())\n",
        "#model.add(tf.keras.layers.LSTM(units=128, activation='tanh'))\n",
        "#model.add(tf.keras.layers.GlobalAveragePooling1D())\n",
        "#model.add(tf.keras.layers.Dense(units=128, activation='relu'))\n",
        "#model.add(tf.keras.layers.BatchNormalization())\n",
        "#model.add(tf.keras.layers.Dropout(0.2))\n",
        "#model.add(tf.keras.layers.Dense(units=128, activation='relu'))\n",
        "#model.add(tf.keras.layers.BatchNormalization())\n",
        "#model.add(tf.keras.layers.Dropout(0.2))\n",
        "#model.add(tf.keras.layers.Dense(units=1, activation='sigmoid'))\n",
        "model.add(tf.keras.layers.Dense(units=len(ylabels), activation='softmax'))\n",
        "model.compile(optimizer='adam', loss='sparse_categorical_crossentropy', metrics=['sparse_categorical_accuracy'])\n",
        "model.summary()\n",
        "history = model.fit(X_train_p, y_train, epochs=10, batch_size=128,validation_split=0.1)\n",
        "plot_history(history)\n",
        "test_loss, test_acurracy = model.evaluate(X_test_p, y_test)\n",
        "print(\"Test accuracy: {}\".format(test_acurracy))"
      ],
      "execution_count": 37,
      "outputs": [
        {
          "output_type": "stream",
          "text": [
            "Model: \"sequential_4\"\n",
            "_________________________________________________________________\n",
            "Layer (type)                 Output Shape              Param #   \n",
            "=================================================================\n",
            "embedding_3 (Embedding)      (None, 500, 128)          27245056  \n",
            "_________________________________________________________________\n",
            "global_max_pooling1d (Global (None, 128)               0         \n",
            "_________________________________________________________________\n",
            "dense_5 (Dense)              (None, 6)                 774       \n",
            "=================================================================\n",
            "Total params: 27,245,830\n",
            "Trainable params: 27,245,830\n",
            "Non-trainable params: 0\n",
            "_________________________________________________________________\n",
            "Train on 6463 samples, validate on 719 samples\n",
            "Epoch 1/10\n",
            "6463/6463 [==============================] - 1s 187us/sample - loss: 1.7663 - sparse_categorical_accuracy: 0.2833 - val_loss: 1.7283 - val_sparse_categorical_accuracy: 0.3408\n",
            "Epoch 2/10\n",
            "6463/6463 [==============================] - 1s 162us/sample - loss: 1.6681 - sparse_categorical_accuracy: 0.3678 - val_loss: 1.6054 - val_sparse_categorical_accuracy: 0.4145\n",
            "Epoch 3/10\n",
            "6463/6463 [==============================] - 1s 159us/sample - loss: 1.4894 - sparse_categorical_accuracy: 0.5853 - val_loss: 1.4023 - val_sparse_categorical_accuracy: 0.6161\n",
            "Epoch 4/10\n",
            "6463/6463 [==============================] - 1s 160us/sample - loss: 1.2405 - sparse_categorical_accuracy: 0.7264 - val_loss: 1.1701 - val_sparse_categorical_accuracy: 0.7288\n",
            "Epoch 5/10\n",
            "6463/6463 [==============================] - 1s 160us/sample - loss: 0.9913 - sparse_categorical_accuracy: 0.8041 - val_loss: 0.9745 - val_sparse_categorical_accuracy: 0.7636\n",
            "Epoch 6/10\n",
            "6463/6463 [==============================] - 1s 160us/sample - loss: 0.7919 - sparse_categorical_accuracy: 0.8354 - val_loss: 0.8363 - val_sparse_categorical_accuracy: 0.7872\n",
            "Epoch 7/10\n",
            "6463/6463 [==============================] - 1s 158us/sample - loss: 0.6481 - sparse_categorical_accuracy: 0.8552 - val_loss: 0.7486 - val_sparse_categorical_accuracy: 0.7900\n",
            "Epoch 8/10\n",
            "6463/6463 [==============================] - 1s 159us/sample - loss: 0.5451 - sparse_categorical_accuracy: 0.8741 - val_loss: 0.6921 - val_sparse_categorical_accuracy: 0.7928\n",
            "Epoch 9/10\n",
            "6463/6463 [==============================] - 1s 161us/sample - loss: 0.4672 - sparse_categorical_accuracy: 0.8886 - val_loss: 0.6530 - val_sparse_categorical_accuracy: 0.7983\n",
            "Epoch 10/10\n",
            "6463/6463 [==============================] - 1s 157us/sample - loss: 0.4049 - sparse_categorical_accuracy: 0.9036 - val_loss: 0.6239 - val_sparse_categorical_accuracy: 0.7983\n"
          ],
          "name": "stdout"
        },
        {
          "output_type": "display_data",
          "data": {
            "image/png": "[encoded data removed]",
            "text/plain": [
              "<Figure size 432x288 with 1 Axes>"
            ]
          },
          "metadata": {
            "tags": []
          }
        },
        {
          "output_type": "display_data",
          "data": {
            "image/png": "[encoded data removed]",
            "text/plain": [
              "<Figure size 432x288 with 1 Axes>"
            ]
          },
          "metadata": {
            "tags": []
          }
        },
        {
          "output_type": "stream",
          "text": [
            "1795/1795 [==============================] - 0s 75us/sample - loss: 0.6305 - sparse_categorical_accuracy: 0.8017\n",
            "Test accuracy: 0.8016713261604309\n"
          ],
          "name": "stdout"
        }
      ]
    },
    {
      "cell_type": "markdown",
      "metadata": {
        "id": "XQWnpgwxcEpA",
        "colab_type": "text"
      },
      "source": [
        "### 1D Convolution + MaxPooling + Flattening"
      ]
    },
    {
      "cell_type": "code",
      "metadata": {
        "colab_type": "code",
        "id": "Hsc5F6VLhDW2",
        "colab": {}
      },
      "source": [
        "model_name = \"_1dconv_axp_flat\""
      ],
      "execution_count": 0,
      "outputs": []
    },
    {
      "cell_type": "code",
      "metadata": {
        "id": "oi2_x9kiYQlx",
        "colab_type": "code",
        "outputId": "7559fc5d-bdce-4f8d-a5a6-b9db1eca3728",
        "colab": {
          "base_uri": "https://localhost:8080/",
          "height": 1000
        }
      },
      "source": [
        "model = tf.keras.Sequential()\n",
        "model.add(tf.keras.layers.Embedding(input_dim=number_of_words, output_dim=128, input_shape=(X_train_p.shape[1],)))\n",
        "#model.add(tf.keras.layers.Flatten())\n",
        "model.add(tf.keras.layers.Conv1D(128, 5, activation='relu'))\n",
        "model.add(tf.keras.layers.MaxPooling1D(pool_size=4))\n",
        "model.add(tf.keras.layers.Flatten())\n",
        "#model.add(tf.keras.layers.LSTM(units=128, activation='tanh'))\n",
        "#model.add(tf.keras.layers.GlobalAveragePooling1D())\n",
        "#model.add(tf.keras.layers.Dense(units=128, activation='relu'))\n",
        "#model.add(tf.keras.layers.BatchNormalization())\n",
        "#model.add(tf.keras.layers.Dropout(0.2))\n",
        "model.add(tf.keras.layers.Dense(units=len(ylabels), activation='softmax'))\n",
        "model.compile(optimizer='adam', loss='sparse_categorical_crossentropy', metrics=['sparse_categorical_accuracy'])\n",
        "model.summary()\n",
        "history = model.fit(X_train_p, y_train, epochs=10, batch_size=128,validation_split=0.1)\n",
        "plot_history(history)\n",
        "test_loss, test_acurracy = model.evaluate(X_test_p, y_test)\n",
        "print(\"Test accuracy: {}\".format(test_acurracy))\n"
      ],
      "execution_count": 39,
      "outputs": [
        {
          "output_type": "stream",
          "text": [
            "Model: \"sequential_5\"\n",
            "_________________________________________________________________\n",
            "Layer (type)                 Output Shape              Param #   \n",
            "=================================================================\n",
            "embedding_4 (Embedding)      (None, 500, 128)          27245056  \n",
            "_________________________________________________________________\n",
            "conv1d (Conv1D)              (None, 496, 128)          82048     \n",
            "_________________________________________________________________\n",
            "max_pooling1d (MaxPooling1D) (None, 124, 128)          0         \n",
            "_________________________________________________________________\n",
            "flatten (Flatten)            (None, 15872)             0         \n",
            "_________________________________________________________________\n",
            "dense_6 (Dense)              (None, 6)                 95238     \n",
            "=================================================================\n",
            "Total params: 27,422,342\n",
            "Trainable params: 27,422,342\n",
            "Non-trainable params: 0\n",
            "_________________________________________________________________\n",
            "Train on 6463 samples, validate on 719 samples\n",
            "Epoch 1/10\n",
            "6463/6463 [==============================] - 2s 294us/sample - loss: 1.7305 - sparse_categorical_accuracy: 0.2804 - val_loss: 1.5054 - val_sparse_categorical_accuracy: 0.4409\n",
            "Epoch 2/10\n",
            "6463/6463 [==============================] - 1s 220us/sample - loss: 0.9255 - sparse_categorical_accuracy: 0.6881 - val_loss: 0.6327 - val_sparse_categorical_accuracy: 0.8081\n",
            "Epoch 3/10\n",
            "6463/6463 [==============================] - 1s 221us/sample - loss: 0.3305 - sparse_categorical_accuracy: 0.9089 - val_loss: 0.6117 - val_sparse_categorical_accuracy: 0.8206\n",
            "Epoch 4/10\n",
            "6463/6463 [==============================] - 1s 220us/sample - loss: 0.1458 - sparse_categorical_accuracy: 0.9681 - val_loss: 0.6693 - val_sparse_categorical_accuracy: 0.8095\n",
            "Epoch 5/10\n",
            "6463/6463 [==============================] - 1s 220us/sample - loss: 0.0979 - sparse_categorical_accuracy: 0.9811 - val_loss: 0.6793 - val_sparse_categorical_accuracy: 0.8261\n",
            "Epoch 6/10\n",
            "6463/6463 [==============================] - 1s 221us/sample - loss: 0.0771 - sparse_categorical_accuracy: 0.9830 - val_loss: 0.7079 - val_sparse_categorical_accuracy: 0.8289\n",
            "Epoch 7/10\n",
            "6463/6463 [==============================] - 1s 226us/sample - loss: 0.0730 - sparse_categorical_accuracy: 0.9845 - val_loss: 0.7856 - val_sparse_categorical_accuracy: 0.8067\n",
            "Epoch 8/10\n",
            "6463/6463 [==============================] - 1s 222us/sample - loss: 0.0698 - sparse_categorical_accuracy: 0.9842 - val_loss: 0.7775 - val_sparse_categorical_accuracy: 0.8178\n",
            "Epoch 9/10\n",
            "6463/6463 [==============================] - 1s 224us/sample - loss: 0.0671 - sparse_categorical_accuracy: 0.9851 - val_loss: 0.7691 - val_sparse_categorical_accuracy: 0.8150\n",
            "Epoch 10/10\n",
            "6463/6463 [==============================] - 1s 223us/sample - loss: 0.0670 - sparse_categorical_accuracy: 0.9845 - val_loss: 0.7949 - val_sparse_categorical_accuracy: 0.8081\n"
          ],
          "name": "stdout"
        },
        {
          "output_type": "display_data",
          "data": {
            "image/png": "[encoded data removed]",
            "text/plain": [
              "<Figure size 432x288 with 1 Axes>"
            ]
          },
          "metadata": {
            "tags": []
          }
        },
        {
          "output_type": "display_data",
          "data": {
            "image/png": "[encoded data removed]",
            "text/plain": [
              "<Figure size 432x288 with 1 Axes>"
            ]
          },
          "metadata": {
            "tags": []
          }
        },
        {
          "output_type": "stream",
          "text": [
            "1795/1795 [==============================] - 0s 91us/sample - loss: 0.7706 - sparse_categorical_accuracy: 0.7950\n",
            "Test accuracy: 0.7949860692024231\n"
          ],
          "name": "stdout"
        }
      ]
    },
    {
      "cell_type": "markdown",
      "metadata": {
        "id": "-yC181-Gb7u4",
        "colab_type": "text"
      },
      "source": [
        "### MaxPooling (local) + Flattening"
      ]
    },
    {
      "cell_type": "code",
      "metadata": {
        "id": "ApkBtsyfg24C",
        "colab_type": "code",
        "colab": {}
      },
      "source": [
        "model_name = \"_maxp_flat\""
      ],
      "execution_count": 0,
      "outputs": []
    },
    {
      "cell_type": "code",
      "metadata": {
        "id": "vYUx-dDNeHly",
        "colab_type": "code",
        "colab": {}
      },
      "source": [
        ""
      ],
      "execution_count": 0,
      "outputs": []
    },
    {
      "cell_type": "code",
      "metadata": {
        "id": "3VBE9T5JTU7V",
        "colab_type": "code",
        "outputId": "ab5883f6-5b57-4341-e2ea-57ba1f3108ee",
        "colab": {
          "base_uri": "https://localhost:8080/",
          "height": 1000
        }
      },
      "source": [
        "import textwrap\n",
        "\n",
        "size = 3\n",
        "sample = np.random.choice(range(len(X_test)),size)\n",
        "predictions = model.predict_classes(X_test_p[sample])\n",
        "for idx,i in enumerate(sample):\n",
        "    print(f'Review #{i} - {len(X_test[i])} P:{ylabels[predictions[idx]]},A:{ylabels[y_test[sample[idx]]]}')\n",
        "    s = ' '.join(id_to_word[id] for id in X_test[i])\n",
        "    print('\\n'.join(textwrap.wrap(s, width=100, replace_whitespace=False)))\n",
        "    print()"
      ],
      "execution_count": 43,
      "outputs": [
        {
          "output_type": "stream",
          "text": [
            "Review #1086 - 114 P:Industry,A:Industry\n",
            "these are wikipedia lists about the pharmaceutical industry the pharmaceutical industry develops\n",
            "produces and markets drugs or pharmaceuticals licensed for use as medications pharmaceutical\n",
            "companies are allowed to deal in generic or brand medications and medical devices they are subject\n",
            "to a variety of laws and regulations regarding the production testing and marketing of drugs list of\n",
            "pharmaceutical companies list of largest selling pharmaceutical products list of largest\n",
            "pharmaceutical settlements list of off label promotion pharmaceutical settlements list of\n",
            "pharmaceutical sciences journals list of pharmaceutical compound number xxxunk list of\n",
            "pharmaceutical manufacturers in the united kingdom list of pharmaceutical companies in hyderabad\n",
            "list of pharmaceutical companies in china list of xxxunk products see also\n",
            "\n",
            "Review #736 - 1607 P:Cultures,A:Cultures\n",
            "the nine xxxunk are nine historical xxxunk and legendary xxxunk who xxxunk the ideals of xxxunk\n",
            "established in the middle ages whose lives were deemed a valuable study for xxxunk to xxxunk status\n",
            "all were commonly referred to as xxxunk regardless of their historical titles in french they are\n",
            "called les xxxunk xxxunk or nine xxxunk giving a more specific idea of the moral virtues they\n",
            "exemplified those of xxxunk courage and xxxunk in italy they are i xxxunk xxxunk the nine xxxunk\n",
            "include three xxxunk xxxunk alexander the great and julius caesar three jews joshua david and xxxunk\n",
            "xxxunk and three christians king arthur xxxunk and xxxunk of xxxunk origin they were first described\n",
            "in the early fourteenth century by jacques de xxxunk in his xxxunk du xxxunk xxxunk their selection\n",
            "as johan xxxunk pointed out xxxunk a close connection with the romance genre of xxxunk xxxunk\n",
            "divided into a triad of xxxunk these men were considered to be xxxunk of xxxunk within their\n",
            "particular traditions whether pagan jewish or christian xxxunk choices soon became a common theme in\n",
            "the literature and art of the middle ages and earned a permanent place in the popular consciousness\n",
            "the medieval craving for symmetry xxxunk female equivalents the xxxunk xxxunk who were sometimes\n",
            "added though the women chosen varied xxxunk xxxunk selected a group of rather xxxunk xxxunk selected\n",
            "from fiction and history among them xxxunk xxxunk xxxunk literature and suites of xxxunk featured\n",
            "the full complement of eighteen whose xxxunk figures preceded king henry vi of england in his xxxunk\n",
            "royal entry to paris xxxunk a tenth worthy was added by xxxunk in the figure of bertrand du xxxunk\n",
            "the xxxunk knight to whom france owed recovery from the battles of xxxunk xxxunk and xxxunk xxxunk\n",
            "francis i of france still occasionally xxxunk himself at court dressed in the antique mode to\n",
            "identify himself also as one of the xxxunk xxxunk the xxxunk xxxunk codex presents the coat of arms\n",
            "of the nine xxxunk among a larger list of attributed arms of exemplary individuals as the three\n",
            "better jews best xxxunk and best christians alongside the arms attributed to three heroes of king\n",
            "david xxxunk as the first coats of arms the three xxxunk the three xxxunk xxxunk the three worst\n",
            "xxxunk xxxunk xxxunk xxxunk and xxxunk three patient ones xxxunk the wise job and saint xxxunk three\n",
            "xxxunk kings france denmark and hungary and three noble dynasties louis xi of france called louis\n",
            "the prudent as xxxunk xxxunk i of hungary and otto iii duke of brunswick xxxunk of the house of\n",
            "xxxunk symbolism as a group the nine xxxunk represent all facets of the perfect xxxunk warrior all\n",
            "with the exception of xxxunk are xxxunk heroes despite arthur's later downfall historical and\n",
            "literary texts record his early xxxunk in britain and on the continent those not royal were presumed\n",
            "to come from xxxunk families all lived in the pre heraldic era and attributed arms were invented for\n",
            "them as in lucas van xxxunk xxxunk all brought glory and honor to their nations and were noted for\n",
            "their personal xxxunk in arms as individuals each displayed some outstanding quality of xxxunk which\n",
            "made them xxxunk of xxxunk that the nine individual figures were generally not distinguished xxxunk\n",
            "with respect to relative antiquity or ethnicity would suggest that the virtues that they manifest\n",
            "are to be understood as xxxunk and universal classification the nine xxxunk comprise a triad of\n",
            "xxxunk as follows xxxunk xxxunk alexander the great julius caesar jews joshua david xxxunk xxxunk\n",
            "christians king arthur xxxunk xxxunk of xxxunk cultural references literature the nine xxxunk were\n",
            "also a popular subject for xxxunk in renaissance europe in william shakespeare's play xxxunk xxxunk\n",
            "lost the comic characters attempt to stage such a xxxunk but it xxxunk into chaos the list of xxxunk\n",
            "actually named in the play include two not on the original list xxxunk and xxxunk the great\n",
            "alexander xxxunk xxxunk and xxxunk also appear on stage before the show collapses into complete\n",
            "disorder the xxxunk are also mentioned in henry iv part 2 in which doll xxxunk is so impressed by\n",
            "xxxunk xxxunk in fighting ancient xxxunk that she says he is as xxxunk as xxxunk of troy worth five\n",
            "of xxxunk and ten times better than the nine xxxunk don xxxunk xxxunk the nine xxxunk in volume i\n",
            "chapter 5 telling a peasant who is trying to get him to admit who he is i know that i may be not\n",
            "only those i have named but all the twelve peers of france and even all the nine xxxunk since my\n",
            "achievements surpass all that they have done all together and each of them on his own account the\n",
            "phrase xxxunk dressed to the xxxunk is said to be scots in origin the earliest written example of\n",
            "the phrase is from the xxxunk epistle to ramsay by the scottish poet william hamilton the xxxunk\n",
            "lines therein thou sent me how to the xxxunk they did content me art the nine xxxunk had not\n",
            "devolved to folk culture even in the seventeenth century for a xxxunk of the nine xxxunk\n",
            "contemporary with shakespeare's comedy was painted at the outset of the seventeenth century at north\n",
            "xxxunk place xxxunk an up to date house built by the xxxunk family xxxunk the xxxunk in new york\n",
            "city has important portions of an early 15th century xxxunk series illustrating the surviving five\n",
            "of the nine xxxunk king arthur joshua david xxxunk and julius caesar i xxxunk xxxunk a xxxunk by the\n",
            "xxxunk del xxxunk della xxxunk an anonymous master painted c xxxunk in the xxxunk xxxunk of the\n",
            "xxxunk della xxxunk xxxunk italy the series also includes depictions of their female counterparts\n",
            "xxxunk house has sculptures of the nine xxxunk spaced along the upper eastern xxxunk on the exterior\n",
            "of the long gallery xxxunk these figures are dressed in roman armour nine worthy women in the late\n",
            "fourteenth century lady xxxunk began to accompany the nine xxxunk though usually not individualized\n",
            "and shown as anonymous amazon styled warriors in later years nine of the most xxxunk ladies of all\n",
            "ages and nations were chosen from scripture history and legend to be placed alongside their male\n",
            "counterparts though the choices for the lady xxxunk were not usually standardized and often varied\n",
            "by region author and artist xxxunk xxxunk to the xxxunk xxxunk adds xxxunk xxxunk women including\n",
            "xxxunk xxxunk and xxxunk together with their male counterparts they xxxunk henry vi as he enters\n",
            "paris in xxxunk and figure in le xxxunk xxxunk the list of xxxunk was however less fixed and not\n",
            "always structured in pagan jewish and christian xxxunk thomas iii of xxxunk has xxxunk xxxunk xxxunk\n",
            "xxxunk xxxunk xxxunk xxxunk xxxunk xxxunk a very fine set of xxxunk fifteenth century panel\n",
            "paintings attributed to the master of the xxxunk legend and others now incomplete and widely\n",
            "dispersed showed male and female xxxunk the remaining paintings were xxxunk in a 2007 exhibition at\n",
            "the national gallery london in the german renaissance hans xxxunk made a set of six xxxunk each\n",
            "showing three of the eighteen xxxunk in addition to the usual males his prints showed the pagan\n",
            "xxxunk xxxunk and virginia the jewish xxxunk judith and xxxunk and the christian saints helena\n",
            "xxxunk of sweden and elizabeth of hungary xxxunk was in touch with xxxunk renaissance humanist\n",
            "circles who may have helped choose the group apart from xxxunk mother of xxxunk who tried to save\n",
            "rome from defeat by her son the other pagan two were examples of xxxunk responsible for no heroic\n",
            "acts except their defence of their own virtue in contrast two of the jewish women judith and xxxunk\n",
            "are known for their personal assassination of leaders opposed to israel judith carries a sword in\n",
            "one hand and xxxunk xxxunk head in the other and xxxunk carries the xxxunk with which she xxxunk a\n",
            "peg in the head of xxxunk the power of women and female violence was an interest of german artists\n",
            "at the time and lucas van xxxunk xxxunk xxxunk and others made prints of xxxunk in the act the\n",
            "christian xxxunk of saints all very popular in germany at the time are all women who had been\n",
            "married xxxunk became an xxxunk as a widow in addition like three of the male xxxunk elizabeth of\n",
            "hungary was an ancestor of xxxunk patron xxxunk i holy roman emperor and helena was a roman xxxunk\n",
            "unlike the other two groups who all face each other apparently in conversation these three all look\n",
            "down and may illustrate the female virtue of silence xxxunk conception was not very widely followed\n",
            "nine xxxunk of london nine xxxunk of london is a book by richard johnson written in xxxunk that\n",
            "borrows the theme from the nine xxxunk the book is xxxunk explaining the xxxunk excise of xxxunk the\n",
            "xxxunk of the xxxunk and the memorable attempts of xxxunk minds xxxunk for gentlemen not xxxunk for\n",
            "xxxunk and most profitable for xxxunk celebrated the rise of nine famous xxxunk through society from\n",
            "the ranks of xxxunk or xxxunk the nine were sir william xxxunk sir henry xxxunk sir thomas white sir\n",
            "william xxxunk sir john xxxunk sir john xxxunk christopher xxxunk sir henry xxxunk of xxxunk and sir\n",
            "hugh xxxunk the term nine xxxunk was later used to refer to nine of the privy xxxunk of william iii\n",
            "xxxunk xxxunk xxxunk edward russell xxxunk xxxunk nottingham xxxunk and xxxunk see also virtuous\n",
            "pagan references external links media related to nine xxxunk at wikimedia commons the nine xxxunk\n",
            "presented by xxxunk org\n",
            "\n",
            "Review #1090 - 7091 P:Economy,A:Economy\n",
            "female participation and advancement in majority muslim countries or nations in which more than 50\n",
            "of the population identifies as an xxxunk of the islamic faith has traditionally been areas of\n",
            "controversy several western nations such as the united states and western europe have criticised\n",
            "majority muslim nations for the lack of involvement and opportunity for women in the private sector\n",
            "low levels of female labor participation large wage gaps by gender and few female executives in\n",
            "large companies in majority muslim nations are common criticisms of these nations accordingly\n",
            "significant data has been gathered by global institutions about female workers in majority muslim\n",
            "nations to test these cultural beliefs development economists and multinational organizations such\n",
            "as the united nations world bank and the international labour organization have gathered significant\n",
            "amounts of data to study the labor contributions of and commercial opportunities for women majority\n",
            "muslim nations there are fifty one countries in the world in which more than 50 of the population\n",
            "identify as muslims these countries spread from north africa to the middle east to the balkans and\n",
            "central asia to southeast asia while many nations contain a strong muslim presence majority muslim\n",
            "nations by definition have more muslims as citizens than non muslims not all majority muslim states\n",
            "however have islam as their established religion turkey for example is a prominent muslim country in\n",
            "which 99 of the population follows some form of islam however there is no official religion the\n",
            "state is secular nigeria is also a majority muslim country which is officially secular most majority\n",
            "muslim nations however recognize islam as the official state religion furthermore many states\n",
            "identify a specific derivative of the islamic faith as their official religion for example sunni\n",
            "islam is the official state religion of afghanistan algeria bangladesh jordan libya saudi arabia\n",
            "tunisia somalia and the united arab emirates xxxunk islam is the official religion of iran which is\n",
            "a xxxunk some minority islamic xxxunk are official state religions as well xxxunk a minority school\n",
            "within islam is the official religion of oman table 1 selected majority muslim countries not all\n",
            "states in the muslim world xxxunk a distinction between the xxxunk of islam in pakistan and iraq\n",
            "islam as a faith is recognized as the official religion all xxxunk or schools are included in egypt\n",
            "freedom of religion is extended to the abrahamic religions even though sunni islam is the state\n",
            "sponsored religion similarly indonesia which is the world's largest muslim country guarantees\n",
            "freedom of religion but only recognizes six official religions islam is one of and the most\n",
            "prominent of the six despite a common religion majority muslim nations are quite disparate in terms\n",
            "of size population demographic composition and the legal framework of religion general female labor\n",
            "force participation table 2 female labor force participation rate source global gender gap report\n",
            "2012 world economic forum a basic indicator of women's involvement in the formal economy is a\n",
            "statistic known as the labor force participation rate this data point shows the percentage of women\n",
            "in a country who are either employed in full or part time labor according to the international\n",
            "labour organization the labor force participation rate is defined as the proportion of the\n",
            "population ages 15 and older that is economically active all people who supply labor for the\n",
            "production of goods and services during a specified period table 2 lists the labor force\n",
            "participation rates of women in eleven majority muslim countries majority muslim countries are\n",
            "defined as states in which more than 50 of the population identifies with the islamic faith of these\n",
            "eleven countries bangladesh and indonesia had the highest rates of female participation in the labor\n",
            "force in 2010 with 57 and 51 respectively syria iraq and afghanistan have the lowest rates of female\n",
            "labor force participation among these eleven nations with 13 14 and 15 respectively however\n",
            "numerically large discrepancies exist in the data for a couple of nations when drawn from different\n",
            "sources xxxunk female labor force participation rate for example was 15 in 2010 according to world\n",
            "bank figures that percentage nearly xxxunk to 28 9 if data from xxxunk is cited the same discrepancy\n",
            "is true for figures for iran for which the world bank lists its female participation rate at 16 in\n",
            "2010 and xxxunk lists it as 26 9 it is unclear why these two sources give significantly different\n",
            "numbers as their methodology and definitions of labor force participation were similar female to\n",
            "male workers ratio another statistic indicative of female participation in the formal economy of a\n",
            "country is the ratio of female to male workers as nations develop and their economies both expand\n",
            "and diversify the expansion of jobs and industries increases this ratio pushing it toward 1 provided\n",
            "female workers have access to job opportunities and firms collectively do not systematically\n",
            "discriminate against female candidates generally speaking the closer the ratio is to 1 the more\n",
            "gender equal an economy is because neither sex has a disproportionate share of jobs bangladesh and\n",
            "indonesia have the largest ratio of these eleven countries with scores of 0 73 and 0 61 respectively\n",
            "nigeria also has a relatively large ratio of female to male workers of 0 51 despite having twice the\n",
            "percentage of females in the actual labor force xxxunk female to male xxxunk ratio is far lower than\n",
            "iran's 0 35 to 0 44 similarly xxxunk ratio is barely smaller than xxxunk 0 27 as compared to 0 30\n",
            "whereas xxxunk female population has twice the percentage size of formal economic workers as xxxunk\n",
            "female labor force these ratios are compiled and published by the world economic forum the median\n",
            "annual income for female workers in the united states was 36 xxxunk in 2010 the forum did not\n",
            "however list this information for afghanistan iraq or tunisia it is probable that the ratios are\n",
            "small given the low labor force participation rate of women in these countries and high unemployment\n",
            "rates but given the uncertain correlation between female labor force participation rate and the\n",
            "ratio of male to female workers this cannot be stated with any certainty one possible explanation\n",
            "for the xxxunk discrepancy is the ratio of females to males in the population in syria for every\n",
            "woman between the ages of 15 and 65 there are 1 03 males since there are more men than women for a\n",
            "limited number of jobs more men in absolute terms are excluded from formal employment consequently\n",
            "the ratio of female to male workers increases because women represent a larger percentage of those\n",
            "who work than they represent the entire labor force therefore women would have a relatively higher\n",
            "ratio of female to male workers than its female labor force participation rate may suggest the sheer\n",
            "size of the male component of the workforce may be sufficient to create a small ratio of female to\n",
            "male workers table 3 ratio of female to male workers source global gender gap report 2012 world\n",
            "economic forum similar to the ratio of female to male workers in the labor force is the percentage\n",
            "of the actual labor force composed of women this differs from the labor force participation rate of\n",
            "women because it shows female workers as a percentage of the total number of workers in the economy\n",
            "as opposed to the percentage of the population of women that are involved in the formal economy a\n",
            "large female labor force participation rate does not necessarily correlate to a substantial\n",
            "percentage of females in the labor force however a high female labor force participation rate\n",
            "demonstrates high economic participation by women in a country regardless of the size of the labor\n",
            "market itself that these women compose demographics particularly birth rates and human capital\n",
            "formation through education good nutrition and access to infrastructure and institutions may play a\n",
            "role in the discrepancies between these indicators however as one is a xxxunk of the other the two\n",
            "figures generally move xxxunk despite a lower female labor force participation rate and a smaller\n",
            "female to male worker ratio xxxunk female workers represent the largest component in terms of\n",
            "percentage of a nation's labor force when compared to the other ten countries according to the\n",
            "international labour organization 42 84 of the nigerian labor force is composed of women bangladesh\n",
            "and indonesia are a close second and third with 39 87 and 38 23 respectively iraq syria and xxxunk\n",
            "labor xxxunk female composition rates 14 30 15 20 and 28 69 respectively are quite close to their\n",
            "female labor force participation rates which suggests a population parity between men and women this\n",
            "is interesting as many other developing countries do not have population parity by gender female\n",
            "employment characteristics there are a variety of characteristics of female employment such as\n",
            "salary and employment type which are meaningful indicators of female economic participation and\n",
            "female economic stability these indicators help clarify the economic status women hold in some\n",
            "majority muslim nations and the xxxunk of their involvement in the economy in development economics\n",
            "great emphasis has been placed on salaried work because it provides a stable source of income\n",
            "salaried work salaried worker as defined by the international labour organization are workers who\n",
            "hold the type of jobs defined as xxxunk employment xxxunk where the xxxunk hold explicit written or\n",
            "oral or implicit employment contracts that give them a basic remuneration that is not directly\n",
            "dependent upon the revenue of the unit for which they work fundamentally salaried workers are more\n",
            "likely to be full time or even permanent workers thus they are staples of the formal market whereas\n",
            "non salaried workers are more or less on the fringe of economic activity which xxxunk them to\n",
            "limited participation in the formal market while labor force participation rate sheds light on how\n",
            "many women work in the formal sectors of the economy it says nothing about the type of work or the\n",
            "stable presence of women in the labor force countries such as bangladesh and indonesia when female\n",
            "labor force participation rate or the ratio of male to female workers or similar indicators are\n",
            "considered appear to have substantial female involvement in their economies however very few of the\n",
            "women in these nations have salaried work which means they may go through cycles of short periods of\n",
            "work xxxunk by long periods of unemployment alternatively these women may be xxxunk from task to\n",
            "task for different employers and never develop a stable basis at a particular firm or within a\n",
            "particular field in bangladesh and indonesia two majority muslim countries with high female labor\n",
            "force participation rates 11 70 and 31 70 of female workers are salaried respectively perhaps\n",
            "counter xxxunk majority muslim countries such as egypt iran syria and tunisia which have low rates\n",
            "of female labor force participation and a relatively small number of actual female laborers have\n",
            "high rates of female salaried employees in egypt 47 9 of employed females have salaried jobs in iran\n",
            "46 8 of female workers are salaried and in tunisia the percentage is 69 1 perhaps the most\n",
            "surprising case is syria where 74 30 of women are salaried this is the largest percentage in the\n",
            "middle east and one of the highest in the entire muslim world it is unclear why several nations with\n",
            "few female workers have such a high percentage of salaried women one possible explanation is that so\n",
            "few women are active in the labor market because the demand for female employment is restricted to a\n",
            "few higher paying low labor intensive industries if only a few women are needed but they need to\n",
            "have above average skills then these xxxunk marginal value may necessitate salary as opposed to\n",
            "simple wages this information has not been provided by the ilo for iraq saudi arabia or afghanistan\n",
            "employers employees self employed employees and self employed women's role in the economy as\n",
            "employees employers or as self employed labor units is another important characteristic of female\n",
            "labor force participation in patriarchal societies or rigid high degree of difficulty for workers to\n",
            "move between industries labor markets women are more likely to be employees than employers because\n",
            "they do not have the resources skills networks or opportunities to either be promoted within a firm\n",
            "or to be owners of small or medium sized enterprises smes in poor countries or countries with large\n",
            "xxxunk of poverty within the population which many predominantly muslim nations are or have the\n",
            "probability of self employment is greater because women cannot find more established jobs there are\n",
            "however dozens of reasons why women may be employees employers or self employed that reach beyond\n",
            "basic macroeconomic forces or social norms and conventions according to the ilo more than half 53 of\n",
            "all female workers in iran are self employed in egypt slightly fewer women are self employed than\n",
            "are in iran fifty two percent of egyptian female workers have their own business ventures bangladesh\n",
            "pakistan and indonesia have the highest rates of female self employment with 86 7 77 9 and 68 3\n",
            "respectively very few women are involved in the formal labor market in pakistan but more than three\n",
            "xxxunk of them are self employed nearly half of working women in turkey are self employers with 49\n",
            "of female workers operating their own private enterprise or services female economic activity and\n",
            "participation is widely distributed across the muslim world female employers the female labor force\n",
            "participation rate the ratio of female workers to male workers the wage security of women and other\n",
            "elements of formal economic activity cover a large interval across predominantly muslim nations\n",
            "however across most majority muslim nations there is a sharp convergence on female employers with\n",
            "the exception of turkey hardly any women are employers in many majority muslim nations in turkey 48\n",
            "of female workers are employers this statistic suggests that turkish women hire at least one\n",
            "additional worker for their self employed commercial enterprises considering that self employment is\n",
            "the most common form of employment among this demographic group the second largest percentage of\n",
            "female employers as a percentage of female workers is 3 in egypt in indonesia where 68 of women are\n",
            "self employed and 38 of the labor force is composed of women only 1 of these individuals are\n",
            "employers one tenth of one percent of female workers in bangladesh are employers despite the\n",
            "nation's sizable female labor pool this number is one eighth of the percentage of syrian women who\n",
            "are employers syria has of course only one eighth the population of bangladesh in majority muslim\n",
            "countries very few women and a small percentage of women who do work are employers limited economic\n",
            "opportunities such high rates of self employment and low rates of females as employers suggest that\n",
            "the economies of muslim nations provide few formal opportunities for females to work in the private\n",
            "sector furthermore it suggests that even fewer women have the ability to advance within their\n",
            "organization when they do earn work with an established business high rates of self employment can\n",
            "be indicative of a gender biased economic system but it can also simply indicate a poorly developed\n",
            "system the wide gap between male and female labor force participation rates and ratios and the gap\n",
            "between male and female employers is indicative of gender inequality within the private sector of\n",
            "majority muslim countries however numerous reasons may account for these outcomes such as weak\n",
            "education infrastructure for women low levels of economic development or simply capital intensive\n",
            "resource development the latter characteristic is probably given how many majority muslim nations\n",
            "are net oil exporters table 4 percentage of female laborers as employer source international labour\n",
            "organization female unemployment unemployment rates among women in majority muslim countries are\n",
            "high when aggregated by region north africa the middle east and southeast asia the three regions\n",
            "with the most and highest density of muslims in the world have the highest rates of female\n",
            "unemployment in the world in north africa 17 of females are unemployed and 16 of women in the middle\n",
            "east are unemployed in both these regions male unemployment was only 10 only sub saharan africa had\n",
            "a male unemployment rate as high as 10 seven percent of women are unemployed in southeast asia as\n",
            "compared to 6 of men south asia which contains a few majority muslim nations such as bangladesh has\n",
            "a higher female unemployment rate 6 than a male unemployment rate which is 5 however non muslim\n",
            "regions of the world also demonstrate xxxunk employment figures in latin america and the caribbean\n",
            "the female unemployment rate was 11 in 2006 while the male unemployment rate was only 7 in the\n",
            "european union and other developed countries such as the united states female unemployment is higher\n",
            "than male unemployment in 2006 seven percent of women in the developed world were unemployed as\n",
            "compared to 6 of men both rates have increased dramatically since the great recession but more women\n",
            "are still unemployed than men in these countries data demonstrates that a greater proportion of\n",
            "women are unemployed relative to men in majority muslim countries but that trend is true of several\n",
            "non muslim majority regions as well structural unemployment in muslim countries seems to be high for\n",
            "women and economic opportunities are limited possible explanations for this phenomenon could the\n",
            "same determinants of high self employment among females and low rates of female employers low levels\n",
            "of economic development gendered employment social norms or capital intensive industry this last\n",
            "explanation may be particularly salient in the oil rich muslim nations because petroleum exports are\n",
            "capital intensive and require very high skilled labor which most muslim women are incapable of\n",
            "providing given low levels of education the great recession has increased unemployment across the\n",
            "board in many muslim nations and female workers were not left unaffected according to the world bank\n",
            "in 2009 22 9 of women were unemployed in egypt in syria in 2010 22 5 of women were unemployed this\n",
            "figure has probably increased significantly due to the syrian civil war indonesia pakistan and\n",
            "bangladesh all had female unemployment levels below 10 which is similar to female unemployment rates\n",
            "in many developed countries such as the united states saudi arabia tunisia and iran all have female\n",
            "unemployment rates ranging from 15 to 17 female unemployment in iran may be exacerbated by the\n",
            "collateral effects us un and european sanctions to what extent this is true is uncertain table 5\n",
            "unemployment rate source world bank turkey has a moderate level of female unemployment relative to\n",
            "other muslim countries in 2008 11 6 of women were unemployed by 2010 this number xxxunk up to 13 0\n",
            "however long term employment is a significant portion of female unemployment in 2010 according to\n",
            "world bank statistics 37 of all unemployed women were long run unemployed workers or workers who\n",
            "have been out of work for more than one year very little data exists on the long term unemployment\n",
            "rates of women for most nations and for middle eastern nations in particular occupations\n",
            "opportunities and wages female employment by economic sector in many economies women are\n",
            "traditionally xxxunk into specific occupations or employment fields a similar trend is also present\n",
            "in the economies of many majority muslim nation's economies as well the international labour\n",
            "organization the world bank and the un divide a national economy into three broad categories\n",
            "agriculture industry and services agriculture is any work which relates to the primary development\n",
            "of resources for nutritious consumption according to the un whose definitions the ilo world bank and\n",
            "other data collection bases use agricultural work includes forestry hunting and fishing in addition\n",
            "to land cultivation industrial employment is involvement in the manufacturing of products from raw\n",
            "materials or work for the purpose of extracting raw materials this includes mining xxxunk oil and\n",
            "gas production construction and public utilities services oriented labor revolves around the\n",
            "provision of xxxunk non durable goods and the fulfillment of tasks by an external source for the\n",
            "consumer this includes wholesale and retail trade and restaurants and hotels transport storage and\n",
            "communications financing insurance real estate and business services and community social and\n",
            "personal services most female laborers in muslim majority countries work in the agriculture sector\n",
            "but many also work in private service jobs few though some women are employed in industrial oriented\n",
            "labor table 6 female employment by sector source world bank in four of the eleven nations for which\n",
            "there is data the percentage of female workers who are in the agricultural sector as compared to the\n",
            "percentage of female workers in the services sector in turkey for example 42 of female workers are\n",
            "employed in the agricultural sector and 42 work in some form of services enterprise forty nine\n",
            "percent of female employees work in agriculture in egypt as compared to 46 of women who work in the\n",
            "services industry saudi arabia is the only nation in which women play a negligible role agriculture\n",
            "xxxunk nigerian and iranian women are more evenly distributed across the economic sectors iranian\n",
            "female workers are particularly evenly distributed across all three divisions with 3 of 10 women in\n",
            "agriculture 4 of 10 in services and just over one quarter in industry saudi arabian women on the\n",
            "other hand are entirely concentrated in the services industry agriculture employment in agriculture\n",
            "is lower paying and lower skilled than so called white xxxunk jobs agriculture is also incredibly\n",
            "labor intensive the combination of these characteristics may explain why so many women in majority\n",
            "muslim countries work in agriculture female workers generally have fewer skills than male workers in\n",
            "developing nations literacy rates and school enrollment rate of females are generally low and low\n",
            "relative to men in developing countries of which many majority countries are accordingly they are\n",
            "not hired for high skill work but they provide an abundant labor source for physical work such as\n",
            "agriculture however many majority muslim nations including egypt syria turkey iran and saudi arabia\n",
            "all of which have varying levels of female participation within their economies have more than 80 of\n",
            "their female citizens enrolled in secondary education nearly all of them are literate as well this\n",
            "data somewhat undermines the traditional economic explanation of the concentration of female labor\n",
            "in agriculture regardless of the underlying reason for high female participation in agriculture\n",
            "these workers earn a lower wage than their male counterparts both within this sector and relative to\n",
            "workers in other sectors this may be one reason for the wide wage gap in some majority muslim\n",
            "countries female workers in majority muslim nations are more concentrated in agricultural work than\n",
            "their counterparts in non majority muslim nations as well for nations where data is available turkey\n",
            "syria pakistan iran indonesia and egypt had the highest percentage of female workers involved in\n",
            "agricultural labor than almost every other country in these nations anywhere from 20 49 of farm\n",
            "workers were female from 1995 to 2005 over this time period 50 69 of farm workers in turkey syria\n",
            "and pakistan were women only cambodia laos ethiopia uganda tanzania zambia and madagascar had higher\n",
            "percentages of female agricultural workers services and industry the services sector also employs a\n",
            "significant percentage of females and possibly for similar reasons service jobs such as culinary\n",
            "arts retail and administrative work similar to agriculture is low skill low paying labor intensive\n",
            "work many bodies are needed to complete generally basic routine tasks accordingly they are more\n",
            "suited to women in developing countries as higher paying jobs may require a specificity of skills\n",
            "beyond those of the general female xxxunk and in countries with gender biases while the percentage\n",
            "of women working low skill agriculture and services work is compatible with the notion that women\n",
            "face limited economic opportunities in muslim nations data from the ilo does not support or refute\n",
            "that conclusion industrial work attracts few women which may be accounted for the physical nature of\n",
            "much industrial work furthermore if women in majority muslim countries are xxxunk into agriculture\n",
            "and service oriented work due to a weak skill set then it follows that they would not be hired for\n",
            "industrial work as some of it such as smelting requires specific vocational skills executive\n",
            "positions the glass ceiling is one prevalent concern about the quality of economic opportunity\n",
            "available to women involved in the formal labor market this phenomenon is the de facto limitation of\n",
            "xxxunk ability to achieve the top levels of leadership in an organization while the concept is not\n",
            "restricted to the market it is prevalent in profit based institutions with respect to female workers\n",
            "in majority muslim countries women are not evenly represented on the board of directors or among the\n",
            "senior management positions of most of the 100 most lucrative companies in the arab world in egypt\n",
            "for example there is only one female senior executive among its five largest commercial enterprises\n",
            "xxxunk telecom holding company which is the xxxunk largest company in the muslim world nations whose\n",
            "populations are predominantly islamic has one female member of its board of directors this woman\n",
            "xxxunk xxxunk however is neither egyptian nor muslim which does not suggest opportunity for female\n",
            "advancement xxxunk other largest firms by revenue egyptian general petroleum corporation suez canal\n",
            "authority xxxunk construction industries and xxxunk egypt do not have a single female member of\n",
            "their board of directors or among their senior management teams no women occupy the top leadership\n",
            "positions in the most profitable iranian businesses either iran's three largest companies national\n",
            "iranian oil company the second largest in the muslim world iran xxxunk and national petrochemical\n",
            "company also do not have any women in senior leadership positions this is not surprising as the 2006\n",
            "iranian census showed that only 4 of women are in senior executive or management positions critics\n",
            "of iran's radical xxxunk xxxunk government may attribute this evidence of limited female economic\n",
            "mobility as a critique of the government's ideology however in turkey which is a secular state\n",
            "governed by a moderate islamic party women comprised only 8 of managers in the labor force in 2007\n",
            "regardless of the official status of islam or the ideology of the ruling party there exists some\n",
            "evidence of a glass ceiling for women in the private sector eleven of the muslim world's largest\n",
            "businesses are located in indonesia these firms include automotive giant xxxunk international bank\n",
            "xxxunk indonesia and electric service provider xxxunk xxxunk xxxunk of these eleven firms seven of\n",
            "them have at least one female member of the board of directors or a female in a senior executive\n",
            "management position however only xxxunk xxxunk a massive cigarette manufacturer and xxxunk the\n",
            "largest company in indonesia have 2 female members on the board of commissioners xxxunk is owned and\n",
            "operated by japanese not indonesian executives however and none of its female leaders are muslim or\n",
            "indonesian claims of gender inequality in the muslim world majority muslim countries have been\n",
            "criticized for implementing policies which perpetuate gender inequality limits on the economic\n",
            "rights of women under the rule of law are present in several muslim nations in saudi arabia for\n",
            "example women are allowed to work but their formal employment cannot interfere with her duties as a\n",
            "xxxunk saudi female workers must also travel with male companions and they cannot work unless their\n",
            "husbands or guardians approve claims that islam promotes gender inequality sociologists helen xxxunk\n",
            "xxxunk xxxunk xxxunk xxxunk and katherine meyer explored cultural attitudes in majority muslim\n",
            "countries subdivided by arab and non arab the arab states studied were egypt saudi arabia algeria\n",
            "morocco and jordan while the non arab nations were turkey bangladesh pakistan nigeria and indonesia\n",
            "to be arab nations states had to be members of the arab league and recognize arabic as the official\n",
            "language of these states xxxunk et al found that the arab states were significantly less pro gender\n",
            "equality and opportunity for women than the non arab states despite their shared islamic faith\n",
            "however neither group of countries was pro gender equality in the sense that policies aimed at equal\n",
            "rights between the sexes are popular in arab countries 82 of survey respondents believe that a man\n",
            "has more right to a job than a woman while 63 of respondents from the non arab countries felt the\n",
            "same way these researchers attributed these attitudes to the strong religious identity and adherence\n",
            "of respondents thus xxxunk islam in promoting gender inequality in majority muslim nations xxxunk\n",
            "that islam promotes gender inequality academic literature is mixed on this subject however some\n",
            "scholars do not believe that gender inequality in majority muslim states is a product of islam\n",
            "feminist sociologist xxxunk xxxunk has written extensively on gender inequality including employment\n",
            "inequality in the muslim world according to xxxunk women are victims of clear political economic and\n",
            "social disparities in many islamic countries which create gender distinctions within the public and\n",
            "private spheres this inhibits the ability of women to participate in the government or to advance in\n",
            "the private sector xxxunk specifically points to low female labor force participation across the\n",
            "board in muslim states as a sign of gender inequality as do other scholars xxxunk 1978 xxxunk 1985\n",
            "however she does not believe that islam is the root cause of gender inequality in the muslim world\n",
            "because it is implemented differently in different countries the status of women in the muslim world\n",
            "is varied and numerous other factors state ideology economic development urbanization etc affect\n",
            "gender equality she points at that certain views which are considered by critics of islam to be\n",
            "indicative of a gender biased theology are present in other religions viewing women as mothers and\n",
            "daughters first and foremost for example is also a common belief among orthodox jews according to\n",
            "xxxunk many cultures divide occupations along gender lines such as teaching and education\n",
            "administration or nursing and doctors why are muslim nations xxxunk out for holding similar gender\n",
            "biases as non muslim nations asks xxxunk she does state however that the presence of xxxunk islamic\n",
            "voices in influential positions in states such as iran afghanistan and pakistan has helped\n",
            "perpetuate institutionalized gender disparities iran in particular provides little economic\n",
            "opportunity for women which has resulted in limited participation in the formal economy in 1986 for\n",
            "example 11 million women were not counted in the labor force because the iranian regime deemed them\n",
            "to be xxxunk many women particularly agricultural workers do not receive wages frequently which\n",
            "xxxunk them as economic actors claims that radical islam promotes gender inequality xxxunk xxxunk\n",
            "xxxunk takes a middle path on the question of islam and gender equality as do many other theorists\n",
            "xxxunk is a visiting school at new york university law school xxxunk argues that the faith of\n",
            "islamic and general principles promote gender equality according to xxxunk xxxunk islamic regimes\n",
            "which xxxunk xxxunk with democracy such as iran or afghanistan under the xxxunk create a tension\n",
            "which reinforces xxxunk xxxunk thinking this in turn leads to the repression of women she argues\n",
            "that it is not that majority muslim nations are intrinsically xxxunk to gender inequality it is that\n",
            "ultra conservative regimes are this is also occurring in iraq under prime minister xxxunk al xxxunk\n",
            "xxxunk points to islamic feminism as proof of xxxunk inherent compatibility with gender equality and\n",
            "a sign that muslim states will progress toward gender equality while remaining islamic in character\n",
            "a patriarchal interpretation of islam must be defeated not islam itself argues xxxunk gender\n",
            "equality and the formal labor market estimated earned income gender equality in the workplace is a\n",
            "major concern of many social activists public officials and academics among others even in developed\n",
            "countries and wealthy democracies such as the united states there is concern of gender inequities in\n",
            "economic mobility for women american president barack obama's xxxunk xxxunk fair pay act was passed\n",
            "in response to concerns among americans that women were receiving lower wages for equal work wages\n",
            "and wage equality with men are two common indicators of gender equality and opportunity within a\n",
            "formal market higher aggregate wages indicate that females are holding more productive valued jobs\n",
            "which is considered indicative of social progress equal pay with men demonstrates a neutrality to\n",
            "gender within the workplace and may suggest functional fairness between female workers and their\n",
            "male counterparts given these two indicators wage statistics suggest that gender equality in terms\n",
            "of economic participation and the quality of formal economic opportunities are not high in many\n",
            "predominantly muslim nations in 2011 the world economic forum gathered information about the\n",
            "estimated earned income of women in 135 countries of these countries syria placed xxxunk in terms of\n",
            "earned annual income for women egypt finished xxxunk iran was xxxunk pakistan was xxxunk and saudi\n",
            "arabia was xxxunk even countries such as bangladesh indonesia and turkey which have substantially\n",
            "larger and higher status female participation in their economies placed xxxunk xxxunk and xxxunk\n",
            "respectively in terms of earned annual income for female laborers several poorer and more volatile\n",
            "states in sub saharan africa xxxunk these nations the estimated annual income of these women were in\n",
            "terms of u s xxxunk purchasing power parity quite low and only a fraction of their male xxxunk wages\n",
            "turkey and saudi arabia award women the highest annual incomes when adjusted for purchasing power\n",
            "parity in terms of u s dollars female workers in turkey are estimated by the world economic forum to\n",
            "earn 7 xxxunk while saudi female workers earn 6 xxxunk women in pakistan don't even earn 1 000 for a\n",
            "year's worth of labor xxxunk egyptian syrian indonesian nigerian and bangladeshi women earn less far\n",
            "less for some countries syria bangladesh nigeria than 3 000 annually the median annual income for\n",
            "female workers in the united states was 36 xxxunk in 2010 women in these countries earn very low\n",
            "wages when compared to men from the same country out of 11 of the most populated and economically\n",
            "significant muslim majority nations saudi arabia egypt iran iraq turkey syria tunisia nigeria\n",
            "indonesia pakistan and bangladesh only two nations bangladesh and nigeria have a gender wage gap\n",
            "below 50 in nigeria women earn 57 cents to the dollar of a man according to the world economic\n",
            "xxxunk gender gap report 2012 women in bangladesh earn 52 of their males xxxunk wage in syria women\n",
            "only earn 15 of a man's wage these large disparities in income size and relative size to men in\n",
            "addition to low overall labor involvement few salaried positions and high levels of unemployment\n",
            "suggest that these nations' economies perpetuate significant gender disparities however low wages\n",
            "and large wage gaps can be explained by the different types of work men and women perform in these\n",
            "countries if women are hired for mostly low skill low wage work which is less productive and less\n",
            "elastic in demand than the work of most men then their wages should be low and be significantly\n",
            "smaller than men's wages furthermore a large supply of female labor for the few jobs women do work\n",
            "in these various economies may be xxxunk wages wage gap low wages in absolute terms and low wages\n",
            "relative to men's wages in the aggregate however do not provide a full picture of gender economic\n",
            "equity the ratio of income for women to men for equal work is another significant financial\n",
            "indicator of economic gender equality using this metric these countries collectively are moderately\n",
            "equal relative to the majority of the world the world economic xxxunk 2012 gender report found that\n",
            "women in iran turkey indonesia and saudi arabia all received approximately 60 of the wages of a male\n",
            "for the same work respectively these nations were ranked xxxunk xxxunk xxxunk and xxxunk in the\n",
            "world out of 135 while not xxxunk equal these nations were not too far behind the median nation\n",
            "egypt however is the most gender equal country in terms of equal pay the world economic forum found\n",
            "that egyptian women receive 82 of the income of their true male counterparts not of men in general\n",
            "no other nation's women earn as high an income percentage as that world economic forum economic\n",
            "participation and opportunity xxxunk xxxunk gender gap index an additional measurement of gender\n",
            "inequality is the world economic forum global gender gap index which it measures for 135 countries\n",
            "each year and publishes its results in its gender gap report its statistic is known as the global\n",
            "gender gap index the index measures gender disparities in economic political health and educational\n",
            "spheres and uses corresponding criteria the xxxunk utilizes four sub indices to measure these four\n",
            "spheres of inequality and to create a composite metric of gender inequality the four sub indices are\n",
            "economic participation and opportunity educational attainment health and survival and political\n",
            "empowerment the economic participation and opportunity xxxunk is captured through three concepts the\n",
            "participation gap the remuneration gap and the advancement gap the participation gap is captured\n",
            "using the difference in labour force participation rates the remuneration gap is captured through a\n",
            "hard data indicator ratio of estimated female to male earned income and a qualitative variable\n",
            "calculated through the world economic xxxunk executive opinion survey wage equality for similar work\n",
            "finally the gap between the advancement of women and men is captured through two hard data\n",
            "statistics the ratio of women to men among legislators senior officials and managers and the ratio\n",
            "of women to men among technical and professional workers the index is measured on a scale of 0 to 1\n",
            "with 1 indicating a perfectly equal level of participation in the labor market between men and women\n",
            "and equal economic opportunities and o indicating complete inequality of the 135 nations analyzed\n",
            "pakistan 134 syria 132 and saudi arabia 131 are in the bottom five countries for female labor force\n",
            "participation and for the provision of labor opportunities for women table 7 economic participation\n",
            "and opportunity source global gender report 2012 world economic forum the xxxunk is a comprehensive\n",
            "index relative to other measures of gender inequality such as the gender inequality index produced\n",
            "by the united nations one serious critique of the index however is that the measurement of a\n",
            "country's gender equality is too dependent on income while the ratio of income between men and women\n",
            "is taken into account over reliance on financial data may benefit more developed countries by virtue\n",
            "of having larger economies which can accommodate higher wages the multiple xxxunk of the index\n",
            "however aim to condition the final measurement of economic participation and opportunity with\n",
            "emphasis on the ratio of wages job advancement and other metrics of females to males this\n",
            "methodology xxxunk gender inequality by analyzing the gap between males and females instead of\n",
            "absolute measurements un gender inequality index the most frequently cited indicator of gender\n",
            "inequality is the united nation's gender inequality index or xxxunk it was adopted in 2010 because\n",
            "the gender development index did not measure gender inequality directly it measured female\n",
            "development the gender empowerment measurement was replaced as well due to its xxxunk of income as a\n",
            "consequence of this methodological construction the xxxunk over estimated gender inequality in poor\n",
            "countries consequently the xxxunk was adopted to address these flaws and to be a true measure of\n",
            "inequality and not a proxy indicator income is not a component of the xxxunk and the three\n",
            "categories are weighed equally to present a balance assessment of gender equality the xxxunk covers\n",
            "three broad categories of female disadvantage reproductive health empowerment and labor market\n",
            "status the purpose of the index is to demonstrate the loss of human development due to inequalities\n",
            "between men and women the three categories are measured with the following metrics reproductive\n",
            "health is measured by the maternal mortality rate and the adolescent fertility rate empowerment is\n",
            "indicated by the share of parliamentary seats held by each sex and secondary and higher education\n",
            "levels of each sex finally the labor market aspect of the xxxunk is measured by women's\n",
            "participation rate in the workforce mathematically it is the approximated loss of human development\n",
            "to women due to inequality xxxunk and xxxunk the xxxunk is based on and in some sense a xxxunk of\n",
            "the human development index scores for nations are on a scale of 0 to 1 where 0 is pure gender\n",
            "equality and 1 is pure gender inequality xxxunk is measured in a similar manner as the inequality\n",
            "adjusted human development index according to the un xxxunk is based on a distribution sensitive\n",
            "class of composite indices proposed by foster lopez xxxunk and xxxunk 2005 which draws on the\n",
            "atkinson 1970 family of inequality measures it is computed as the geometric mean of dimension\n",
            "indices adjusted for inequality the inequality in each dimension is estimated by the atkinson\n",
            "inequality measure which is based on the assumption that a society has a certain level of aversion\n",
            "to inequality table 8 united nations gender inequality index source united nations the median xxxunk\n",
            "score for the global community is 0 xxxunk when divided by regions the arab states have the third\n",
            "worst xxxunk score of 0 xxxunk this score is only superior to the scores of sub saharan africa 0\n",
            "xxxunk and south asia 0 xxxunk while not all encompassing and inclusive of other religious and\n",
            "cultural groups these three regions particularly the arab states and south asia are inhabited by\n",
            "large muslim populations afghanistan pakistan iran iraq turkey syria saudi arabia egypt indonesia\n",
            "and bangladesh all have xxxunk scores above the median only xxxunk score 0 xxxunk is below the\n",
            "median however it is significantly below the median gender inequality however is not increasing or\n",
            "decreasing in a xxxunk fashion among these predominantly muslim states in afghanistan for example\n",
            "gender inequality as measured by the index improved by 2 from 2005 to 2008 but then declined by 2\n",
            "from 2008 to 2011 in iraq the xxxunk score jumped by 9 from 2005 to 2008 but then xxxunk off in 2011\n",
            "turkey indonesia tunisia and pakistan have seen consistent improves to gender equality since 2005\n",
            "due to the broad general nature of the indicators the minimal and narrow data used to compile the\n",
            "three categories which compose the indicator and xxxunk political and socio economic issues which\n",
            "may increase or decrease gender inequality nothing definitive can be said about the level of gender\n",
            "inequality or its growth trend in many predominantly muslim nations see also women in islam islamic\n",
            "economics in the world sources\n",
            "\n"
          ],
          "name": "stdout"
        }
      ]
    },
    {
      "cell_type": "code",
      "metadata": {
        "id": "TKIf5FE-cL27",
        "colab_type": "code",
        "colab": {}
      },
      "source": [
        ""
      ],
      "execution_count": 0,
      "outputs": []
    },
    {
      "cell_type": "markdown",
      "metadata": {
        "id": "K7d8FZq9fb-h",
        "colab_type": "text"
      },
      "source": [
        "## Save the model"
      ]
    },
    {
      "cell_type": "code",
      "metadata": {
        "id": "9KHRZzFafeT7",
        "colab_type": "code",
        "colab": {}
      },
      "source": [
        "\n",
        "\n",
        "model_file = dataset_path+dataset_name+model_name+'.h5'\n",
        "model.save(model_file)"
      ],
      "execution_count": 0,
      "outputs": []
    },
    {
      "cell_type": "code",
      "metadata": {
        "id": "YhLAA2R1h45b",
        "colab_type": "code",
        "colab": {
          "base_uri": "https://localhost:8080/",
          "height": 33
        },
        "outputId": "1dd118b5-b8f7-49bb-ea9f-9d060fec1fda"
      },
      "source": [
        "dataset_path"
      ],
      "execution_count": 44,
      "outputs": [
        {
          "output_type": "execute_result",
          "data": {
            "text/plain": [
              "'/content/drive/My Drive/AIML/Projects/DSS-NLP-challenge/dataset/wiki/'"
            ]
          },
          "metadata": {
            "tags": []
          },
          "execution_count": 44
        }
      ]
    },
    {
      "cell_type": "markdown",
      "metadata": {
        "colab_type": "text",
        "id": "r_4fmBgkKM9X"
      },
      "source": [
        "### MaxPooling (local) + Flattening + Shrink to 2 dim"
      ]
    },
    {
      "cell_type": "code",
      "metadata": {
        "id": "R937CVQGMO2B",
        "colab_type": "code",
        "colab": {
          "base_uri": "https://localhost:8080/",
          "height": 1000
        },
        "outputId": "c019c762-a46b-490f-84d5-03416fabca9b"
      },
      "source": [
        "\n",
        "# this is our input layer\n",
        "input_txt = tf.keras.layers.Input(shape=(X_train_p.shape[1],))\n",
        "\n",
        "# \"encoded\" is the encoded representation of the input\n",
        "encoded = tf.keras.layers.Embedding(input_dim=number_of_words, output_dim=128)(input_txt)\n",
        "encoded = tf.keras.layers.MaxPooling1D(pool_size=8)(encoded)\n",
        "encoded = tf.keras.layers.Flatten()(encoded)\n",
        "encoded = tf.keras.layers.BatchNormalization()(encoded)\n",
        "encoded = tf.keras.layers.Dense(64, activation='relu')(encoded)\n",
        "#encoded = tf.keras.layers.BatchNormalization()(encoded)\n",
        "encoded = tf.keras.layers.Dense(3, activation='relu')(encoded)\n",
        "\n",
        "output = tf.keras.layers.Dense(units=len(ylabels), activation='softmax')(encoded)\n",
        "\n",
        "# this model maps an input to its reconstruction\n",
        "model = tf.keras.models.Model(input_txt, output)\n",
        "\n",
        "model.summary()\n",
        "\n",
        "\n",
        "# this model maps an input to its encoded representation\n",
        "#encoder = tf.keras.models.Model(input_img, encoded)\n",
        "\n",
        "# create a input layer for an encoded (32-dimensional) input to be used by decoder\n",
        "#encoded_input = tf.keras.layers.Input(shape=(encoding_dim,))\n",
        "\n",
        "# retrieve the last layer of the autoencoder model\n",
        "#decoder_layer = autoencoder.layers[-1]\n",
        "\n",
        "# create the decoder model\n",
        "#decoder = tf.keras.models.Model(encoded_input, decoder_layer(encoded_input))\n",
        "\n",
        "\n",
        "model.compile(optimizer='adam', loss='sparse_categorical_crossentropy', metrics=['sparse_categorical_accuracy'])\n",
        "\n",
        "history = model.fit(X_train_p, y_train, epochs=20, batch_size=128,validation_split=0.1)\n",
        "plot_history(history)\n",
        "test_loss, test_acurracy = model.evaluate(X_test_p, y_test)\n",
        "print(\"Test accuracy: {}\".format(test_acurracy))\n"
      ],
      "execution_count": 63,
      "outputs": [
        {
          "output_type": "stream",
          "text": [
            "Model: \"model_8\"\n",
            "_________________________________________________________________\n",
            "Layer (type)                 Output Shape              Param #   \n",
            "=================================================================\n",
            "input_11 (InputLayer)        [(None, 500)]             0         \n",
            "_________________________________________________________________\n",
            "embedding_19 (Embedding)     (None, 500, 128)          27245056  \n",
            "_________________________________________________________________\n",
            "max_pooling1d_13 (MaxPooling (None, 62, 128)           0         \n",
            "_________________________________________________________________\n",
            "flatten_12 (Flatten)         (None, 7936)              0         \n",
            "_________________________________________________________________\n",
            "dense_29 (Dense)             (None, 64)                507968    \n",
            "_________________________________________________________________\n",
            "dense_30 (Dense)             (None, 3)                 195       \n",
            "_________________________________________________________________\n",
            "dense_31 (Dense)             (None, 6)                 24        \n",
            "=================================================================\n",
            "Total params: 27,753,243\n",
            "Trainable params: 27,753,243\n",
            "Non-trainable params: 0\n",
            "_________________________________________________________________\n",
            "Train on 6463 samples, validate on 719 samples\n",
            "Epoch 1/20\n",
            "6463/6463 [==============================] - 1s 202us/sample - loss: 1.7849 - sparse_categorical_accuracy: 0.2033 - val_loss: 1.7859 - val_sparse_categorical_accuracy: 0.2128\n",
            "Epoch 2/20\n",
            "6463/6463 [==============================] - 1s 163us/sample - loss: 1.7390 - sparse_categorical_accuracy: 0.2476 - val_loss: 1.6336 - val_sparse_categorical_accuracy: 0.3686\n",
            "Epoch 3/20\n",
            "6463/6463 [==============================] - 1s 162us/sample - loss: 1.4581 - sparse_categorical_accuracy: 0.3488 - val_loss: 1.3523 - val_sparse_categorical_accuracy: 0.3658\n",
            "Epoch 4/20\n",
            "6463/6463 [==============================] - 1s 163us/sample - loss: 1.2201 - sparse_categorical_accuracy: 0.4142 - val_loss: 1.2607 - val_sparse_categorical_accuracy: 0.4312\n",
            "Epoch 5/20\n",
            "6463/6463 [==============================] - 1s 164us/sample - loss: 1.0594 - sparse_categorical_accuracy: 0.5711 - val_loss: 1.1873 - val_sparse_categorical_accuracy: 0.5730\n",
            "Epoch 6/20\n",
            "6463/6463 [==============================] - 1s 163us/sample - loss: 0.8661 - sparse_categorical_accuracy: 0.7531 - val_loss: 1.1717 - val_sparse_categorical_accuracy: 0.5869\n",
            "Epoch 7/20\n",
            "6463/6463 [==============================] - 1s 162us/sample - loss: 0.6916 - sparse_categorical_accuracy: 0.8173 - val_loss: 1.2375 - val_sparse_categorical_accuracy: 0.6064\n",
            "Epoch 8/20\n",
            "6463/6463 [==============================] - 1s 163us/sample - loss: 0.5935 - sparse_categorical_accuracy: 0.8112 - val_loss: 1.3228 - val_sparse_categorical_accuracy: 0.6147\n",
            "Epoch 9/20\n",
            "6463/6463 [==============================] - 1s 162us/sample - loss: 0.5410 - sparse_categorical_accuracy: 0.7961 - val_loss: 1.3421 - val_sparse_categorical_accuracy: 0.6273\n",
            "Epoch 10/20\n",
            "6463/6463 [==============================] - 1s 162us/sample - loss: 0.4976 - sparse_categorical_accuracy: 0.7985 - val_loss: 1.4576 - val_sparse_categorical_accuracy: 0.6259\n",
            "Epoch 11/20\n",
            "6463/6463 [==============================] - 1s 162us/sample - loss: 0.4573 - sparse_categorical_accuracy: 0.8716 - val_loss: 1.5556 - val_sparse_categorical_accuracy: 0.6537\n",
            "Epoch 12/20\n",
            "6463/6463 [==============================] - 1s 162us/sample - loss: 0.4145 - sparse_categorical_accuracy: 0.9263 - val_loss: 1.6500 - val_sparse_categorical_accuracy: 0.6565\n",
            "Epoch 13/20\n",
            "6463/6463 [==============================] - 1s 162us/sample - loss: 0.3798 - sparse_categorical_accuracy: 0.9477 - val_loss: 1.7320 - val_sparse_categorical_accuracy: 0.6467\n",
            "Epoch 14/20\n",
            "6463/6463 [==============================] - 1s 162us/sample - loss: 0.3605 - sparse_categorical_accuracy: 0.9551 - val_loss: 1.7679 - val_sparse_categorical_accuracy: 0.6592\n",
            "Epoch 15/20\n",
            "6463/6463 [==============================] - 1s 163us/sample - loss: 0.3426 - sparse_categorical_accuracy: 0.9581 - val_loss: 1.9075 - val_sparse_categorical_accuracy: 0.6481\n",
            "Epoch 16/20\n",
            "6463/6463 [==============================] - 1s 163us/sample - loss: 0.3334 - sparse_categorical_accuracy: 0.9604 - val_loss: 1.9991 - val_sparse_categorical_accuracy: 0.6509\n",
            "Epoch 17/20\n",
            "6463/6463 [==============================] - 1s 164us/sample - loss: 0.3142 - sparse_categorical_accuracy: 0.9605 - val_loss: 2.0482 - val_sparse_categorical_accuracy: 0.6579\n",
            "Epoch 18/20\n",
            "6463/6463 [==============================] - 1s 163us/sample - loss: 0.2998 - sparse_categorical_accuracy: 0.9613 - val_loss: 2.2380 - val_sparse_categorical_accuracy: 0.6426\n",
            "Epoch 19/20\n",
            "6463/6463 [==============================] - 1s 163us/sample - loss: 0.2938 - sparse_categorical_accuracy: 0.9622 - val_loss: 2.2080 - val_sparse_categorical_accuracy: 0.6537\n",
            "Epoch 20/20\n",
            "6463/6463 [==============================] - 1s 162us/sample - loss: 0.2912 - sparse_categorical_accuracy: 0.9610 - val_loss: 2.1461 - val_sparse_categorical_accuracy: 0.6648\n"
          ],
          "name": "stdout"
        },
        {
          "output_type": "display_data",
          "data": {
            "image/png": "[encoded data removed]",
            "text/plain": [
              "<Figure size 432x288 with 1 Axes>"
            ]
          },
          "metadata": {
            "tags": []
          }
        },
        {
          "output_type": "display_data",
          "data": {
            "image/png": "[encoded data removed]",
            "text/plain": [
              "<Figure size 432x288 with 1 Axes>"
            ]
          },
          "metadata": {
            "tags": []
          }
        },
        {
          "output_type": "stream",
          "text": [
            "1795/1795 [==============================] - 0s 70us/sample - loss: 2.0894 - sparse_categorical_accuracy: 0.6357\n",
            "Test accuracy: 0.6356545686721802\n"
          ],
          "name": "stdout"
        }
      ]
    },
    {
      "cell_type": "code",
      "metadata": {
        "id": "mo0xw1SFKUuB",
        "colab_type": "code",
        "colab": {}
      },
      "source": [
        "# Optimizers https://www.tensorflow.org/api_docs/python/tf/keras/optimizers\n",
        "adam = tf.keras.optimizers.Adam(lr=0.001, beta_1=0.9, beta_2=0.999, epsilon=None, decay=0.0, amsgrad=False)\n",
        "sgd = tf.keras.optimizers.SGD(lr=0.001, momentum=0.0, decay=0.0, nesterov=False)\n",
        "adad = tf.keras.optimizers.Adadelta(lr=1.0,rho=0.95,epsilon=None,decay=0.0)\n",
        "adag = tf.keras.optimizers.Adagrad(lr=0.01,epsilon=None,decay=0.0)\n",
        "adamax = tf.keras.optimizers.Adamax(lr=0.002,beta_1=0.9,beta_2=0.999,epsilon=None,decay=0.0)\n",
        "nadam = tf.keras.optimizers.Nadam(lr=0.002,beta_1=0.9,beta_2=0.999,epsilon=None,schedule_decay=0.004)\n",
        "rms = tf.keras.optimizers.RMSprop(lr=0.001,rho=0.9,epsilon=None,decay=0.0)\n",
        "\n",
        "# Losses https://keras.io/losses/\n",
        "loss = ['sparse_categorical_crossentropy','binary_crossentropy','mean_squared_error','mean_absolute_error',\n",
        "        'categorical_crossentropy','categorical_hinge']\n",
        "\n",
        "# Metrics  https://www.tensorflow.org/api_docs/python/tf/metrics\n",
        "metrics = ['accuracy','precision','recall']\n"
      ],
      "execution_count": 0,
      "outputs": []
    },
    {
      "cell_type": "code",
      "metadata": {
        "id": "W63k9MvwKWnz",
        "colab_type": "code",
        "colab": {
          "base_uri": "https://localhost:8080/",
          "height": 1000
        },
        "outputId": "4944ad08-5215-49ed-9eea-e8091853d15e"
      },
      "source": [
        "\n",
        "# this is our input layer\n",
        "input_txt = tf.keras.layers.Input(shape=(X_train_p.shape[1],))\n",
        "\n",
        "# \"encoded\" is the encoded representation of the input\n",
        "encoded = tf.keras.layers.Embedding(input_dim=number_of_words, output_dim=128)(input_txt)\n",
        "encoded = tf.keras.layers.LSTM(units=128, activation='tanh')(encoded)\n",
        "encoded = tf.keras.layers.Dense(3, activation='relu')(encoded)\n",
        "\n",
        "output = tf.keras.layers.Dense(units=len(ylabels), activation='softmax')(encoded)\n",
        "\n",
        "# this model maps an input to its reconstruction\n",
        "model = tf.keras.models.Model(input_txt, output)\n",
        "\n",
        "model.summary()\n",
        "\n",
        "\n",
        "# this model maps an input to its encoded representation\n",
        "#encoder = tf.keras.models.Model(input_img, encoded)\n",
        "\n",
        "# create a input layer for an encoded (32-dimensional) input to be used by decoder\n",
        "#encoded_input = tf.keras.layers.Input(shape=(encoding_dim,))\n",
        "\n",
        "# retrieve the last layer of the autoencoder model\n",
        "#decoder_layer = autoencoder.layers[-1]\n",
        "\n",
        "# create the decoder model\n",
        "#decoder = tf.keras.models.Model(encoded_input, decoder_layer(encoded_input))\n",
        "\n",
        "\n",
        "model.compile(optimizer='adam', loss='sparse_categorical_crossentropy', metrics=['sparse_categorical_accuracy'])\n",
        "\n",
        "history = model.fit(X_train_p, y_train, epochs=20, batch_size=128,validation_split=0.1)\n",
        "plot_history(history)\n",
        "test_loss, test_acurracy = model.evaluate(X_test_p, y_test)\n",
        "print(\"Test accuracy: {}\".format(test_acurracy))\n"
      ],
      "execution_count": 66,
      "outputs": [
        {
          "output_type": "stream",
          "text": [
            "W0802 22:03:11.003411 140416340780928 tf_logging.py:161] <tensorflow.python.keras.layers.recurrent.UnifiedLSTM object at 0x7fb2d8f15128>: Note that this layer is not optimized for performance. Please use tf.keras.layers.CuDNNLSTM for better performance on GPU.\n"
          ],
          "name": "stderr"
        },
        {
          "output_type": "stream",
          "text": [
            "Model: \"model_11\"\n",
            "_________________________________________________________________\n",
            "Layer (type)                 Output Shape              Param #   \n",
            "=================================================================\n",
            "input_14 (InputLayer)        [(None, 500)]             0         \n",
            "_________________________________________________________________\n",
            "embedding_22 (Embedding)     (None, 500, 128)          27245056  \n",
            "_________________________________________________________________\n",
            "unified_lstm_4 (UnifiedLSTM) (None, 128)               131584    \n",
            "_________________________________________________________________\n",
            "dense_37 (Dense)             (None, 3)                 387       \n",
            "_________________________________________________________________\n",
            "dense_38 (Dense)             (None, 6)                 24        \n",
            "=================================================================\n",
            "Total params: 27,377,051\n",
            "Trainable params: 27,377,051\n",
            "Non-trainable params: 0\n",
            "_________________________________________________________________\n",
            "Train on 6463 samples, validate on 719 samples\n",
            "Epoch 1/20\n",
            "6463/6463 [==============================] - 3s 487us/sample - loss: 1.7319 - sparse_categorical_accuracy: 0.2336 - val_loss: 1.5361 - val_sparse_categorical_accuracy: 0.2656\n",
            "Epoch 2/20\n",
            "6463/6463 [==============================] - 3s 422us/sample - loss: 1.4136 - sparse_categorical_accuracy: 0.3271 - val_loss: 1.4585 - val_sparse_categorical_accuracy: 0.3241\n",
            "Epoch 3/20\n",
            "6463/6463 [==============================] - 3s 423us/sample - loss: 1.2457 - sparse_categorical_accuracy: 0.3540 - val_loss: 1.4736 - val_sparse_categorical_accuracy: 0.3213\n",
            "Epoch 4/20\n",
            "6463/6463 [==============================] - 3s 425us/sample - loss: 1.1611 - sparse_categorical_accuracy: 0.3658 - val_loss: 1.5087 - val_sparse_categorical_accuracy: 0.3366\n",
            "Epoch 5/20\n",
            "6463/6463 [==============================] - 3s 426us/sample - loss: 1.0766 - sparse_categorical_accuracy: 0.3922 - val_loss: 1.6206 - val_sparse_categorical_accuracy: 0.3491\n",
            "Epoch 6/20\n",
            "6463/6463 [==============================] - 3s 424us/sample - loss: 1.0883 - sparse_categorical_accuracy: 0.4165 - val_loss: 1.5740 - val_sparse_categorical_accuracy: 0.3588\n",
            "Epoch 7/20\n",
            "6463/6463 [==============================] - 3s 425us/sample - loss: 1.0236 - sparse_categorical_accuracy: 0.4616 - val_loss: 1.7045 - val_sparse_categorical_accuracy: 0.3783\n",
            "Epoch 8/20\n",
            "6463/6463 [==============================] - 3s 424us/sample - loss: 0.9625 - sparse_categorical_accuracy: 0.4982 - val_loss: 1.7291 - val_sparse_categorical_accuracy: 0.4186\n",
            "Epoch 9/20\n",
            "6463/6463 [==============================] - 3s 426us/sample - loss: 0.9539 - sparse_categorical_accuracy: 0.5377 - val_loss: 1.7460 - val_sparse_categorical_accuracy: 0.3421\n",
            "Epoch 10/20\n",
            "6463/6463 [==============================] - 3s 425us/sample - loss: 0.9312 - sparse_categorical_accuracy: 0.5510 - val_loss: 1.6731 - val_sparse_categorical_accuracy: 0.4353\n",
            "Epoch 11/20\n",
            "6463/6463 [==============================] - 3s 426us/sample - loss: 0.9069 - sparse_categorical_accuracy: 0.6215 - val_loss: 1.7307 - val_sparse_categorical_accuracy: 0.3783\n",
            "Epoch 12/20\n",
            "6463/6463 [==============================] - 3s 429us/sample - loss: 0.9663 - sparse_categorical_accuracy: 0.5799 - val_loss: 1.7199 - val_sparse_categorical_accuracy: 0.4409\n",
            "Epoch 13/20\n",
            "6463/6463 [==============================] - 3s 427us/sample - loss: 0.7949 - sparse_categorical_accuracy: 0.7167 - val_loss: 1.9100 - val_sparse_categorical_accuracy: 0.4673\n",
            "Epoch 14/20\n",
            "6463/6463 [==============================] - 3s 428us/sample - loss: 0.6853 - sparse_categorical_accuracy: 0.7416 - val_loss: 1.8765 - val_sparse_categorical_accuracy: 0.4924\n",
            "Epoch 15/20\n",
            "6463/6463 [==============================] - 3s 426us/sample - loss: 0.6018 - sparse_categorical_accuracy: 0.7933 - val_loss: 1.9446 - val_sparse_categorical_accuracy: 0.5174\n",
            "Epoch 16/20\n",
            "6463/6463 [==============================] - 3s 426us/sample - loss: 0.5020 - sparse_categorical_accuracy: 0.8515 - val_loss: 2.0255 - val_sparse_categorical_accuracy: 0.5452\n",
            "Epoch 17/20\n",
            "6463/6463 [==============================] - 3s 428us/sample - loss: 0.4241 - sparse_categorical_accuracy: 0.8980 - val_loss: 2.1812 - val_sparse_categorical_accuracy: 0.5257\n",
            "Epoch 18/20\n",
            "6463/6463 [==============================] - 3s 428us/sample - loss: 0.3717 - sparse_categorical_accuracy: 0.9290 - val_loss: 2.2491 - val_sparse_categorical_accuracy: 0.5410\n",
            "Epoch 19/20\n",
            "6463/6463 [==============================] - 3s 428us/sample - loss: 0.3465 - sparse_categorical_accuracy: 0.9437 - val_loss: 2.4581 - val_sparse_categorical_accuracy: 0.5869\n",
            "Epoch 20/20\n",
            "6463/6463 [==============================] - 3s 428us/sample - loss: 0.3154 - sparse_categorical_accuracy: 0.9598 - val_loss: 2.3980 - val_sparse_categorical_accuracy: 0.5855\n"
          ],
          "name": "stdout"
        },
        {
          "output_type": "display_data",
          "data": {
            "image/png": "[encoded data removed]",
            "text/plain": [
              "<Figure size 432x288 with 1 Axes>"
            ]
          },
          "metadata": {
            "tags": []
          }
        },
        {
          "output_type": "display_data",
          "data": {
            "image/png": "[encoded data removed]",
            "text/plain": [
              "<Figure size 432x288 with 1 Axes>"
            ]
          },
          "metadata": {
            "tags": []
          }
        },
        {
          "output_type": "stream",
          "text": [
            "1795/1795 [==============================] - 1s 341us/sample - loss: 2.5995 - sparse_categorical_accuracy: 0.5671\n",
            "Test accuracy: 0.5671309232711792\n"
          ],
          "name": "stdout"
        }
      ]
    },
    {
      "cell_type": "code",
      "metadata": {
        "id": "6Q6nO7D5AjhG",
        "colab_type": "code",
        "colab": {
          "base_uri": "https://localhost:8080/",
          "height": 33
        },
        "outputId": "d84c7049-c0c7-4bae-fbf6-2390045fce55"
      },
      "source": [
        "len(X_train[0])"
      ],
      "execution_count": 48,
      "outputs": [
        {
          "output_type": "execute_result",
          "data": {
            "text/plain": [
              "1500"
            ]
          },
          "metadata": {
            "tags": []
          },
          "execution_count": 48
        }
      ]
    },
    {
      "cell_type": "code",
      "metadata": {
        "id": "0iWrKoGkAjxa",
        "colab_type": "code",
        "colab": {}
      },
      "source": [
        "#print(np.argmin(list(map(len,X_train))[:10]))\n",
        "#print(X_train[6])\n",
        "#print(X_train_p[6])"
      ],
      "execution_count": 0,
      "outputs": []
    },
    {
      "cell_type": "markdown",
      "metadata": {
        "id": "J_YvrwbEN5HU",
        "colab_type": "text"
      },
      "source": [
        "## Import word embedding"
      ]
    },
    {
      "cell_type": "code",
      "metadata": {
        "id": "ctQDiBlKAkDq",
        "colab_type": "code",
        "colab": {
          "base_uri": "https://localhost:8080/",
          "height": 33
        },
        "outputId": "7f775b7d-a412-4e8c-b9a6-ff191b1b52ab"
      },
      "source": [
        "import os\n",
        "glove_dir = '/content/drive/My Drive/AIML/Trainings/2019-07-22 Deep Learning UNIGE/LABs/Lab-2/glove.6B'\n",
        "\n",
        "embeddings_index = {}\n",
        "\n",
        "f = open(os.path.join(glove_dir, 'glove.6B.100d.txt'), encoding=\"utf8\") # for windows encoding \"utf8\" works; for linux/ios check\n",
        "\n",
        "# Parse the .txt file to build an index that maps words (as strings) to their vector representation (as number vectors).\n",
        "for line in f:\n",
        "    values = line.split()\n",
        "    word = values[0]\n",
        "    coefs = np.asarray(values[1:], dtype='float32')\n",
        "    embeddings_index[word] = coefs\n",
        "    \n",
        "f.close()\n",
        "print('Found %s word vectors.' % len(embeddings_index))"
      ],
      "execution_count": 29,
      "outputs": [
        {
          "output_type": "stream",
          "text": [
            "Found 400000 word vectors.\n"
          ],
          "name": "stdout"
        }
      ]
    },
    {
      "cell_type": "code",
      "metadata": {
        "id": "rsxTcCwGAuHl",
        "colab_type": "code",
        "colab": {
          "base_uri": "https://localhost:8080/",
          "height": 300
        },
        "outputId": "5656050f-6ed8-40c9-c45a-a7595ab40617"
      },
      "source": [
        "embeddings_index.get('the')"
      ],
      "execution_count": 30,
      "outputs": [
        {
          "output_type": "execute_result",
          "data": {
            "text/plain": [
              "array([-0.038194, -0.24487 ,  0.72812 , -0.39961 ,  0.083172,  0.043953,\n",
              "       -0.39141 ,  0.3344  , -0.57545 ,  0.087459,  0.28787 , -0.06731 ,\n",
              "        0.30906 , -0.26384 , -0.13231 , -0.20757 ,  0.33395 , -0.33848 ,\n",
              "       -0.31743 , -0.48336 ,  0.1464  , -0.37304 ,  0.34577 ,  0.052041,\n",
              "        0.44946 , -0.46971 ,  0.02628 , -0.54155 , -0.15518 , -0.14107 ,\n",
              "       -0.039722,  0.28277 ,  0.14393 ,  0.23464 , -0.31021 ,  0.086173,\n",
              "        0.20397 ,  0.52624 ,  0.17164 , -0.082378, -0.71787 , -0.41531 ,\n",
              "        0.20335 , -0.12763 ,  0.41367 ,  0.55187 ,  0.57908 , -0.33477 ,\n",
              "       -0.36559 , -0.54857 , -0.062892,  0.26584 ,  0.30205 ,  0.99775 ,\n",
              "       -0.80481 , -3.0243  ,  0.01254 , -0.36942 ,  2.2167  ,  0.72201 ,\n",
              "       -0.24978 ,  0.92136 ,  0.034514,  0.46745 ,  1.1079  , -0.19358 ,\n",
              "       -0.074575,  0.23353 , -0.052062, -0.22044 ,  0.057162, -0.15806 ,\n",
              "       -0.30798 , -0.41625 ,  0.37972 ,  0.15006 , -0.53212 , -0.2055  ,\n",
              "       -1.2526  ,  0.071624,  0.70565 ,  0.49744 , -0.42063 ,  0.26148 ,\n",
              "       -1.538   , -0.30223 , -0.073438, -0.28312 ,  0.37104 , -0.25217 ,\n",
              "        0.016215, -0.017099, -0.38984 ,  0.87424 , -0.72569 , -0.51058 ,\n",
              "       -0.52028 , -0.1459  ,  0.8278  ,  0.27062 ], dtype=float32)"
            ]
          },
          "metadata": {
            "tags": []
          },
          "execution_count": 30
        }
      ]
    },
    {
      "cell_type": "code",
      "metadata": {
        "id": "XJif4RgoA9WL",
        "colab_type": "code",
        "colab": {
          "base_uri": "https://localhost:8080/",
          "height": 33
        },
        "outputId": "6d76cbb0-0dd7-4a5b-a080-eeb7a84060b5"
      },
      "source": [
        ""
      ],
      "execution_count": 38,
      "outputs": [
        {
          "output_type": "stream",
          "text": [
            "Vocab size :  212852\n"
          ],
          "name": "stdout"
        }
      ]
    },
    {
      "cell_type": "code",
      "metadata": {
        "id": "MvgzHdL-DKav",
        "colab_type": "code",
        "colab": {
          "base_uri": "https://localhost:8080/",
          "height": 33
        },
        "outputId": "7ec328fe-9f70-44e9-d914-178b66ec4f29"
      },
      "source": [
        "print(list(dss['word_index'].items())[:10])\n"
      ],
      "execution_count": 41,
      "outputs": [
        {
          "output_type": "stream",
          "text": [
            "[('xxxunk', 1), ('the', 2), ('of', 3), ('and', 4), ('in', 5), ('to', 6), ('a', 7), ('is', 8), ('for', 9), ('as', 10)]\n"
          ],
          "name": "stdout"
        }
      ]
    },
    {
      "cell_type": "code",
      "metadata": {
        "id": "Gh4nYRVlDrgT",
        "colab_type": "code",
        "colab": {
          "base_uri": "https://localhost:8080/",
          "height": 33
        },
        "outputId": "1c14ba6d-38ba-40e4-e121-0a4bae00f70f"
      },
      "source": [
        "word_to_index = dss['word_index'].copy()\n",
        "word_to_index['xxpad'] = 0\n",
        "\n",
        "vocab_size = len(word_to_index)\n",
        "print('Vocab size : ', vocab_size)"
      ],
      "execution_count": 64,
      "outputs": [
        {
          "output_type": "stream",
          "text": [
            "Vocab size :  212853\n"
          ],
          "name": "stdout"
        }
      ]
    },
    {
      "cell_type": "code",
      "metadata": {
        "id": "nnLSPWbuA3dG",
        "colab_type": "code",
        "colab": {
          "base_uri": "https://localhost:8080/",
          "height": 33
        },
        "outputId": "237e13bc-88bd-4308-8700-0aabf0cbcca4"
      },
      "source": [
        "# dimensionality of word embeddings\n",
        "embedding_dim = 100\n",
        "\n",
        "\n",
        "# create a weight matrix for words in training docs\n",
        "embedding_matrix = np.zeros((vocab_size, embedding_dim))\n",
        "\n",
        "# unknown words are mapped to zero vector\n",
        "embedding_matrix[0] = np.array(embedding_dim*[0]) # pad\n",
        "embedding_matrix[1] = np.array(embedding_dim*[0]) # xxunk\n",
        "\n",
        "for word, i in word_to_index.items():\n",
        "    embedding_vector = embeddings_index.get(word)\n",
        "    if embedding_vector is not None:\n",
        "        embedding_matrix[i] = embedding_vector.copy() \n",
        "    #else :\n",
        "        #print(word, ' not found in GLoVe file.')\n",
        "\n",
        "nonzero_elements = np.count_nonzero(np.count_nonzero(embedding_matrix, axis=1))\n",
        "print('Coverage = ', nonzero_elements / vocab_size)"
      ],
      "execution_count": 65,
      "outputs": [
        {
          "output_type": "stream",
          "text": [
            "Coverage =  0.5255974780717209\n"
          ],
          "name": "stdout"
        }
      ]
    },
    {
      "cell_type": "code",
      "metadata": {
        "id": "cT_DoU-fFvc8",
        "colab_type": "code",
        "colab": {
          "base_uri": "https://localhost:8080/",
          "height": 384
        },
        "outputId": "8d1bbf87-cdd6-4a13-c41c-f07edb95cb29"
      },
      "source": [
        "\n",
        "model = tf.keras.Sequential()\n",
        "model.add(tf.keras.layers.Embedding(input_dim=vocab_size, output_dim=embedding_dim, input_shape=(X_train_p.shape[1],)))\n",
        "model.add(tf.keras.layers.Conv1D(128, 5, activation='relu'))\n",
        "model.add(tf.keras.layers.MaxPooling1D(pool_size=8))\n",
        "model.add(tf.keras.layers.Flatten())\n",
        "#model.add(tf.keras.layers.LSTM(units=128, activation='tanh'))\n",
        "#model.add(tf.keras.layers.GlobalAveragePooling1D())\n",
        "#model.add(tf.keras.layers.Dense(units=128, activation='relu'))\n",
        "#model.add(tf.keras.layers.BatchNormalization())\n",
        "#model.add(tf.keras.layers.Dropout(0.2))\n",
        "model.add(tf.keras.layers.Dense(units=128, activation='relu'))\n",
        "model.add(tf.keras.layers.BatchNormalization())\n",
        "#model.add(tf.keras.layers.Dropout(0.2))\n",
        "#model.add(tf.keras.layers.Dense(units=1, activation='sigmoid'))\n",
        "model.add(tf.keras.layers.Dense(units=len(ylabels), activation='softmax'))\n",
        "\n",
        "model.summary()\n",
        "\n"
      ],
      "execution_count": 166,
      "outputs": [
        {
          "output_type": "stream",
          "text": [
            "Model: \"sequential_21\"\n",
            "_________________________________________________________________\n",
            "Layer (type)                 Output Shape              Param #   \n",
            "=================================================================\n",
            "embedding_21 (Embedding)     (None, 500, 100)          21285300  \n",
            "_________________________________________________________________\n",
            "conv1d (Conv1D)              (None, 496, 128)          64128     \n",
            "_________________________________________________________________\n",
            "max_pooling1d_10 (MaxPooling (None, 62, 128)           0         \n",
            "_________________________________________________________________\n",
            "flatten_10 (Flatten)         (None, 7936)              0         \n",
            "_________________________________________________________________\n",
            "dense_38 (Dense)             (None, 128)               1015936   \n",
            "_________________________________________________________________\n",
            "batch_normalization_v2_18 (B (None, 128)               512       \n",
            "_________________________________________________________________\n",
            "dense_39 (Dense)             (None, 6)                 774       \n",
            "=================================================================\n",
            "Total params: 22,366,650\n",
            "Trainable params: 22,366,394\n",
            "Non-trainable params: 256\n",
            "_________________________________________________________________\n"
          ],
          "name": "stdout"
        }
      ]
    },
    {
      "cell_type": "code",
      "metadata": {
        "id": "EWRqps-CHFhr",
        "colab_type": "code",
        "colab": {}
      },
      "source": [
        "model.layers[0].set_weights([embedding_matrix])\n",
        "model.layers[0].trainable = False"
      ],
      "execution_count": 0,
      "outputs": []
    },
    {
      "cell_type": "code",
      "metadata": {
        "id": "2kpqLG9UGz07",
        "colab_type": "code",
        "colab": {}
      },
      "source": [
        "# Optimizers https://www.tensorflow.org/api_docs/python/tf/keras/optimizers\n",
        "adam = tf.keras.optimizers.Adam(lr=0.001, beta_1=0.9, beta_2=0.999, epsilon=None, decay=0.0, amsgrad=False)\n",
        "sgd = tf.keras.optimizers.SGD(lr=0.001, momentum=0.0, decay=0.0, nesterov=False)\n",
        "adad = tf.keras.optimizers.Adadelta(lr=1.0,rho=0.95,epsilon=None,decay=0.0)\n",
        "adag = tf.keras.optimizers.Adagrad(lr=0.01,epsilon=None,decay=0.0)\n",
        "adamax = tf.keras.optimizers.Adamax(lr=0.002,beta_1=0.9,beta_2=0.999,epsilon=None,decay=0.0)\n",
        "nadam = tf.keras.optimizers.Nadam(lr=0.002,beta_1=0.9,beta_2=0.999,epsilon=None,schedule_decay=0.004)\n",
        "rms = tf.keras.optimizers.RMSprop(lr=0.001,rho=0.9,epsilon=None,decay=0.0)\n",
        "\n",
        "# Losses https://keras.io/losses/\n",
        "loss = ['sparse_categorical_crossentropy','binary_crossentropy','mean_squared_error','mean_absolute_error',\n",
        "        'categorical_crossentropy','categorical_hinge']\n",
        "\n",
        "# Metrics  https://www.tensorflow.org/api_docs/python/tf/metrics\n",
        "metrics = ['accuracy','precision','recall']\n",
        "\n",
        "#model.compile(optimizer='adam', loss='sparse_categorical_crossentropy', metrics=['sparse_categorical_accuracy'])\n",
        "\n",
        "model.compile(optimizer=adam, loss='sparse_categorical_crossentropy', metrics=['sparse_categorical_accuracy'])"
      ],
      "execution_count": 0,
      "outputs": []
    },
    {
      "cell_type": "code",
      "metadata": {
        "id": "hNRzX_UwGxyS",
        "colab_type": "code",
        "colab": {
          "base_uri": "https://localhost:8080/",
          "height": 1000
        },
        "outputId": "e6a7febf-d38b-4afa-b7fa-850ae27f3923"
      },
      "source": [
        "history = model.fit(X_train_p, y_train, epochs=20, batch_size=128,validation_split=0.1)\n",
        "plot_history(history)\n",
        "test_loss, test_acurracy = model.evaluate(X_test_p, y_test)\n",
        "print(\"Test accuracy: {}\".format(test_acurracy))"
      ],
      "execution_count": 169,
      "outputs": [
        {
          "output_type": "stream",
          "text": [
            "Train on 6463 samples, validate on 719 samples\n",
            "Epoch 1/20\n",
            "6463/6463 [==============================] - 1s 181us/sample - loss: 1.2660 - sparse_categorical_accuracy: 0.5549 - val_loss: 0.9019 - val_sparse_categorical_accuracy: 0.6620\n",
            "Epoch 2/20\n",
            "6463/6463 [==============================] - 1s 90us/sample - loss: 0.6236 - sparse_categorical_accuracy: 0.7857 - val_loss: 0.9514 - val_sparse_categorical_accuracy: 0.6565\n",
            "Epoch 3/20\n",
            "6463/6463 [==============================] - 1s 90us/sample - loss: 0.3664 - sparse_categorical_accuracy: 0.8867 - val_loss: 0.8895 - val_sparse_categorical_accuracy: 0.6843\n",
            "Epoch 4/20\n",
            "6463/6463 [==============================] - 1s 89us/sample - loss: 0.1784 - sparse_categorical_accuracy: 0.9626 - val_loss: 0.8124 - val_sparse_categorical_accuracy: 0.7260\n",
            "Epoch 5/20\n",
            "6463/6463 [==============================] - 1s 89us/sample - loss: 0.1156 - sparse_categorical_accuracy: 0.9799 - val_loss: 0.7476 - val_sparse_categorical_accuracy: 0.7274\n",
            "Epoch 6/20\n",
            "6463/6463 [==============================] - 1s 88us/sample - loss: 0.0931 - sparse_categorical_accuracy: 0.9814 - val_loss: 0.8326 - val_sparse_categorical_accuracy: 0.7107\n",
            "Epoch 7/20\n",
            "6463/6463 [==============================] - 1s 91us/sample - loss: 0.0831 - sparse_categorical_accuracy: 0.9811 - val_loss: 0.8479 - val_sparse_categorical_accuracy: 0.7107\n",
            "Epoch 8/20\n",
            "6463/6463 [==============================] - 1s 90us/sample - loss: 0.0703 - sparse_categorical_accuracy: 0.9810 - val_loss: 1.0331 - val_sparse_categorical_accuracy: 0.7191\n",
            "Epoch 9/20\n",
            "6463/6463 [==============================] - 1s 89us/sample - loss: 0.0616 - sparse_categorical_accuracy: 0.9827 - val_loss: 0.8456 - val_sparse_categorical_accuracy: 0.7399\n",
            "Epoch 10/20\n",
            "6463/6463 [==============================] - 1s 90us/sample - loss: 0.0605 - sparse_categorical_accuracy: 0.9827 - val_loss: 0.8510 - val_sparse_categorical_accuracy: 0.7413\n",
            "Epoch 11/20\n",
            "6463/6463 [==============================] - 1s 90us/sample - loss: 0.0592 - sparse_categorical_accuracy: 0.9821 - val_loss: 0.8417 - val_sparse_categorical_accuracy: 0.7566\n",
            "Epoch 12/20\n",
            "6463/6463 [==============================] - 1s 89us/sample - loss: 0.0558 - sparse_categorical_accuracy: 0.9811 - val_loss: 0.8546 - val_sparse_categorical_accuracy: 0.7497\n",
            "Epoch 13/20\n",
            "6463/6463 [==============================] - 1s 89us/sample - loss: 0.0526 - sparse_categorical_accuracy: 0.9817 - val_loss: 0.8443 - val_sparse_categorical_accuracy: 0.7566\n",
            "Epoch 14/20\n",
            "6463/6463 [==============================] - 1s 91us/sample - loss: 0.0515 - sparse_categorical_accuracy: 0.9824 - val_loss: 0.8555 - val_sparse_categorical_accuracy: 0.7747\n",
            "Epoch 15/20\n",
            "6463/6463 [==============================] - 1s 90us/sample - loss: 0.0462 - sparse_categorical_accuracy: 0.9824 - val_loss: 0.7704 - val_sparse_categorical_accuracy: 0.7663\n",
            "Epoch 16/20\n",
            "6463/6463 [==============================] - 1s 89us/sample - loss: 0.0461 - sparse_categorical_accuracy: 0.9816 - val_loss: 0.9892 - val_sparse_categorical_accuracy: 0.7385\n",
            "Epoch 17/20\n",
            "6463/6463 [==============================] - 1s 90us/sample - loss: 0.0475 - sparse_categorical_accuracy: 0.9827 - val_loss: 0.9513 - val_sparse_categorical_accuracy: 0.7524\n",
            "Epoch 18/20\n",
            "6463/6463 [==============================] - 1s 91us/sample - loss: 0.0472 - sparse_categorical_accuracy: 0.9808 - val_loss: 1.2546 - val_sparse_categorical_accuracy: 0.6940\n",
            "Epoch 19/20\n",
            "6463/6463 [==============================] - 1s 92us/sample - loss: 0.0467 - sparse_categorical_accuracy: 0.9827 - val_loss: 1.1754 - val_sparse_categorical_accuracy: 0.7260\n",
            "Epoch 20/20\n",
            "6463/6463 [==============================] - 1s 90us/sample - loss: 0.0437 - sparse_categorical_accuracy: 0.9831 - val_loss: 0.8658 - val_sparse_categorical_accuracy: 0.7636\n"
          ],
          "name": "stdout"
        },
        {
          "output_type": "display_data",
          "data": {
            "image/png": "[encoded data removed]",
            "text/plain": [
              "<Figure size 432x288 with 1 Axes>"
            ]
          },
          "metadata": {
            "tags": []
          }
        },
        {
          "output_type": "display_data",
          "data": {
            "image/png": "[encoded data removed]",
            "text/plain": [
              "<Figure size 432x288 with 1 Axes>"
            ]
          },
          "metadata": {
            "tags": []
          }
        },
        {
          "output_type": "stream",
          "text": [
            "1795/1795 [==============================] - 0s 97us/sample - loss: 0.8611 - sparse_categorical_accuracy: 0.7577\n",
            "Test accuracy: 0.7576601505279541\n"
          ],
          "name": "stdout"
        }
      ]
    },
    {
      "cell_type": "code",
      "metadata": {
        "id": "l4TO4P5EIc5P",
        "colab_type": "code",
        "colab": {}
      },
      "source": [
        "model.optimizer.lr = 0.0001"
      ],
      "execution_count": 0,
      "outputs": []
    },
    {
      "cell_type": "code",
      "metadata": {
        "id": "3jh-QQ__JBGs",
        "colab_type": "code",
        "colab": {
          "base_uri": "https://localhost:8080/",
          "height": 1000
        },
        "outputId": "253d31d7-d4f8-469e-a589-9bcbe1207db3"
      },
      "source": [
        "history = model.fit(X_train_p, y_train, epochs=20, batch_size=128,validation_split=0.1)\n",
        "plot_history(history)\n",
        "test_loss, test_acurracy = model.evaluate(X_test_p, y_test)\n",
        "print(\"Test accuracy: {}\".format(test_acurracy))"
      ],
      "execution_count": 171,
      "outputs": [
        {
          "output_type": "stream",
          "text": [
            "Train on 6463 samples, validate on 719 samples\n",
            "Epoch 1/20\n",
            "6463/6463 [==============================] - 1s 91us/sample - loss: 0.0301 - sparse_categorical_accuracy: 0.9856 - val_loss: 0.8160 - val_sparse_categorical_accuracy: 0.7705\n",
            "Epoch 2/20\n",
            "6463/6463 [==============================] - 1s 90us/sample - loss: 0.0271 - sparse_categorical_accuracy: 0.9858 - val_loss: 0.8033 - val_sparse_categorical_accuracy: 0.7747\n",
            "Epoch 3/20\n",
            "6463/6463 [==============================] - 1s 91us/sample - loss: 0.0256 - sparse_categorical_accuracy: 0.9858 - val_loss: 0.8040 - val_sparse_categorical_accuracy: 0.7733\n",
            "Epoch 4/20\n",
            "6463/6463 [==============================] - 1s 89us/sample - loss: 0.0258 - sparse_categorical_accuracy: 0.9858 - val_loss: 0.8168 - val_sparse_categorical_accuracy: 0.7691\n",
            "Epoch 5/20\n",
            "6463/6463 [==============================] - 1s 92us/sample - loss: 0.0246 - sparse_categorical_accuracy: 0.9872 - val_loss: 0.8210 - val_sparse_categorical_accuracy: 0.7705\n",
            "Epoch 6/20\n",
            "6463/6463 [==============================] - 1s 90us/sample - loss: 0.0240 - sparse_categorical_accuracy: 0.9867 - val_loss: 0.8152 - val_sparse_categorical_accuracy: 0.7775\n",
            "Epoch 7/20\n",
            "6463/6463 [==============================] - 1s 92us/sample - loss: 0.0241 - sparse_categorical_accuracy: 0.9864 - val_loss: 0.8328 - val_sparse_categorical_accuracy: 0.7803\n",
            "Epoch 8/20\n",
            "6463/6463 [==============================] - 1s 90us/sample - loss: 0.0241 - sparse_categorical_accuracy: 0.9859 - val_loss: 0.8338 - val_sparse_categorical_accuracy: 0.7663\n",
            "Epoch 9/20\n",
            "6463/6463 [==============================] - 1s 89us/sample - loss: 0.0243 - sparse_categorical_accuracy: 0.9853 - val_loss: 0.8140 - val_sparse_categorical_accuracy: 0.7816\n",
            "Epoch 10/20\n",
            "6463/6463 [==============================] - 1s 90us/sample - loss: 0.0240 - sparse_categorical_accuracy: 0.9861 - val_loss: 0.8220 - val_sparse_categorical_accuracy: 0.7775\n",
            "Epoch 11/20\n",
            "6463/6463 [==============================] - 1s 90us/sample - loss: 0.0239 - sparse_categorical_accuracy: 0.9858 - val_loss: 0.8294 - val_sparse_categorical_accuracy: 0.7733\n",
            "Epoch 12/20\n",
            "6463/6463 [==============================] - 1s 91us/sample - loss: 0.0234 - sparse_categorical_accuracy: 0.9861 - val_loss: 0.8360 - val_sparse_categorical_accuracy: 0.7677\n",
            "Epoch 13/20\n",
            "6463/6463 [==============================] - 1s 89us/sample - loss: 0.0239 - sparse_categorical_accuracy: 0.9859 - val_loss: 0.8843 - val_sparse_categorical_accuracy: 0.7566\n",
            "Epoch 14/20\n",
            "6463/6463 [==============================] - 1s 90us/sample - loss: 0.0234 - sparse_categorical_accuracy: 0.9865 - val_loss: 0.8303 - val_sparse_categorical_accuracy: 0.7830\n",
            "Epoch 15/20\n",
            "6463/6463 [==============================] - 1s 93us/sample - loss: 0.0238 - sparse_categorical_accuracy: 0.9848 - val_loss: 0.8536 - val_sparse_categorical_accuracy: 0.7650\n",
            "Epoch 16/20\n",
            "6463/6463 [==============================] - 1s 89us/sample - loss: 0.0243 - sparse_categorical_accuracy: 0.9836 - val_loss: 0.8312 - val_sparse_categorical_accuracy: 0.7789\n",
            "Epoch 17/20\n",
            "6463/6463 [==============================] - 1s 90us/sample - loss: 0.0234 - sparse_categorical_accuracy: 0.9839 - val_loss: 0.8559 - val_sparse_categorical_accuracy: 0.7747\n",
            "Epoch 18/20\n",
            "6463/6463 [==============================] - 1s 89us/sample - loss: 0.0249 - sparse_categorical_accuracy: 0.9830 - val_loss: 0.8865 - val_sparse_categorical_accuracy: 0.7719\n",
            "Epoch 19/20\n",
            "6463/6463 [==============================] - 1s 90us/sample - loss: 0.0232 - sparse_categorical_accuracy: 0.9861 - val_loss: 0.8638 - val_sparse_categorical_accuracy: 0.7705\n",
            "Epoch 20/20\n",
            "6463/6463 [==============================] - 1s 90us/sample - loss: 0.0228 - sparse_categorical_accuracy: 0.9865 - val_loss: 0.8689 - val_sparse_categorical_accuracy: 0.7775\n"
          ],
          "name": "stdout"
        },
        {
          "output_type": "display_data",
          "data": {
            "image/png": "[encoded data removed]",
            "text/plain": [
              "<Figure size 432x288 with 1 Axes>"
            ]
          },
          "metadata": {
            "tags": []
          }
        },
        {
          "output_type": "display_data",
          "data": {
            "image/png": "[encoded data removed]",
            "text/plain": [
              "<Figure size 432x288 with 1 Axes>"
            ]
          },
          "metadata": {
            "tags": []
          }
        },
        {
          "output_type": "stream",
          "text": [
            "1795/1795 [==============================] - 0s 93us/sample - loss: 0.8870 - sparse_categorical_accuracy: 0.7554\n",
            "Test accuracy: 0.7554317712783813\n"
          ],
          "name": "stdout"
        }
      ]
    },
    {
      "cell_type": "code",
      "metadata": {
        "id": "PQ2zhgvdLX7J",
        "colab_type": "code",
        "colab": {}
      },
      "source": [
        "model.optimizer.lr = model.optimizer.lr / 10"
      ],
      "execution_count": 0,
      "outputs": []
    },
    {
      "cell_type": "code",
      "metadata": {
        "id": "mkvOJk4AMKkW",
        "colab_type": "code",
        "colab": {
          "base_uri": "https://localhost:8080/",
          "height": 1000
        },
        "outputId": "d01a6ad9-ce2f-4411-a881-fd2285834369"
      },
      "source": [
        "history = model.fit(X_train_p, y_train, epochs=20, batch_size=128,validation_split=0.1)\n",
        "plot_history(history)\n",
        "test_loss, test_acurracy = model.evaluate(X_test_p, y_test)\n",
        "print(\"Test accuracy: {}\".format(test_acurracy))"
      ],
      "execution_count": 173,
      "outputs": [
        {
          "output_type": "stream",
          "text": [
            "Train on 6463 samples, validate on 719 samples\n",
            "Epoch 1/20\n",
            "6463/6463 [==============================] - 1s 108us/sample - loss: 0.0229 - sparse_categorical_accuracy: 0.9862 - val_loss: 0.8550 - val_sparse_categorical_accuracy: 0.7761\n",
            "Epoch 2/20\n",
            "6463/6463 [==============================] - 1s 92us/sample - loss: 0.0210 - sparse_categorical_accuracy: 0.9878 - val_loss: 0.8541 - val_sparse_categorical_accuracy: 0.7775\n",
            "Epoch 3/20\n",
            "6463/6463 [==============================] - 1s 89us/sample - loss: 0.0215 - sparse_categorical_accuracy: 0.9876 - val_loss: 0.8542 - val_sparse_categorical_accuracy: 0.7775\n",
            "Epoch 4/20\n",
            "6463/6463 [==============================] - 1s 91us/sample - loss: 0.0217 - sparse_categorical_accuracy: 0.9879 - val_loss: 0.8560 - val_sparse_categorical_accuracy: 0.7789\n",
            "Epoch 5/20\n",
            "6463/6463 [==============================] - 1s 88us/sample - loss: 0.0216 - sparse_categorical_accuracy: 0.9873 - val_loss: 0.8535 - val_sparse_categorical_accuracy: 0.7775\n",
            "Epoch 6/20\n",
            "6463/6463 [==============================] - 1s 91us/sample - loss: 0.0219 - sparse_categorical_accuracy: 0.9876 - val_loss: 0.8527 - val_sparse_categorical_accuracy: 0.7775\n",
            "Epoch 7/20\n",
            "6463/6463 [==============================] - 1s 89us/sample - loss: 0.0213 - sparse_categorical_accuracy: 0.9879 - val_loss: 0.8535 - val_sparse_categorical_accuracy: 0.7775\n",
            "Epoch 8/20\n",
            "6463/6463 [==============================] - 1s 90us/sample - loss: 0.0224 - sparse_categorical_accuracy: 0.9873 - val_loss: 0.8507 - val_sparse_categorical_accuracy: 0.7747\n",
            "Epoch 9/20\n",
            "6463/6463 [==============================] - 1s 91us/sample - loss: 0.0216 - sparse_categorical_accuracy: 0.9875 - val_loss: 0.8528 - val_sparse_categorical_accuracy: 0.7761\n",
            "Epoch 10/20\n",
            "6463/6463 [==============================] - 1s 89us/sample - loss: 0.0216 - sparse_categorical_accuracy: 0.9873 - val_loss: 0.8542 - val_sparse_categorical_accuracy: 0.7775\n",
            "Epoch 11/20\n",
            "6463/6463 [==============================] - 1s 92us/sample - loss: 0.0207 - sparse_categorical_accuracy: 0.9892 - val_loss: 0.8551 - val_sparse_categorical_accuracy: 0.7761\n",
            "Epoch 12/20\n",
            "6463/6463 [==============================] - 1s 90us/sample - loss: 0.0215 - sparse_categorical_accuracy: 0.9873 - val_loss: 0.8561 - val_sparse_categorical_accuracy: 0.7747\n",
            "Epoch 13/20\n",
            "6463/6463 [==============================] - 1s 91us/sample - loss: 0.0208 - sparse_categorical_accuracy: 0.9881 - val_loss: 0.8565 - val_sparse_categorical_accuracy: 0.7747\n",
            "Epoch 14/20\n",
            "6463/6463 [==============================] - 1s 90us/sample - loss: 0.0206 - sparse_categorical_accuracy: 0.9882 - val_loss: 0.8543 - val_sparse_categorical_accuracy: 0.7733\n",
            "Epoch 15/20\n",
            "6463/6463 [==============================] - 1s 89us/sample - loss: 0.0225 - sparse_categorical_accuracy: 0.9875 - val_loss: 0.8541 - val_sparse_categorical_accuracy: 0.7747\n",
            "Epoch 16/20\n",
            "6463/6463 [==============================] - 1s 91us/sample - loss: 0.0229 - sparse_categorical_accuracy: 0.9844 - val_loss: 0.8540 - val_sparse_categorical_accuracy: 0.7747\n",
            "Epoch 17/20\n",
            "6463/6463 [==============================] - 1s 90us/sample - loss: 0.0214 - sparse_categorical_accuracy: 0.9872 - val_loss: 0.8553 - val_sparse_categorical_accuracy: 0.7747\n",
            "Epoch 18/20\n",
            "6463/6463 [==============================] - 1s 92us/sample - loss: 0.0214 - sparse_categorical_accuracy: 0.9872 - val_loss: 0.8545 - val_sparse_categorical_accuracy: 0.7761\n",
            "Epoch 19/20\n",
            "6463/6463 [==============================] - 1s 91us/sample - loss: 0.0213 - sparse_categorical_accuracy: 0.9881 - val_loss: 0.8535 - val_sparse_categorical_accuracy: 0.7747\n",
            "Epoch 20/20\n",
            "6463/6463 [==============================] - 1s 91us/sample - loss: 0.0200 - sparse_categorical_accuracy: 0.9898 - val_loss: 0.8558 - val_sparse_categorical_accuracy: 0.7733\n"
          ],
          "name": "stdout"
        },
        {
          "output_type": "display_data",
          "data": {
            "image/png": "[encoded data removed]",
            "text/plain": [
              "<Figure size 432x288 with 1 Axes>"
            ]
          },
          "metadata": {
            "tags": []
          }
        },
        {
          "output_type": "display_data",
          "data": {
            "image/png": "[encoded data removed]",
            "text/plain": [
              "<Figure size 432x288 with 1 Axes>"
            ]
          },
          "metadata": {
            "tags": []
          }
        },
        {
          "output_type": "stream",
          "text": [
            "1795/1795 [==============================] - 0s 101us/sample - loss: 0.8745 - sparse_categorical_accuracy: 0.7604\n",
            "Test accuracy: 0.7604456543922424\n"
          ],
          "name": "stdout"
        }
      ]
    }
  ]
}