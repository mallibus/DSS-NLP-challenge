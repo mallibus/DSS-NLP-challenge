{
  "nbformat": 4,
  "nbformat_minor": 0,
  "metadata": {
    "colab": {
      "name": "DSS NLP Challenge - Recurrent Neural Network in TensorFlow 2.0.ipynb",
      "version": "0.3.2",
      "provenance": [],
      "collapsed_sections": [],
      "toc_visible": true,
      "include_colab_link": true
    },
    "kernelspec": {
      "name": "python3",
      "display_name": "Python 3"
    },
    "accelerator": "GPU"
  },
  "cells": [
    {
      "cell_type": "markdown",
      "metadata": {
        "id": "view-in-github",
        "colab_type": "text"
      },
      "source": [
        "<a href=\"https://colab.research.google.com/github/mallibus/DSS-NLP-challenge/blob/master/DSS_NLP_Challenge_Recurrent_Neural_Network_in_TensorFlow_2_0.ipynb\" target=\"_parent\"><img src=\"https://colab.research.google.com/assets/colab-badge.svg\" alt=\"Open In Colab\"/></a>"
      ]
    },
    {
      "cell_type": "markdown",
      "metadata": {
        "id": "fefLW6DjdczD",
        "colab_type": "text"
      },
      "source": [
        "![DSS7-NPL Challenge](http://www.datascienceseed.com/wp-content/uploads/2019/07/DSS-CHALLENGE-300x169.jpg)\n",
        "\n"
      ]
    },
    {
      "cell_type": "markdown",
      "metadata": {
        "id": "Z82c-Fcay0a3",
        "colab_type": "text"
      },
      "source": [
        "## Step 1: Installing the dependencies and setting up a GPU environment"
      ]
    },
    {
      "cell_type": "code",
      "metadata": {
        "id": "BMndQSr4O_nd",
        "colab_type": "code",
        "outputId": "6f07f0c8-bf39-44b1-bd22-a2c33354d686",
        "colab": {
          "base_uri": "https://localhost:8080/",
          "height": 487
        }
      },
      "source": [
        "!pip install tensorflow-gpu==2.0.0.alpha0"
      ],
      "execution_count": 2,
      "outputs": [
        {
          "output_type": "stream",
          "text": [
            "Collecting tensorflow-gpu==2.0.0.alpha0\n",
            "\u001b[?25l  Downloading https://files.pythonhosted.org/packages/1a/66/32cffad095253219d53f6b6c2a436637bbe45ac4e7be0244557210dc3918/tensorflow_gpu-2.0.0a0-cp36-cp36m-manylinux1_x86_64.whl (332.1MB)\n",
            "\u001b[K     |████████████████████████████████| 332.1MB 102kB/s \n",
            "\u001b[?25hRequirement already satisfied: keras-preprocessing>=1.0.5 in /usr/local/lib/python3.6/dist-packages (from tensorflow-gpu==2.0.0.alpha0) (1.1.0)\n",
            "Requirement already satisfied: termcolor>=1.1.0 in /usr/local/lib/python3.6/dist-packages (from tensorflow-gpu==2.0.0.alpha0) (1.1.0)\n",
            "Requirement already satisfied: wheel>=0.26 in /usr/local/lib/python3.6/dist-packages (from tensorflow-gpu==2.0.0.alpha0) (0.33.4)\n",
            "Collecting tb-nightly<1.14.0a20190302,>=1.14.0a20190301 (from tensorflow-gpu==2.0.0.alpha0)\n",
            "\u001b[?25l  Downloading https://files.pythonhosted.org/packages/a9/51/aa1d756644bf4624c03844115e4ac4058eff77acd786b26315f051a4b195/tb_nightly-1.14.0a20190301-py3-none-any.whl (3.0MB)\n",
            "\u001b[K     |████████████████████████████████| 3.0MB 38.6MB/s \n",
            "\u001b[?25hRequirement already satisfied: six>=1.10.0 in /usr/local/lib/python3.6/dist-packages (from tensorflow-gpu==2.0.0.alpha0) (1.12.0)\n",
            "Requirement already satisfied: protobuf>=3.6.1 in /usr/local/lib/python3.6/dist-packages (from tensorflow-gpu==2.0.0.alpha0) (3.7.1)\n",
            "Requirement already satisfied: gast>=0.2.0 in /usr/local/lib/python3.6/dist-packages (from tensorflow-gpu==2.0.0.alpha0) (0.2.2)\n",
            "Requirement already satisfied: google-pasta>=0.1.2 in /usr/local/lib/python3.6/dist-packages (from tensorflow-gpu==2.0.0.alpha0) (0.1.7)\n",
            "Requirement already satisfied: grpcio>=1.8.6 in /usr/local/lib/python3.6/dist-packages (from tensorflow-gpu==2.0.0.alpha0) (1.15.0)\n",
            "Requirement already satisfied: astor>=0.6.0 in /usr/local/lib/python3.6/dist-packages (from tensorflow-gpu==2.0.0.alpha0) (0.8.0)\n",
            "Requirement already satisfied: keras-applications>=1.0.6 in /usr/local/lib/python3.6/dist-packages (from tensorflow-gpu==2.0.0.alpha0) (1.0.8)\n",
            "Collecting tf-estimator-nightly<1.14.0.dev2019030116,>=1.14.0.dev2019030115 (from tensorflow-gpu==2.0.0.alpha0)\n",
            "\u001b[?25l  Downloading https://files.pythonhosted.org/packages/13/82/f16063b4eed210dc2ab057930ac1da4fbe1e91b7b051a6c8370b401e6ae7/tf_estimator_nightly-1.14.0.dev2019030115-py2.py3-none-any.whl (411kB)\n",
            "\u001b[K     |████████████████████████████████| 419kB 50.9MB/s \n",
            "\u001b[?25hRequirement already satisfied: numpy<2.0,>=1.14.5 in /usr/local/lib/python3.6/dist-packages (from tensorflow-gpu==2.0.0.alpha0) (1.16.4)\n",
            "Requirement already satisfied: absl-py>=0.7.0 in /usr/local/lib/python3.6/dist-packages (from tensorflow-gpu==2.0.0.alpha0) (0.7.1)\n",
            "Requirement already satisfied: werkzeug>=0.11.15 in /usr/local/lib/python3.6/dist-packages (from tb-nightly<1.14.0a20190302,>=1.14.0a20190301->tensorflow-gpu==2.0.0.alpha0) (0.15.5)\n",
            "Requirement already satisfied: markdown>=2.6.8 in /usr/local/lib/python3.6/dist-packages (from tb-nightly<1.14.0a20190302,>=1.14.0a20190301->tensorflow-gpu==2.0.0.alpha0) (3.1.1)\n",
            "Requirement already satisfied: setuptools in /usr/local/lib/python3.6/dist-packages (from protobuf>=3.6.1->tensorflow-gpu==2.0.0.alpha0) (41.0.1)\n",
            "Requirement already satisfied: h5py in /usr/local/lib/python3.6/dist-packages (from keras-applications>=1.0.6->tensorflow-gpu==2.0.0.alpha0) (2.8.0)\n",
            "Installing collected packages: tb-nightly, tf-estimator-nightly, tensorflow-gpu\n",
            "Successfully installed tb-nightly-1.14.0a20190301 tensorflow-gpu-2.0.0a0 tf-estimator-nightly-1.14.0.dev2019030115\n"
          ],
          "name": "stdout"
        }
      ]
    },
    {
      "cell_type": "markdown",
      "metadata": {
        "id": "JL3SBH6PzDwV",
        "colab_type": "text"
      },
      "source": [
        "## Step 2: Importing the libraries"
      ]
    },
    {
      "cell_type": "code",
      "metadata": {
        "id": "ynShOu8nNtFt",
        "colab_type": "code",
        "colab": {}
      },
      "source": [
        "import tensorflow as tf\n",
        "from tensorflow.keras.datasets import imdb"
      ],
      "execution_count": 0,
      "outputs": []
    },
    {
      "cell_type": "code",
      "metadata": {
        "id": "Kw7-sPdOzf5l",
        "colab_type": "code",
        "outputId": "4c0e3550-a420-48a6-a3fe-fff91292636e",
        "colab": {
          "base_uri": "https://localhost:8080/",
          "height": 33
        }
      },
      "source": [
        "tf.__version__"
      ],
      "execution_count": 4,
      "outputs": [
        {
          "output_type": "execute_result",
          "data": {
            "text/plain": [
              "'2.0.0-alpha0'"
            ]
          },
          "metadata": {
            "tags": []
          },
          "execution_count": 4
        }
      ]
    },
    {
      "cell_type": "code",
      "metadata": {
        "id": "Ewl4NpIWaZG5",
        "colab_type": "code",
        "colab": {}
      },
      "source": [
        "# Function for plotting learning history\n",
        "\n",
        "from matplotlib import pyplot as plt\n",
        "%matplotlib inline\n",
        "\n",
        "def plot_history(history):\n",
        "    loss_list = [s for s in history.history.keys() if 'loss' in s and 'val' not in s]\n",
        "    val_loss_list = [s for s in history.history.keys() if 'loss' in s and 'val' in s]\n",
        "    acc_list = [s for s in history.history.keys() if 'acc' in s and 'val' not in s]\n",
        "    val_acc_list = [s for s in history.history.keys() if 'acc' in s and 'val' in s]\n",
        "    \n",
        "    if len(loss_list) == 0:\n",
        "        print('Loss is missing in history')\n",
        "        return \n",
        "    \n",
        "    ## As loss always exists\n",
        "    epochs = range(1,len(history.history[loss_list[0]]) + 1)\n",
        "    \n",
        "    ## Loss\n",
        "    plt.figure(1)\n",
        "    for l in loss_list:\n",
        "        plt.plot(epochs, history.history[l], 'b', label='Training loss (' + str(str(format(history.history[l][-1],'.5f'))+')'))\n",
        "    for l in val_loss_list:\n",
        "        plt.plot(epochs, history.history[l], 'g', label='Validation loss (' + str(str(format(history.history[l][-1],'.5f'))+')'))\n",
        "    \n",
        "    plt.title('Loss')\n",
        "    plt.xlabel('Epochs')\n",
        "    plt.ylabel('Loss')\n",
        "    plt.legend()\n",
        "    \n",
        "    ## Accuracy\n",
        "    plt.figure(2)\n",
        "    for l in acc_list:\n",
        "        plt.plot(epochs, history.history[l], 'b', label='Training accuracy (' + str(format(history.history[l][-1],'.5f'))+')')\n",
        "    for l in val_acc_list:    \n",
        "        plt.plot(epochs, history.history[l], 'g', label='Validation accuracy (' + str(format(history.history[l][-1],'.5f'))+')')\n",
        "\n",
        "    plt.title('Accuracy')\n",
        "    plt.xlabel('Epochs')\n",
        "    plt.ylabel('Accuracy')\n",
        "    plt.legend()\n",
        "    plt.show()"
      ],
      "execution_count": 0,
      "outputs": []
    },
    {
      "cell_type": "markdown",
      "metadata": {
        "id": "rlKfeWBDflnw",
        "colab_type": "text"
      },
      "source": [
        "## Connection with my local Google Drive"
      ]
    },
    {
      "cell_type": "markdown",
      "metadata": {
        "id": "NJ0Lf8B0ajaw",
        "colab_type": "text"
      },
      "source": [
        "I tried to use the sharable link to make this more general, but I got errors with big dataset, so ... for now this is how it is"
      ]
    },
    {
      "cell_type": "code",
      "metadata": {
        "id": "Us9Yzi1LWH8L",
        "colab_type": "code",
        "colab": {
          "base_uri": "https://localhost:8080/",
          "height": 120
        },
        "outputId": "091495ff-6e52-467d-9d3e-568bb42e77d2"
      },
      "source": [
        "from google.colab import drive\n",
        "drive.mount('/content/drive')"
      ],
      "execution_count": 5,
      "outputs": [
        {
          "output_type": "stream",
          "text": [
            "Go to this URL in a browser: https://accounts.google.com/o/oauth2/auth?client_id=947318989803-6bn6qk8qdgf4n4g3pfee6491hc0brc4i.apps.googleusercontent.com&redirect_uri=urn%3Aietf%3Awg%3Aoauth%3A2.0%3Aoob&scope=email%20https%3A%2F%2Fwww.googleapis.com%2Fauth%2Fdocs.test%20https%3A%2F%2Fwww.googleapis.com%2Fauth%2Fdrive%20https%3A%2F%2Fwww.googleapis.com%2Fauth%2Fdrive.photos.readonly%20https%3A%2F%2Fwww.googleapis.com%2Fauth%2Fpeopleapi.readonly&response_type=code\n",
            "\n",
            "Enter your authorization code:\n",
            "··········\n",
            "Mounted at /content/drive\n"
          ],
          "name": "stdout"
        }
      ]
    },
    {
      "cell_type": "code",
      "metadata": {
        "id": "WNBBIdtgaNTL",
        "colab_type": "code",
        "colab": {}
      },
      "source": [
        "#Dataset Path will be used for models saving as well\n",
        "\n",
        "dataset_path = \"/content/drive/My Drive/AIML/Projects/DSS-NLP-challenge/dataset/wiki/\"\n",
        "dataset_name = \"dss_wiki_02000_20K1\"\n",
        "dataset_file = dataset_name+\".json\""
      ],
      "execution_count": 0,
      "outputs": []
    },
    {
      "cell_type": "markdown",
      "metadata": {
        "id": "A9gzN78rbJfE",
        "colab_type": "text"
      },
      "source": [
        "import urllib.request\n",
        "\n",
        "url_wiki = 'https://drive.google.com/file/d/1HZxMVthzG-tboMXO0qsPkeH2Cuq1YCbi/view?usp=sharing' # 2000\n",
        "\n",
        "url_wiki = 'https://drive.google.com/uc?export=download&id=1iteaiSPd1OLJdKZitcv76LzrD_mAC8S8'# 5\n",
        "\n",
        "url_wiki = 'https://drive.google.com/uc?export=download&id=15hhpN2EszdRx7-PN43yGFsoFPuZzwFO1'   # 200\n",
        "\n",
        "f = urllib.request.urlopen(url_wiki)\n",
        "\n"
      ]
    },
    {
      "cell_type": "markdown",
      "metadata": {
        "id": "JEjlM2EazOf0",
        "colab_type": "text"
      },
      "source": [
        "## Step 3: Data Preprocessing"
      ]
    },
    {
      "cell_type": "markdown",
      "metadata": {
        "id": "QPWdZF08f6SI",
        "colab_type": "text"
      },
      "source": [
        "### Load the data"
      ]
    },
    {
      "cell_type": "code",
      "metadata": {
        "id": "oNyxVL2AfwU4",
        "colab_type": "code",
        "colab": {}
      },
      "source": [
        "import json\n",
        "\n",
        "with open(dataset_path+dataset_file, 'r') as f:\n",
        "  dss = json.load(f)\n",
        "\n",
        "print(f\"Dataset of {len(dss['X'])} texts of {len(set(dss['y']))} classes - vocabulary of {len(dss['word_index'])} words\")\n",
        "print(dss['categories'])"
      ],
      "execution_count": 0,
      "outputs": []
    },
    {
      "cell_type": "code",
      "metadata": {
        "id": "jQSFjgN0f2XB",
        "colab_type": "code",
        "colab": {}
      },
      "source": [
        "dss.keys()"
      ],
      "execution_count": 0,
      "outputs": []
    },
    {
      "cell_type": "markdown",
      "metadata": {
        "id": "wB0tNtXJzTfA",
        "colab_type": "text"
      },
      "source": [
        "### Setting up the dataset parameters"
      ]
    },
    {
      "cell_type": "code",
      "metadata": {
        "id": "Jw6_KU24SrYK",
        "colab_type": "code",
        "colab": {}
      },
      "source": [
        "number_of_words = len(dss['word_index'])\n",
        "max_len = 500"
      ],
      "execution_count": 0,
      "outputs": []
    },
    {
      "cell_type": "code",
      "metadata": {
        "id": "-Eu8FA2Eg8lT",
        "colab_type": "code",
        "colab": {}
      },
      "source": [
        "import numpy as np"
      ],
      "execution_count": 0,
      "outputs": []
    },
    {
      "cell_type": "code",
      "metadata": {
        "id": "ts2YFGCqhC_B",
        "colab_type": "code",
        "colab": {}
      },
      "source": [
        "X_arr = np.array(dss['X'])\n",
        "y_arr = np.array(dss['y'])\n",
        "ylabels = dss['categories']\n"
      ],
      "execution_count": 0,
      "outputs": []
    },
    {
      "cell_type": "code",
      "metadata": {
        "id": "-ezjk4UthdWJ",
        "colab_type": "code",
        "colab": {
          "base_uri": "https://localhost:8080/",
          "height": 33
        },
        "outputId": "5ffe6dd5-03f5-4686-a08b-89353e50d2e8"
      },
      "source": [
        "split = 0.2\n",
        "\n",
        "dataset_size = len(y_arr)\n",
        "test_size    = int(dataset_size * split)\n",
        "train_size   = dataset_size - test_size\n",
        "test_indexes  = np.random.choice(range(dataset_size),test_size,replace=False)\n",
        "train_indexes =  np.array(list(set(range(dataset_size)) - set(test_indexes)))\n",
        "np.random.shuffle(train_indexes)\n",
        "dataset_size,len(train_indexes),len(test_indexes)            "
      ],
      "execution_count": 14,
      "outputs": [
        {
          "output_type": "execute_result",
          "data": {
            "text/plain": [
              "(8977, 7182, 1795)"
            ]
          },
          "metadata": {
            "tags": []
          },
          "execution_count": 14
        }
      ]
    },
    {
      "cell_type": "code",
      "metadata": {
        "id": "BL-mo_J6oLhE",
        "colab_type": "code",
        "colab": {}
      },
      "source": [
        "(X_train, y_train), (X_test, y_test) = (X_arr[train_indexes],y_arr[train_indexes]),(X_arr[test_indexes],y_arr[test_indexes])"
      ],
      "execution_count": 0,
      "outputs": []
    },
    {
      "cell_type": "markdown",
      "metadata": {
        "id": "ZI4hMdYkGtx-",
        "colab_type": "text"
      },
      "source": [
        "### Explore some articles\n"
      ]
    },
    {
      "cell_type": "code",
      "metadata": {
        "id": "ocGKrXJU7Vic",
        "colab_type": "code",
        "colab": {}
      },
      "source": [
        "id_to_word = {dss['word_index'][key]:key for key in dss['word_index'].keys()}"
      ],
      "execution_count": 0,
      "outputs": []
    },
    {
      "cell_type": "code",
      "metadata": {
        "id": "isKBztJbML4n",
        "colab_type": "code",
        "colab": {
          "base_uri": "https://localhost:8080/",
          "height": 33
        },
        "outputId": "9118de80-86f9-47c1-e530-0811bc90d8b9"
      },
      "source": [
        "id_to_word[1]"
      ],
      "execution_count": 20,
      "outputs": [
        {
          "output_type": "execute_result",
          "data": {
            "text/plain": [
              "'xxxunk'"
            ]
          },
          "metadata": {
            "tags": []
          },
          "execution_count": 20
        }
      ]
    },
    {
      "cell_type": "code",
      "metadata": {
        "id": "Ojs9DxxgCWZt",
        "colab_type": "code",
        "colab": {}
      },
      "source": [
        "import textwrap\n",
        "size = 3\n",
        "sample = np.random.choice(range(len(X_train)),size,replace=False)\n",
        "for i in sample:\n",
        "    print(f'Text #{i}:{ylabels[y_train[i]]}')\n",
        "    s = ' '.join(id_to_word[id] for id in X_train[i])\n",
        "    print('\\n'.join(textwrap.wrap(s, width=120, replace_whitespace=False)))\n",
        "    print()\n",
        "\n"
      ],
      "execution_count": 0,
      "outputs": []
    },
    {
      "cell_type": "markdown",
      "metadata": {
        "id": "MZKDNoTKzi5w",
        "colab_type": "text"
      },
      "source": [
        "### Padding all sequences to be the same length "
      ]
    },
    {
      "cell_type": "code",
      "metadata": {
        "id": "LHcMNzv7Pd1s",
        "colab_type": "code",
        "colab": {}
      },
      "source": [
        "# Changing variable name to preserve orginal dataset\n",
        "X_train_p = tf.keras.preprocessing.sequence.pad_sequences(X_train, maxlen=max_len,padding='post', truncating='post')\n",
        "X_train_p = tf.keras.preprocessing.sequence.pad_sequences(X_train, maxlen=max_len)\n"
      ],
      "execution_count": 0,
      "outputs": []
    },
    {
      "cell_type": "code",
      "metadata": {
        "id": "Fcxd--ESP3Rh",
        "colab_type": "code",
        "colab": {}
      },
      "source": [
        "# Changing variable name to preserve orginal dataset\n",
        "X_test_p = tf.keras.preprocessing.sequence.pad_sequences(X_test, maxlen=max_len,padding='post', truncating='post')\n",
        "X_test_p = tf.keras.preprocessing.sequence.pad_sequences(X_test, maxlen=max_len)"
      ],
      "execution_count": 0,
      "outputs": []
    },
    {
      "cell_type": "markdown",
      "metadata": {
        "id": "VG6LBKGnz7jT",
        "colab_type": "text"
      },
      "source": [
        "## Step 4: Building a Recurrent Neural Network"
      ]
    },
    {
      "cell_type": "markdown",
      "metadata": {
        "id": "TUVnz-9K0DcW",
        "colab_type": "text"
      },
      "source": [
        "### Defining the model"
      ]
    },
    {
      "cell_type": "code",
      "metadata": {
        "id": "N2GHzwk6OMrV",
        "colab_type": "code",
        "colab": {}
      },
      "source": [
        "model = tf.keras.Sequential()"
      ],
      "execution_count": 0,
      "outputs": []
    },
    {
      "cell_type": "markdown",
      "metadata": {
        "id": "lnXJZYR-0HXE",
        "colab_type": "text"
      },
      "source": [
        "### Adding the embedding layer"
      ]
    },
    {
      "cell_type": "code",
      "metadata": {
        "id": "UWqC0DXbO9FU",
        "colab_type": "code",
        "colab": {}
      },
      "source": [
        "model.add(tf.keras.layers.Embedding(input_dim=number_of_words, output_dim=128, input_shape=(X_train_p.shape[1],)))"
      ],
      "execution_count": 0,
      "outputs": []
    },
    {
      "cell_type": "code",
      "metadata": {
        "id": "GWT_rMlaS8Kr",
        "colab_type": "code",
        "colab": {
          "base_uri": "https://localhost:8080/",
          "height": 184
        },
        "outputId": "68a1652c-e839-4ef4-acca-501ff6a4b279"
      },
      "source": [
        "model.summary()"
      ],
      "execution_count": 47,
      "outputs": [
        {
          "output_type": "stream",
          "text": [
            "Model: \"sequential_2\"\n",
            "_________________________________________________________________\n",
            "Layer (type)                 Output Shape              Param #   \n",
            "=================================================================\n",
            "embedding_2 (Embedding)      (None, 500, 128)          27245056  \n",
            "=================================================================\n",
            "Total params: 27,245,056\n",
            "Trainable params: 27,245,056\n",
            "Non-trainable params: 0\n",
            "_________________________________________________________________\n"
          ],
          "name": "stdout"
        }
      ]
    },
    {
      "cell_type": "markdown",
      "metadata": {
        "id": "CM-lpTZX1mEG",
        "colab_type": "text"
      },
      "source": [
        "### Adding the LSTM layer\n",
        "\n",
        "- units: 128\n",
        "- activation: tanh"
      ]
    },
    {
      "cell_type": "code",
      "metadata": {
        "id": "5W7IXqhjQpAl",
        "colab_type": "code",
        "colab": {
          "base_uri": "https://localhost:8080/",
          "height": 53
        },
        "outputId": "ec2cd6ed-7b8a-4325-e4b9-ba4315f8889d"
      },
      "source": [
        "model.add(tf.keras.layers.LSTM(units=128, activation='tanh'))"
      ],
      "execution_count": 48,
      "outputs": [
        {
          "output_type": "stream",
          "text": [
            "W0721 15:47:47.290005 140677731428224 tf_logging.py:161] <tensorflow.python.keras.layers.recurrent.UnifiedLSTM object at 0x7ff16c380278>: Note that this layer is not optimized for performance. Please use tf.keras.layers.CuDNNLSTM for better performance on GPU.\n"
          ],
          "name": "stderr"
        }
      ]
    },
    {
      "cell_type": "markdown",
      "metadata": {
        "id": "9T9M5Ult10XM",
        "colab_type": "text"
      },
      "source": [
        "### Adding the output layer\n",
        "\n",
        "- units: 1\n",
        "- activation: sigmoid"
      ]
    },
    {
      "cell_type": "code",
      "metadata": {
        "id": "xe1nHzq7Q91-",
        "colab_type": "code",
        "colab": {}
      },
      "source": [
        "model.add(tf.keras.layers.Dense(units=len(ylabels), activation='softmax'))"
      ],
      "execution_count": 0,
      "outputs": []
    },
    {
      "cell_type": "markdown",
      "metadata": {
        "id": "VWcqM4Yr2ALS",
        "colab_type": "text"
      },
      "source": [
        "### Compiling the model"
      ]
    },
    {
      "cell_type": "code",
      "metadata": {
        "id": "-z9ACOXcRUUN",
        "colab_type": "code",
        "colab": {}
      },
      "source": [
        "model.compile(optimizer='adam', loss='sparse_categorical_crossentropy', metrics=['sparse_categorical_accuracy'])"
      ],
      "execution_count": 0,
      "outputs": []
    },
    {
      "cell_type": "code",
      "metadata": {
        "id": "PiolKKO6RjVF",
        "colab_type": "code",
        "colab": {
          "base_uri": "https://localhost:8080/",
          "height": 250
        },
        "outputId": "ecba6b26-a61f-4a6a-b416-f9acccb4fc2e"
      },
      "source": [
        "model.summary()"
      ],
      "execution_count": 70,
      "outputs": [
        {
          "output_type": "stream",
          "text": [
            "Model: \"sequential_11\"\n",
            "_________________________________________________________________\n",
            "Layer (type)                 Output Shape              Param #   \n",
            "=================================================================\n",
            "embedding_11 (Embedding)     (None, 500, 128)          27245056  \n",
            "_________________________________________________________________\n",
            "unified_lstm_11 (UnifiedLSTM (None, 128)               131584    \n",
            "_________________________________________________________________\n",
            "dense_11 (Dense)             (None, 6)                 774       \n",
            "=================================================================\n",
            "Total params: 27,377,414\n",
            "Trainable params: 27,377,414\n",
            "Non-trainable params: 0\n",
            "_________________________________________________________________\n"
          ],
          "name": "stdout"
        }
      ]
    },
    {
      "cell_type": "markdown",
      "metadata": {
        "id": "2bPUvbfe2GJI",
        "colab_type": "text"
      },
      "source": [
        "### Training the model"
      ]
    },
    {
      "cell_type": "code",
      "metadata": {
        "id": "9FqUTA1CRpQ8",
        "colab_type": "code",
        "colab": {
          "base_uri": "https://localhost:8080/",
          "height": 237
        },
        "outputId": "235eb92e-0052-4c68-f11f-d72106685dde"
      },
      "source": [
        "model.fit(X_train_p, y_train, epochs=5, batch_size=16,validation_split=0.1)"
      ],
      "execution_count": 54,
      "outputs": [
        {
          "output_type": "stream",
          "text": [
            "Train on 5745 samples, validate on 1437 samples\n",
            "Epoch 1/5\n",
            "5745/5745 [==============================] - 14s 2ms/sample - loss: 0.5600 - sparse_categorical_accuracy: 0.8176 - val_loss: 1.2281 - val_sparse_categorical_accuracy: 0.5992\n",
            "Epoch 2/5\n",
            "5745/5745 [==============================] - 14s 2ms/sample - loss: 0.3160 - sparse_categorical_accuracy: 0.9046 - val_loss: 1.2276 - val_sparse_categorical_accuracy: 0.6388\n",
            "Epoch 3/5\n",
            "5745/5745 [==============================] - 14s 2ms/sample - loss: 0.1499 - sparse_categorical_accuracy: 0.9589 - val_loss: 1.2916 - val_sparse_categorical_accuracy: 0.6395\n",
            "Epoch 4/5\n",
            "5745/5745 [==============================] - 14s 2ms/sample - loss: 0.0995 - sparse_categorical_accuracy: 0.9753 - val_loss: 1.3711 - val_sparse_categorical_accuracy: 0.6646\n",
            "Epoch 5/5\n",
            "5745/5745 [==============================] - 14s 2ms/sample - loss: 0.0737 - sparse_categorical_accuracy: 0.9788 - val_loss: 1.4102 - val_sparse_categorical_accuracy: 0.6632\n"
          ],
          "name": "stdout"
        },
        {
          "output_type": "execute_result",
          "data": {
            "text/plain": [
              "<tensorflow.python.keras.callbacks.History at 0x7ff1402552e8>"
            ]
          },
          "metadata": {
            "tags": []
          },
          "execution_count": 54
        }
      ]
    },
    {
      "cell_type": "markdown",
      "metadata": {
        "id": "-wMo2wYpbCgb",
        "colab_type": "text"
      },
      "source": [
        "### Evaluating the model"
      ]
    },
    {
      "cell_type": "code",
      "metadata": {
        "id": "a8kD_6q-RySO",
        "colab_type": "code",
        "colab": {
          "base_uri": "https://localhost:8080/",
          "height": 33
        },
        "outputId": "bffeeb40-2d85-42cd-84ef-f536d9b3eb87"
      },
      "source": [
        "test_loss, test_acurracy = model.evaluate(X_test_p, y_test)\n",
        "print(\"Test accuracy: {}\".format(test_acurracy))"
      ],
      "execution_count": 55,
      "outputs": [
        {
          "output_type": "stream",
          "text": [
            "1795/1795 [==============================] - 1s 411us/sample - loss: 1.3912 - sparse_categorical_accuracy: 0.6680\n"
          ],
          "name": "stdout"
        }
      ]
    },
    {
      "cell_type": "markdown",
      "metadata": {
        "id": "LH4stJ6BbaOR",
        "colab_type": "text"
      },
      "source": [
        "## Step 5: Evaluate other architrectures\n",
        "\n",
        "Inspiration for various architectures comes from [here](https://realpython.com/python-keras-text-classification/#convolutional-neural-networks-cnn)\n",
        "\n"
      ]
    },
    {
      "cell_type": "markdown",
      "metadata": {
        "id": "PDKVREq0bpuI",
        "colab_type": "text"
      },
      "source": [
        "###  LSTM Baseline"
      ]
    },
    {
      "cell_type": "code",
      "metadata": {
        "colab_type": "code",
        "id": "TPCqRcFqhN1i",
        "colab": {}
      },
      "source": [
        "model_name = \"_lstm\""
      ],
      "execution_count": 0,
      "outputs": []
    },
    {
      "cell_type": "code",
      "metadata": {
        "id": "byyBa3ohZ5Ui",
        "colab_type": "code",
        "colab": {
          "base_uri": "https://localhost:8080/",
          "height": 826
        },
        "outputId": "ec2cde46-2e18-441c-d149-56e2c4ea4f9f"
      },
      "source": [
        "model = tf.keras.Sequential()\n",
        "model.add(tf.keras.layers.Embedding(input_dim=number_of_words, output_dim=128, input_shape=(X_train_p.shape[1],)))\n",
        "model.add(tf.keras.layers.LSTM(units=128, activation='tanh'))\n",
        "#model.add(tf.keras.layers.GlobalAveragePooling1D())\n",
        "#model.add(tf.keras.layers.Dense(units=128, activation='relu'))\n",
        "#model.add(tf.keras.layers.BatchNormalization())\n",
        "#model.add(tf.keras.layers.Dropout(0.2))\n",
        "#model.add(tf.keras.layers.Dense(units=128, activation='relu'))\n",
        "#model.add(tf.keras.layers.BatchNormalization())\n",
        "#model.add(tf.keras.layers.Dropout(0.2))\n",
        "#model.add(tf.keras.layers.Dense(units=1, activation='sigmoid'))\n",
        "model.add(tf.keras.layers.Dense(units=len(ylabels), activation='softmax'))\n",
        "model.compile(optimizer='adam', loss='sparse_categorical_crossentropy', metrics=['sparse_categorical_accuracy'])\n",
        "history = model.fit(X_train_p, y_train, epochs=5, batch_size=128,validation_split=0.1)\n",
        "plot_history(history)\n",
        "test_loss, test_acurracy = model.evaluate(X_test_p, y_test)\n",
        "print(\"Test accuracy: {}\".format(test_acurracy))"
      ],
      "execution_count": 69,
      "outputs": [
        {
          "output_type": "stream",
          "text": [
            "W0721 16:09:24.124069 140677731428224 tf_logging.py:161] <tensorflow.python.keras.layers.recurrent.UnifiedLSTM object at 0x7ff0a6d9c390>: Note that this layer is not optimized for performance. Please use tf.keras.layers.CuDNNLSTM for better performance on GPU.\n"
          ],
          "name": "stderr"
        },
        {
          "output_type": "stream",
          "text": [
            "Train on 6463 samples, validate on 719 samples\n",
            "Epoch 1/5\n",
            "6463/6463 [==============================] - 3s 481us/sample - loss: 1.7021 - sparse_categorical_accuracy: 0.2722 - val_loss: 1.5524 - val_sparse_categorical_accuracy: 0.3866\n",
            "Epoch 2/5\n",
            "6463/6463 [==============================] - 3s 421us/sample - loss: 1.2820 - sparse_categorical_accuracy: 0.4810 - val_loss: 1.1481 - val_sparse_categorical_accuracy: 0.5327\n",
            "Epoch 3/5\n",
            "6463/6463 [==============================] - 3s 418us/sample - loss: 0.7489 - sparse_categorical_accuracy: 0.7472 - val_loss: 0.9774 - val_sparse_categorical_accuracy: 0.6467\n",
            "Epoch 4/5\n",
            "6463/6463 [==============================] - 3s 424us/sample - loss: 0.4262 - sparse_categorical_accuracy: 0.8717 - val_loss: 0.9912 - val_sparse_categorical_accuracy: 0.6745\n",
            "Epoch 5/5\n",
            "6463/6463 [==============================] - 3s 421us/sample - loss: 0.2695 - sparse_categorical_accuracy: 0.9248 - val_loss: 1.0104 - val_sparse_categorical_accuracy: 0.6968\n"
          ],
          "name": "stdout"
        },
        {
          "output_type": "display_data",
          "data": {
            "image/png": "[encoded data removed]",
            "text/plain": [
              "<Figure size 432x288 with 1 Axes>"
            ]
          },
          "metadata": {
            "tags": []
          }
        },
        {
          "output_type": "display_data",
          "data": {
            "image/png": "[encoded data removed]",
            "text/plain": [
              "<Figure size 432x288 with 1 Axes>"
            ]
          },
          "metadata": {
            "tags": []
          }
        },
        {
          "output_type": "stream",
          "text": [
            "1795/1795 [==============================] - 1s 328us/sample - loss: 1.0176 - sparse_categorical_accuracy: 0.6947\n",
            "Test accuracy: 0.6947075128555298\n"
          ],
          "name": "stdout"
        }
      ]
    },
    {
      "cell_type": "markdown",
      "metadata": {
        "id": "3Km7Miqgbwx4",
        "colab_type": "text"
      },
      "source": [
        "### Global max pooling after Embedding layer"
      ]
    },
    {
      "cell_type": "code",
      "metadata": {
        "colab_type": "code",
        "id": "30iIYz5khI9U",
        "colab": {}
      },
      "source": [
        "model_name = \"_globmaxp\""
      ],
      "execution_count": 0,
      "outputs": []
    },
    {
      "cell_type": "code",
      "metadata": {
        "id": "theuV5LjTrFA",
        "colab_type": "code",
        "colab": {
          "base_uri": "https://localhost:8080/",
          "height": 1000
        },
        "outputId": "9837aac0-efa9-4741-8bec-0dc741336763"
      },
      "source": [
        "model = tf.keras.Sequential()\n",
        "model.add(tf.keras.layers.Embedding(input_dim=number_of_words, output_dim=128, input_shape=(X_train_p.shape[1],)))\n",
        "#model.add(tf.keras.layers.Flatten())\n",
        "model.add(tf.keras.layers.GlobalMaxPooling1D())\n",
        "#model.add(tf.keras.layers.LSTM(units=128, activation='tanh'))\n",
        "#model.add(tf.keras.layers.GlobalAveragePooling1D())\n",
        "#model.add(tf.keras.layers.Dense(units=128, activation='relu'))\n",
        "#model.add(tf.keras.layers.BatchNormalization())\n",
        "#model.add(tf.keras.layers.Dropout(0.2))\n",
        "#model.add(tf.keras.layers.Dense(units=128, activation='relu'))\n",
        "#model.add(tf.keras.layers.BatchNormalization())\n",
        "#model.add(tf.keras.layers.Dropout(0.2))\n",
        "#model.add(tf.keras.layers.Dense(units=1, activation='sigmoid'))\n",
        "model.add(tf.keras.layers.Dense(units=len(ylabels), activation='softmax'))\n",
        "model.compile(optimizer='adam', loss='sparse_categorical_crossentropy', metrics=['sparse_categorical_accuracy'])\n",
        "model.summary()\n",
        "history = model.fit(X_train_p, y_train, epochs=10, batch_size=128,validation_split=0.1)\n",
        "plot_history(history)\n",
        "test_loss, test_acurracy = model.evaluate(X_test_p, y_test)\n",
        "print(\"Test accuracy: {}\".format(test_acurracy))"
      ],
      "execution_count": 84,
      "outputs": [
        {
          "output_type": "stream",
          "text": [
            "Model: \"sequential_22\"\n",
            "_________________________________________________________________\n",
            "Layer (type)                 Output Shape              Param #   \n",
            "=================================================================\n",
            "embedding_22 (Embedding)     (None, 500, 128)          27245056  \n",
            "_________________________________________________________________\n",
            "global_max_pooling1d_3 (Glob (None, 128)               0         \n",
            "_________________________________________________________________\n",
            "dense_20 (Dense)             (None, 6)                 774       \n",
            "=================================================================\n",
            "Total params: 27,245,830\n",
            "Trainable params: 27,245,830\n",
            "Non-trainable params: 0\n",
            "_________________________________________________________________\n",
            "Train on 6463 samples, validate on 719 samples\n",
            "Epoch 1/10\n",
            "6463/6463 [==============================] - 1s 192us/sample - loss: 1.7674 - sparse_categorical_accuracy: 0.2409 - val_loss: 1.7283 - val_sparse_categorical_accuracy: 0.2990\n",
            "Epoch 2/10\n",
            "6463/6463 [==============================] - 1s 161us/sample - loss: 1.6695 - sparse_categorical_accuracy: 0.3963 - val_loss: 1.6066 - val_sparse_categorical_accuracy: 0.4743\n",
            "Epoch 3/10\n",
            "6463/6463 [==============================] - 1s 159us/sample - loss: 1.4913 - sparse_categorical_accuracy: 0.6025 - val_loss: 1.4053 - val_sparse_categorical_accuracy: 0.6314\n",
            "Epoch 4/10\n",
            "6463/6463 [==============================] - 1s 159us/sample - loss: 1.2421 - sparse_categorical_accuracy: 0.7442 - val_loss: 1.1735 - val_sparse_categorical_accuracy: 0.7357\n",
            "Epoch 5/10\n",
            "6463/6463 [==============================] - 1s 160us/sample - loss: 0.9896 - sparse_categorical_accuracy: 0.8193 - val_loss: 0.9779 - val_sparse_categorical_accuracy: 0.7719\n",
            "Epoch 6/10\n",
            "6463/6463 [==============================] - 1s 158us/sample - loss: 0.7872 - sparse_categorical_accuracy: 0.8447 - val_loss: 0.8428 - val_sparse_categorical_accuracy: 0.7775\n",
            "Epoch 7/10\n",
            "6463/6463 [==============================] - 1s 158us/sample - loss: 0.6426 - sparse_categorical_accuracy: 0.8640 - val_loss: 0.7560 - val_sparse_categorical_accuracy: 0.7844\n",
            "Epoch 8/10\n",
            "6463/6463 [==============================] - 1s 157us/sample - loss: 0.5394 - sparse_categorical_accuracy: 0.8758 - val_loss: 0.7001 - val_sparse_categorical_accuracy: 0.7886\n",
            "Epoch 9/10\n",
            "6463/6463 [==============================] - 1s 158us/sample - loss: 0.4617 - sparse_categorical_accuracy: 0.8915 - val_loss: 0.6614 - val_sparse_categorical_accuracy: 0.7928\n",
            "Epoch 10/10\n",
            "6463/6463 [==============================] - 1s 161us/sample - loss: 0.4000 - sparse_categorical_accuracy: 0.9061 - val_loss: 0.6329 - val_sparse_categorical_accuracy: 0.7942\n"
          ],
          "name": "stdout"
        },
        {
          "output_type": "display_data",
          "data": {
            "image/png": "[encoded data removed]",
            "text/plain": [
              "<Figure size 432x288 with 1 Axes>"
            ]
          },
          "metadata": {
            "tags": []
          }
        },
        {
          "output_type": "display_data",
          "data": {
            "image/png": "[encoded data removed]",
            "text/plain": [
              "<Figure size 432x288 with 1 Axes>"
            ]
          },
          "metadata": {
            "tags": []
          }
        },
        {
          "output_type": "stream",
          "text": [
            "1795/1795 [==============================] - 0s 69us/sample - loss: 0.6242 - sparse_categorical_accuracy: 0.8050\n",
            "Test accuracy: 0.8050139546394348\n"
          ],
          "name": "stdout"
        }
      ]
    },
    {
      "cell_type": "markdown",
      "metadata": {
        "id": "XQWnpgwxcEpA",
        "colab_type": "text"
      },
      "source": [
        "### 1D Convolution + MaxPooling + Flattening"
      ]
    },
    {
      "cell_type": "code",
      "metadata": {
        "colab_type": "code",
        "id": "Hsc5F6VLhDW2",
        "colab": {}
      },
      "source": [
        "model_name = \"_1dconv_axp_flat\""
      ],
      "execution_count": 0,
      "outputs": []
    },
    {
      "cell_type": "code",
      "metadata": {
        "id": "oi2_x9kiYQlx",
        "colab_type": "code",
        "colab": {
          "base_uri": "https://localhost:8080/",
          "height": 1000
        },
        "outputId": "c1568591-ab79-4197-de26-af7f96070a18"
      },
      "source": [
        "model = tf.keras.Sequential()\n",
        "model.add(tf.keras.layers.Embedding(input_dim=number_of_words, output_dim=128, input_shape=(X_train_p.shape[1],)))\n",
        "#model.add(tf.keras.layers.Flatten())\n",
        "model.add(tf.keras.layers.Conv1D(128, 5, activation='relu'))\n",
        "model.add(tf.keras.layers.MaxPooling1D(pool_size=4))\n",
        "model.add(tf.keras.layers.Flatten())\n",
        "#model.add(tf.keras.layers.LSTM(units=128, activation='tanh'))\n",
        "#model.add(tf.keras.layers.GlobalAveragePooling1D())\n",
        "#model.add(tf.keras.layers.Dense(units=128, activation='relu'))\n",
        "#model.add(tf.keras.layers.BatchNormalization())\n",
        "#model.add(tf.keras.layers.Dropout(0.2))\n",
        "model.add(tf.keras.layers.Dense(units=len(ylabels), activation='softmax'))\n",
        "model.compile(optimizer='adam', loss='sparse_categorical_crossentropy', metrics=['sparse_categorical_accuracy'])\n",
        "model.summary()\n",
        "history = model.fit(X_train_p, y_train, epochs=10, batch_size=128,validation_split=0.1)\n",
        "plot_history(history)\n",
        "test_loss, test_acurracy = model.evaluate(X_test_p, y_test)\n",
        "print(\"Test accuracy: {}\".format(test_acurracy))\n"
      ],
      "execution_count": 101,
      "outputs": [
        {
          "output_type": "stream",
          "text": [
            "Model: \"sequential_36\"\n",
            "_________________________________________________________________\n",
            "Layer (type)                 Output Shape              Param #   \n",
            "=================================================================\n",
            "embedding_36 (Embedding)     (None, 500, 128)          27245056  \n",
            "_________________________________________________________________\n",
            "conv1d_3 (Conv1D)            (None, 496, 128)          82048     \n",
            "_________________________________________________________________\n",
            "max_pooling1d_14 (MaxPooling (None, 124, 128)          0         \n",
            "_________________________________________________________________\n",
            "flatten_13 (Flatten)         (None, 15872)             0         \n",
            "_________________________________________________________________\n",
            "dense_38 (Dense)             (None, 6)                 95238     \n",
            "=================================================================\n",
            "Total params: 27,422,342\n",
            "Trainable params: 27,422,342\n",
            "Non-trainable params: 0\n",
            "_________________________________________________________________\n",
            "Train on 6463 samples, validate on 719 samples\n",
            "Epoch 1/10\n",
            "6463/6463 [==============================] - 2s 264us/sample - loss: 1.7356 - sparse_categorical_accuracy: 0.2420 - val_loss: 1.5616 - val_sparse_categorical_accuracy: 0.4367\n",
            "Epoch 2/10\n",
            "6463/6463 [==============================] - 1s 221us/sample - loss: 0.9338 - sparse_categorical_accuracy: 0.6862 - val_loss: 0.6879 - val_sparse_categorical_accuracy: 0.7858\n",
            "Epoch 3/10\n",
            "6463/6463 [==============================] - 1s 222us/sample - loss: 0.3468 - sparse_categorical_accuracy: 0.9061 - val_loss: 0.6396 - val_sparse_categorical_accuracy: 0.8039\n",
            "Epoch 4/10\n",
            "6463/6463 [==============================] - 1s 222us/sample - loss: 0.1592 - sparse_categorical_accuracy: 0.9622 - val_loss: 0.6896 - val_sparse_categorical_accuracy: 0.8095\n",
            "Epoch 5/10\n",
            "6463/6463 [==============================] - 1s 224us/sample - loss: 0.1180 - sparse_categorical_accuracy: 0.9751 - val_loss: 0.7137 - val_sparse_categorical_accuracy: 0.8275\n",
            "Epoch 6/10\n",
            "6463/6463 [==============================] - 1s 221us/sample - loss: 0.0973 - sparse_categorical_accuracy: 0.9799 - val_loss: 0.7240 - val_sparse_categorical_accuracy: 0.8081\n",
            "Epoch 7/10\n",
            "6463/6463 [==============================] - 1s 222us/sample - loss: 0.0878 - sparse_categorical_accuracy: 0.9796 - val_loss: 0.7572 - val_sparse_categorical_accuracy: 0.8150\n",
            "Epoch 8/10\n",
            "6463/6463 [==============================] - 1s 221us/sample - loss: 0.0849 - sparse_categorical_accuracy: 0.9802 - val_loss: 0.7707 - val_sparse_categorical_accuracy: 0.8081\n",
            "Epoch 9/10\n",
            "6463/6463 [==============================] - 1s 224us/sample - loss: 0.0725 - sparse_categorical_accuracy: 0.9807 - val_loss: 0.7635 - val_sparse_categorical_accuracy: 0.8136\n",
            "Epoch 10/10\n",
            "6463/6463 [==============================] - 1s 223us/sample - loss: 0.0746 - sparse_categorical_accuracy: 0.9803 - val_loss: 0.7720 - val_sparse_categorical_accuracy: 0.8136\n"
          ],
          "name": "stdout"
        },
        {
          "output_type": "display_data",
          "data": {
            "image/png": "[encoded data removed]",
            "text/plain": [
              "<Figure size 432x288 with 1 Axes>"
            ]
          },
          "metadata": {
            "tags": []
          }
        },
        {
          "output_type": "display_data",
          "data": {
            "image/png": "[encoded data removed]",
            "text/plain": [
              "<Figure size 432x288 with 1 Axes>"
            ]
          },
          "metadata": {
            "tags": []
          }
        },
        {
          "output_type": "stream",
          "text": [
            "1795/1795 [==============================] - 0s 96us/sample - loss: 0.8123 - sparse_categorical_accuracy: 0.7994\n",
            "Test accuracy: 0.7994428873062134\n"
          ],
          "name": "stdout"
        }
      ]
    },
    {
      "cell_type": "markdown",
      "metadata": {
        "id": "-yC181-Gb7u4",
        "colab_type": "text"
      },
      "source": [
        "### MaxPooling (local) + Flattening"
      ]
    },
    {
      "cell_type": "code",
      "metadata": {
        "id": "ApkBtsyfg24C",
        "colab_type": "code",
        "colab": {}
      },
      "source": [
        "model_name = \"_maxp_flat\""
      ],
      "execution_count": 0,
      "outputs": []
    },
    {
      "cell_type": "code",
      "metadata": {
        "id": "bCvgbLnfZ51x",
        "colab_type": "code",
        "colab": {
          "base_uri": "https://localhost:8080/",
          "height": 1000
        },
        "outputId": "b32acbba-85de-4058-f810-fa703afb5a7e"
      },
      "source": [
        "\n",
        "model = tf.keras.Sequential()\n",
        "model.add(tf.keras.layers.Embedding(input_dim=number_of_words, output_dim=128, input_shape=(X_train_p.shape[1],)))\n",
        "#model.add(tf.keras.layers.Flatten())\n",
        "model.add(tf.keras.layers.MaxPooling1D(pool_size=8))\n",
        "model.add(tf.keras.layers.Flatten())\n",
        "#model.add(tf.keras.layers.LSTM(units=128, activation='tanh'))\n",
        "#model.add(tf.keras.layers.GlobalAveragePooling1D())\n",
        "#model.add(tf.keras.layers.Dense(units=128, activation='relu'))\n",
        "#model.add(tf.keras.layers.BatchNormalization())\n",
        "#model.add(tf.keras.layers.Dropout(0.2))\n",
        "#model.add(tf.keras.layers.Dense(units=128, activation='relu'))\n",
        "#model.add(tf.keras.layers.BatchNormalization())\n",
        "#model.add(tf.keras.layers.Dropout(0.2))\n",
        "#model.add(tf.keras.layers.Dense(units=1, activation='sigmoid'))\n",
        "model.add(tf.keras.layers.Dense(units=len(ylabels), activation='softmax'))\n",
        "model.compile(optimizer='adam', loss='sparse_categorical_crossentropy', metrics=['sparse_categorical_accuracy'])\n",
        "model.summary()\n",
        "history = model.fit(X_train_p, y_train, epochs=10, batch_size=128,validation_split=0.1)\n",
        "plot_history(history)\n",
        "test_loss, test_acurracy = model.evaluate(X_test_p, y_test)\n",
        "print(\"Test accuracy: {}\".format(test_acurracy))\n",
        "\n"
      ],
      "execution_count": 104,
      "outputs": [
        {
          "output_type": "stream",
          "text": [
            "Model: \"sequential_37\"\n",
            "_________________________________________________________________\n",
            "Layer (type)                 Output Shape              Param #   \n",
            "=================================================================\n",
            "embedding_37 (Embedding)     (None, 500, 128)          27245056  \n",
            "_________________________________________________________________\n",
            "max_pooling1d_15 (MaxPooling (None, 62, 128)           0         \n",
            "_________________________________________________________________\n",
            "flatten_14 (Flatten)         (None, 7936)              0         \n",
            "_________________________________________________________________\n",
            "dense_39 (Dense)             (None, 6)                 47622     \n",
            "=================================================================\n",
            "Total params: 27,292,678\n",
            "Trainable params: 27,292,678\n",
            "Non-trainable params: 0\n",
            "_________________________________________________________________\n",
            "Train on 6463 samples, validate on 719 samples\n",
            "Epoch 1/10\n",
            "6463/6463 [==============================] - 1s 190us/sample - loss: 1.7616 - sparse_categorical_accuracy: 0.2210 - val_loss: 1.7320 - val_sparse_categorical_accuracy: 0.2378\n",
            "Epoch 2/10\n",
            "6463/6463 [==============================] - 1s 160us/sample - loss: 1.5599 - sparse_categorical_accuracy: 0.4298 - val_loss: 1.3948 - val_sparse_categorical_accuracy: 0.5841\n",
            "Epoch 3/10\n",
            "6463/6463 [==============================] - 1s 157us/sample - loss: 0.9789 - sparse_categorical_accuracy: 0.7616 - val_loss: 0.9100 - val_sparse_categorical_accuracy: 0.7024\n",
            "Epoch 4/10\n",
            "6463/6463 [==============================] - 1s 155us/sample - loss: 0.5433 - sparse_categorical_accuracy: 0.8838 - val_loss: 0.7045 - val_sparse_categorical_accuracy: 0.7942\n",
            "Epoch 5/10\n",
            "6463/6463 [==============================] - 1s 156us/sample - loss: 0.3346 - sparse_categorical_accuracy: 0.9353 - val_loss: 0.6341 - val_sparse_categorical_accuracy: 0.8067\n",
            "Epoch 6/10\n",
            "6463/6463 [==============================] - 1s 158us/sample - loss: 0.2221 - sparse_categorical_accuracy: 0.9571 - val_loss: 0.6027 - val_sparse_categorical_accuracy: 0.8067\n",
            "Epoch 7/10\n",
            "6463/6463 [==============================] - 1s 155us/sample - loss: 0.1587 - sparse_categorical_accuracy: 0.9675 - val_loss: 0.5939 - val_sparse_categorical_accuracy: 0.8289\n",
            "Epoch 8/10\n",
            "6463/6463 [==============================] - 1s 155us/sample - loss: 0.1197 - sparse_categorical_accuracy: 0.9735 - val_loss: 0.5830 - val_sparse_categorical_accuracy: 0.8136\n",
            "Epoch 9/10\n",
            "6463/6463 [==============================] - 1s 156us/sample - loss: 0.0986 - sparse_categorical_accuracy: 0.9777 - val_loss: 0.5879 - val_sparse_categorical_accuracy: 0.8261\n",
            "Epoch 10/10\n",
            "6463/6463 [==============================] - 1s 156us/sample - loss: 0.0826 - sparse_categorical_accuracy: 0.9797 - val_loss: 0.5748 - val_sparse_categorical_accuracy: 0.8331\n"
          ],
          "name": "stdout"
        },
        {
          "output_type": "display_data",
          "data": {
            "image/png": "[encoded data removed]",
            "text/plain": [
              "<Figure size 432x288 with 1 Axes>"
            ]
          },
          "metadata": {
            "tags": []
          }
        },
        {
          "output_type": "display_data",
          "data": {
            "image/png": "[encoded data removed]",
            "text/plain": [
              "<Figure size 432x288 with 1 Axes>"
            ]
          },
          "metadata": {
            "tags": []
          }
        },
        {
          "output_type": "stream",
          "text": [
            "1795/1795 [==============================] - 0s 70us/sample - loss: 0.6078 - sparse_categorical_accuracy: 0.8262\n",
            "Test accuracy: 0.8261838555335999\n"
          ],
          "name": "stdout"
        }
      ]
    },
    {
      "cell_type": "code",
      "metadata": {
        "id": "vYUx-dDNeHly",
        "colab_type": "code",
        "colab": {}
      },
      "source": [
        ""
      ],
      "execution_count": 0,
      "outputs": []
    },
    {
      "cell_type": "code",
      "metadata": {
        "id": "3VBE9T5JTU7V",
        "colab_type": "code",
        "colab": {
          "base_uri": "https://localhost:8080/",
          "height": 1000
        },
        "outputId": "93558123-dbc9-4524-b102-713bd1af42db"
      },
      "source": [
        "import textwrap\n",
        "\n",
        "size = 3\n",
        "sample = np.random.choice(range(len(X_test)),size)\n",
        "predictions = model.predict_classes(X_test_p[sample])\n",
        "for idx,i in enumerate(sample):\n",
        "    print(f'Review #{i} - P:{ylabels[predictions[idx]]},A:{ylabels[y_test[sample[idx]]]}')\n",
        "    s = ' '.join(id_to_word[id] for id in X_test[i])\n",
        "    print('\\n'.join(textwrap.wrap(s, width=120, replace_whitespace=False)))\n",
        "    print()"
      ],
      "execution_count": 105,
      "outputs": [
        {
          "output_type": "stream",
          "text": [
            "Review #105 - P:Health,A:Health\n",
            "protein digestibility refers to how well a given protein is digested along with the amino acid score protein\n",
            "digestibility determines the values for pdcaas and xxxunk references\n",
            "\n",
            "Review #1454 - P:Health,A:Health\n",
            "effective safety training is an unofficial phrase used to describe the training materials designed to teach occupational\n",
            "safety and health standards developed by the united states government labor organization occupational safety and health\n",
            "administration osha osha has produced many standards and regulations that affect employers and employees in the united\n",
            "states united states employers have a legal responsibility to educate employees on all workplace safety standards and\n",
            "the hazards that their employees may face while on the job and providing effective safety training meets that\n",
            "responsibility as enterprises employers must have an overall safety program including relative site specific safety\n",
            "information where applicable the safety training program should cover topics such as accident prevention and safety\n",
            "promotion safety compliance accident and emergency response personal protective equipment safety practices equipment and\n",
            "machinery chemical and hazardous materials safety workplace hazards employee xxxunk must document all training creating\n",
            "a training matrix will help keep track of who has been trained when they were trained the training topic and when it is\n",
            "time for xxxunk training employees must also sign an official sign in sheet provided by the employer that can serve as\n",
            "proof that employees received proper training the sign in sheet must have a broad description of what is being covered\n",
            "in the training tests or xxxunk on the presented material can help gauge employee understanding of the material and\n",
            "highlight topics that need to be reviewed the non english speaking population is consistently growing in many industries\n",
            "and it is important that employers provide bilingual training for those workers as osha requires that all employees be\n",
            "properly trained most employees display attitudes of xxxunk and xxxunk at the thought of attending a safety training\n",
            "which can leave the trainer feeling frustrated and xxxunk it is the xxxunk duty to make safety training fun and\n",
            "educational which will help the xxxunk to retain the information enjoy the course and apply the learning to their work\n",
            "and lives benefits of a training program an effective training program can reduce the number of injuries and deaths\n",
            "property damage legal liability illnesses workers' compensation claims and missed time from work an effective safety\n",
            "training program can also help a trainer keep the required osha mandated safety training courses organized and up to\n",
            "date safety training classes help establish a safety culture in which employees themselves help promote proper safety\n",
            "procedures while on the job it is important that new employees be properly trained and embrace the importance of\n",
            "workplace safety as it is easy for xxxunk workers to negatively influence the new xxxunk that negative influence however\n",
            "can be xxxunk with the establishment of new hands on innovative effective safety training which will ultimately lead to\n",
            "an effective safety culture a 1998 niosh study concluded that the role of training in developing and maintaining\n",
            "effective hazard control activities is a proven and successful method of intervention osha's voluntary training\n",
            "guidelines osha issued voluntary training guidelines in 1992 these guidelines serve as a model for xxxunk to use in\n",
            "developing organizing evaluating and editing their safety training programs it is important for xxxunk to tailor the\n",
            "osha guidelines to their specific work site so that the training is relevant to the specific working conditions and not\n",
            "just a long generalized informational session many standards promulgated by osha explicitly require the employer to\n",
            "train employees in the safety and health aspects of their jobs other osha standards make it the xxxunk responsibility to\n",
            "limit certain job assignments to employees who are certified competent or qualified xxxunk that they have had special\n",
            "previous training in or out of the workplace the term designated personnel means selected or assigned by the employer or\n",
            "the xxxunk representative as being qualified to perform specific duties these requirements reflect osha's belief that\n",
            "training is an essential part of every xxxunk safety and health program for protecting workers from injuries and\n",
            "illnesses osha's training guidelines follow a model that consists of a determining if training is needed b identifying\n",
            "training needs c identifying goals and objectives d developing learning activities e conducting the training f\n",
            "evaluating program effectiveness g improving the program h training must align with job tasks a determining if training\n",
            "is xxxunk first have to determine if a situation can be solved using training training or retraining as the case may be\n",
            "could be required by an osha standard training is an effective solution to problems such as employee lack of\n",
            "understanding xxxunk with equipment incorrect execution of a task lack of attention or lack of motivation sometimes\n",
            "however the situation cannot be mitigated through the use of training and other methods such as the establishment of\n",
            "engineering controls may be needed to ensure worker safety b identifying training xxxunk job safety analysis and or a\n",
            "job hazard analysis should be conducted with every employee so that it is understood what is needed to do the job safely\n",
            "and what hazards are associated with the job a safety trainer may observe the worker in his her environment to\n",
            "adequately assess the worker's training needs certain employees may need extra training due to the hazards associated\n",
            "with their particular job these employees should be trained not only on how to perform their job safely but also on how\n",
            "to operate within a hazardous environment c identifying goals and xxxunk is important for the trainer to identify\n",
            "necessary training material it is equally important that the trainer identify training material that is not needed to\n",
            "avoid unnecessary training and frustration from their xxxunk at the beginning of every safety training session the\n",
            "trainer should clearly xxxunk the objectives of the class the objectives should be delivered using action oriented words\n",
            "like the employee will be able to demonstrate or will know when to which will help the audience understand what he she\n",
            "should know by the end of the class or what to information to assimilate during the class clearly established objectives\n",
            "also help focus the evaluation process on those skill sets and knowledge requirements necessary to perform the job\n",
            "safely d developing learning xxxunk should be hands on and simulate the job as closely as possible xxxunk can use\n",
            "instructional aids such as charts manuals xxxunk presentations and films xxxunk can also include role playing live\n",
            "demonstrations and round table group discussions to stimulate employee participation games like what's wrong with this\n",
            "picture it is usually good to use pictures of situations found at their specific location or safety xxxunk can be useful\n",
            "ways to make the training fun yet educational e conducting the xxxunk should provide employees with an overview of the\n",
            "material to be learned and relate the training to the employees' experiences employers should also reinforce what the\n",
            "employees have learned by summarizing the program's objectives and key points of training at the beginning of the\n",
            "training program the trainer should show the employees why the material is important and relevant to their jobs\n",
            "employees are more likely to pay attention and apply what they've learned if they know the benefits of the training f\n",
            "evaluating program xxxunk will help employers or supervisors determine the amount of learning achieved and whether an\n",
            "employee's performance has improved on the job among the methods of evaluating training are 1 student opinion\n",
            "questionnaires or informal discussions with employees can help employers determine the relevance and appropriateness of\n",
            "the training program 2 xxxunk observations supervisors are in good positions to observe an employee's performance both\n",
            "before and after the training and note improvements or changes 3 workplace improvements the ultimate success of a\n",
            "training program may be changes throughout the workplace that result in reduced injury or accident rates 4 formal\n",
            "assessments practical and written exams also assist in evaluating understanding of training material for example for a\n",
            "lift truck operator a written and a practical exam would identify areas of training that may need to be revisited\n",
            "furthermore administering a pre test and post test will establish a knowledge base line or reference point to measure\n",
            "training effectiveness g improving the xxxunk evaluations are reviewed it may be evident the training was not adequate\n",
            "and that the employees did not reach the expected level of knowledge and skill as the program is evaluated the trainer\n",
            "should ask 1 if a job analysis was conducted was it accurate 2 was any critical feature of the job overlooked 3 were the\n",
            "important gaps in knowledge and skill included 4 was material already known by the employees intentionally omitted 5\n",
            "were the instructional objectives presented clearly and xxxunk 6 did the objectives state the level of acceptable\n",
            "performance that was expected of employees 7 did the learning activity simulate the actual job 8 was the learning\n",
            "activity appropriate for the kinds of knowledge and skills required on the job 9 when the training was presented was the\n",
            "organization of the material and its meaning made clear 10 were the employees motivated to learn 11 were the employees\n",
            "allowed to participate actively in the training process 12 was the xxxunk evaluation of the program thorough computer\n",
            "and video training computers and videos can be a great addition to a company's safety training program as stand alone\n",
            "resources they may not be adequate in meeting osha's training requirements as they are not site specific computer based\n",
            "training can help meet the following training challenges training employees in remote sites employees who become xxxunk\n",
            "with the same safety training safety managers lack of time and resources to effectively train employees providing a\n",
            "means of documenting and tracking student progress lowering trainer fees or travel costs a self xxxunk relaxed learning\n",
            "environment osha medical safety there is no more important places to regard the positive impact the osha regulations\n",
            "than in the healthcare and clinical settings osha has been revolutionary in the medical field due to its ability to\n",
            "prevent the spread of diseases every clinical facility on us land civilian or military is governed by osha's directives\n",
            "to remain in accordance to the federal regulations enacted by osha healthcare administrators must maintain an osha\n",
            "safety program and train their employees on an annual basis some of the topics that employees must be trained on include\n",
            "xxxunk pathogen standard chemical hazard communications tuberculosis exposure control mercury exposure ionizing\n",
            "radiation exposure fire escape plan emergency action plan electricity safety fire safety standard see also department of\n",
            "public safety loss control consultant national safety council references\n",
            "\n",
            "Review #1319 - P:Cultures,A:Cultures\n",
            "xxxunk is the policy or process of supporting advocating or allowing the expression of the culture of a single social or\n",
            "ethnic group it generally stems from beliefs within the dominant group that their cultural practices are superior to\n",
            "those of minority groups and is similar to the concept of ethnocentrism which involves judging another culture usually\n",
            "an indigenous one based on the values and standards of one's own culture it may also involve the process of assimilation\n",
            "whereby other ethnic groups are expected to adopt the culture and practices of the dominant ethnic group xxxunk in the\n",
            "context of cultural diversity is the opposite of multiculturalism rather than the suppression of different ethnic groups\n",
            "within a given society sometimes xxxunk manifests as the active preservation of a country's national culture via the\n",
            "exclusion of external influences japan china south korea and north korea are examples of this form of xxxunk however it\n",
            "may also be the result of less intentional factors such as geographic isolation historical racial homogeneity or\n",
            "political isolation for instance some european countries such as finland poland and scandinavia are still effectively\n",
            "xxxunk because of the people's shared culture and ethnicity xxxunk xxxunk the idea of xxxunk can be expanded to that of\n",
            "ethnocentrism ethnocentrism is a belief that one's way of life is natural and valid such beliefs are likely to be\n",
            "prevalent among individuals and communities which have not been exposed to other cultures in depth colonialism might be\n",
            "described as an extreme form of ethnocentrism this occurs when one nation or society takes over or politically dominates\n",
            "another country and imposes its own natural and correct way of doing things on the other instances in genocide in many\n",
            "of the xxxunk practiced throughout history some of them were based on ethnic supremacy ethnic supremacy is assumed by\n",
            "one group within a culture following some distinct action by an external group or from one of the ethnic groups with\n",
            "european intervention in places like rwanda social institutions worked to socially construct an ethnic xxxunk\n",
            "distinguishing the xxxunk and xxxunk from one another and causing what would be one of the most xxxunk demonstrations of\n",
            "genocide in modern history a similar example to that of the xxxunk genocide was the ongoing civil war in burma the civil\n",
            "war spanned from a constitution that granted burma their independence from the british empire in which a group of\n",
            "leaders created conditions that didn't involve many of xxxunk ethnic minorities and xxxunk a fight from them many of\n",
            "these ethnic minorities in burma including the karen have been significantly displaced by the military xxxunk and placed\n",
            "into refugee camps in bordering nations the remaining ethnic minorities have been living in poor conditions and have\n",
            "been met by a variety of human rights abuses globalization globalization involves the free movement of goods capital\n",
            "services people technology and information throughout the world it also involves the international integration of\n",
            "potentially very different countries through the adoption of the same or similar world views ideologies and other\n",
            "aspects of culture xxxunk argues that this is xxxunk on a grand scale potentially it could lead to the suppression and\n",
            "loss of different ethnic cultures on a global scale see also criticism of multiculturalism cultural homogenization\n",
            "xxxunk references further reading xxxunk xxxunk 1996 explaining xxxunk beyond xxxunk theory of nationalism critical\n",
            "review a journal of politics and society 10 2 xxxunk doi 10 1080 xxxunk xxxunk xxxunk 2008 democracy nationalism and\n",
            "culture a social critique of liberal xxxunk sociology compass 2 1 xxxunk doi 10 1111 j xxxunk xxxunk 2007 xxxunk x\n",
            "\n"
          ],
          "name": "stdout"
        }
      ]
    },
    {
      "cell_type": "code",
      "metadata": {
        "id": "TKIf5FE-cL27",
        "colab_type": "code",
        "colab": {}
      },
      "source": [
        ""
      ],
      "execution_count": 0,
      "outputs": []
    },
    {
      "cell_type": "markdown",
      "metadata": {
        "id": "K7d8FZq9fb-h",
        "colab_type": "text"
      },
      "source": [
        "## Save the model"
      ]
    },
    {
      "cell_type": "code",
      "metadata": {
        "id": "9KHRZzFafeT7",
        "colab_type": "code",
        "colab": {}
      },
      "source": [
        "\n",
        "\n",
        "model_file = dataset_path+dataset_name+model_name+'.h5'\n",
        "model.save(model_file)"
      ],
      "execution_count": 0,
      "outputs": []
    },
    {
      "cell_type": "code",
      "metadata": {
        "id": "YhLAA2R1h45b",
        "colab_type": "code",
        "colab": {}
      },
      "source": [
        ""
      ],
      "execution_count": 0,
      "outputs": []
    }
  ]
}